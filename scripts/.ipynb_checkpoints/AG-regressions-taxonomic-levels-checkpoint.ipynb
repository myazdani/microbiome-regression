{
 "cells": [
  {
   "cell_type": "code",
   "execution_count": 2,
   "metadata": {
    "collapsed": false
   },
   "outputs": [],
   "source": [
    "import pandas as pd\n",
    "from sklearn.ensemble import RandomForestRegressor\n",
    "from sklearn import linear_model\n",
    "from sklearn.neighbors import KNeighborsRegressor\n",
    "from sklearn.cross_validation import train_test_split\n",
    "from sklearn.grid_search import GridSearchCV\n",
    "from sklearn import cross_validation\n",
    "import numpy as np\n",
    "from sklearn import metrics\n",
    "import matplotlib.pyplot as plt\n",
    "import os\n",
    "%matplotlib inline"
   ]
  },
  {
   "cell_type": "code",
   "execution_count": 3,
   "metadata": {
    "collapsed": false
   },
   "outputs": [
    {
     "name": "stdout",
     "output_type": "stream",
     "text": [
      "number of files is 3\n"
     ]
    }
   ],
   "source": [
    "src_path = '../data/AG/100nt/'\n",
    "file_types = ('.txt')\n",
    " \n",
    "file_paths = []  \n",
    "for root, dirs, files in os.walk(src_path):\n",
    "    file_paths.extend([os.path.join(root, f) for f in files if f.endswith(file_types)])\n",
    "    \n",
    "print 'number of files is', len(file_paths)"
   ]
  },
  {
   "cell_type": "code",
   "execution_count": 4,
   "metadata": {
    "collapsed": false
   },
   "outputs": [
    {
     "data": {
      "text/plain": [
       "['../data/AG/100nt/ag-cleaned_L2.txt',\n",
       " '../data/AG/100nt/ag-cleaned_L3.txt',\n",
       " '../data/AG/100nt/ag-cleaned_L6.txt']"
      ]
     },
     "execution_count": 4,
     "metadata": {},
     "output_type": "execute_result"
    }
   ],
   "source": [
    "file_paths"
   ]
  },
  {
   "cell_type": "code",
   "execution_count": 5,
   "metadata": {
    "collapsed": true
   },
   "outputs": [],
   "source": [
    "targets = [\"BMI_CORRECTED\", \"AGE_CORRECTED\"]\n",
    "\n",
    "biomarker = targets[0]"
   ]
  },
  {
   "cell_type": "code",
   "execution_count": null,
   "metadata": {
    "collapsed": true
   },
   "outputs": [],
   "source": [
    "RF_mean_scores = []\n",
    "RF_std_scores = []\n",
    "KNN_mean_scores = []\n",
    "KNN_std_scores = []\n",
    "\n",
    "for file_path in file_paths:\n",
    "    df = pd.read_table(file_Path)\n",
    "    df_rel = df[df[\"HMP_SITE\"] == \"FECAL\"]\n",
    "    df_rel[[biomarker]] = df_rel[[biomarker]].apply(lambda x: pd.to_numeric(x, errors = \"coerce\"))\n",
    "    df_clean = df_rel.dropna()\n",
    "\n",
    "    y = np.array(df_clean[biomarker])\n",
    "    X = np.array(df_clean.iloc[:,467:])\n",
    "    print \"y shape\", y.shape\n",
    "    print \"X shape\", X.shape\n",
    "    \n",
    "    \n",
    "    X_train = X[:int(.8*X.shape[0]),:] # use FIRST 80% of data as training set to test on 'future'\n",
    "    y_train = y[:int(.8*X.shape[0])]\n",
    "    X_test = X[int(.8*X.shape[0])+1:,:]\n",
    "    y_test = y[int(.8*X.shape[0])+1:]\n",
    "\n",
    "\n",
    "    RF = RandomForestRegressor(n_estimators=1000)\n",
    "    scores = -1*cross_validation.cross_val_score(RF, X, y, cv=10, scoring = 'mean_absolute_error')\n",
    "    RF_mean_scores.append(np.mean(scores))\n",
    "    RF_std_scores.append(np.std(scores))\n",
    "    \n",
    "    #KNN =  KNeighborsRegressor(n_neighbors=5)\n",
    "    KNN = GridSearchCV(estimator=KNeighborsRegressor(), param_grid=dict(n_neighbors=range(1,11)), n_jobs = -1, scoring = 'mean_absolute_error')\n",
    "    scores = -1*cross_validation.cross_val_score(KNN, X, y, cv=10, scoring = 'mean_absolute_error')\n",
    "    KNN_mean_scores.append(np.mean(scores))\n",
    "    KNN_std_scores.append(np.std(scores))    \n",
    "    \n",
    "print \"average y is:\", np.mean(y)\n",
    "print \"std y is:\", np.std(y)"
   ]
  },
  {
   "cell_type": "code",
   "execution_count": null,
   "metadata": {
    "collapsed": false
   },
   "outputs": [],
   "source": [
    "width = 12\n",
    "height = 6\n",
    "fig = plt.figure(figsize=(width, height))\n",
    "ax = fig.add_subplot(111)\n",
    "ax.set_title(biomarker)\n",
    "ax.set_xlabel('Taxonomic classification level')\n",
    "ax.set_ylabel('Mean absolute error (lower is better)')\n",
    "\n",
    "plt.errorbar(range(5), RF_mean_scores, yerr=np.array(RF_std_scores)/5., marker='s', c = \"b\", label = \"RF\", fmt='o')\n",
    "plt.errorbar(range(5), KNN_mean_scores, yerr=np.array(KNN_std_scores)/5., marker='o', c = \"r\", label = \"KNN\", fmt='o')\n",
    "plt.legend(loc='upper left')\n",
    "plt.xticks(range(5), ['L2: Phylum', 'L3: Class', 'L6: Genus'])"
   ]
  },
  {
   "cell_type": "code",
   "execution_count": null,
   "metadata": {
    "collapsed": true
   },
   "outputs": [],
   "source": []
  }
 ],
 "metadata": {
  "kernelspec": {
   "display_name": "Python 2",
   "language": "python",
   "name": "python2"
  },
  "language_info": {
   "codemirror_mode": {
    "name": "ipython",
    "version": 2
   },
   "file_extension": ".py",
   "mimetype": "text/x-python",
   "name": "python",
   "nbconvert_exporter": "python",
   "pygments_lexer": "ipython2",
   "version": "2.7.12"
  }
 },
 "nbformat": 4,
 "nbformat_minor": 0
}
