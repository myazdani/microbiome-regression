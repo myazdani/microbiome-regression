{
 "cells": [
  {
   "cell_type": "code",
   "execution_count": 1,
   "metadata": {
    "collapsed": false
   },
   "outputs": [
    {
     "name": "stderr",
     "output_type": "stream",
     "text": [
      "Vendor:  Continuum Analytics, Inc.\n",
      "Package: mkl\n",
      "Message: trial mode expires in 21 days\n"
     ]
    }
   ],
   "source": [
    "import pandas as pd\n",
    "from sklearn.ensemble import RandomForestRegressor\n",
    "from sklearn.cross_validation import train_test_split\n",
    "from sklearn import cross_validation\n",
    "import numpy as np\n",
    "from sklearn import metrics"
   ]
  },
  {
   "cell_type": "code",
   "execution_count": 2,
   "metadata": {
    "collapsed": false
   },
   "outputs": [
    {
     "name": "stdout",
     "output_type": "stream",
     "text": [
      "(9810, 527)\n"
     ]
    },
    {
     "name": "stderr",
     "output_type": "stream",
     "text": [
      "/Users/myazdaniUCSD/anaconda/lib/python2.7/site-packages/IPython/core/interactiveshell.py:2871: DtypeWarning: Columns (0,71) have mixed types. Specify dtype option on import or set low_memory=False.\n",
      "  interactivity=interactivity, compiler=compiler, result=result)\n"
     ]
    }
   ],
   "source": [
    "df = pd.read_table(\"/Users/myazdaniUCSD/Documents/OMI/illumina-16s/data/AG-data/100nt/ag-cleaned_L2.txt\")\n",
    "print df.shape"
   ]
  },
  {
   "cell_type": "code",
   "execution_count": 3,
   "metadata": {
    "collapsed": false
   },
   "outputs": [
    {
     "data": {
      "text/html": [
       "<div>\n",
       "<table border=\"1\" class=\"dataframe\">\n",
       "  <thead>\n",
       "    <tr style=\"text-align: right;\">\n",
       "      <th></th>\n",
       "      <th>HMP_SITE</th>\n",
       "      <th>k__Archaea;p__Crenarchaeota</th>\n",
       "      <th>k__Archaea;p__Euryarchaeota</th>\n",
       "      <th>k__Archaea;p__[Parvarchaeota]</th>\n",
       "      <th>k__Bacteria;p__</th>\n",
       "      <th>k__Bacteria;p__AD3</th>\n",
       "      <th>k__Bacteria;p__Acidobacteria</th>\n",
       "      <th>k__Bacteria;p__Actinobacteria</th>\n",
       "      <th>k__Bacteria;p__AncK6</th>\n",
       "      <th>k__Bacteria;p__Aquificae</th>\n",
       "      <th>...</th>\n",
       "      <th>k__Bacteria;p__Tenericutes</th>\n",
       "      <th>k__Bacteria;p__Thermotogae</th>\n",
       "      <th>k__Bacteria;p__Verrucomicrobia</th>\n",
       "      <th>k__Bacteria;p__WPS-2</th>\n",
       "      <th>k__Bacteria;p__WS2</th>\n",
       "      <th>k__Bacteria;p__WS3</th>\n",
       "      <th>k__Bacteria;p__WS4</th>\n",
       "      <th>k__Bacteria;p__ZB3</th>\n",
       "      <th>k__Bacteria;p__[Caldithrix]</th>\n",
       "      <th>k__Bacteria;p__[Thermi]</th>\n",
       "    </tr>\n",
       "  </thead>\n",
       "  <tbody>\n",
       "    <tr>\n",
       "      <th>0</th>\n",
       "      <td>FECAL</td>\n",
       "      <td>0.0</td>\n",
       "      <td>0.000000</td>\n",
       "      <td>0.0</td>\n",
       "      <td>0.0</td>\n",
       "      <td>0.0</td>\n",
       "      <td>0.000000</td>\n",
       "      <td>0.001832</td>\n",
       "      <td>0.0</td>\n",
       "      <td>0.0</td>\n",
       "      <td>...</td>\n",
       "      <td>0.000000</td>\n",
       "      <td>0.0</td>\n",
       "      <td>0.000000</td>\n",
       "      <td>0.0</td>\n",
       "      <td>0.0</td>\n",
       "      <td>0.0</td>\n",
       "      <td>0.0</td>\n",
       "      <td>0.0</td>\n",
       "      <td>0.0</td>\n",
       "      <td>0.000000</td>\n",
       "    </tr>\n",
       "    <tr>\n",
       "      <th>1</th>\n",
       "      <td>FECAL</td>\n",
       "      <td>0.0</td>\n",
       "      <td>0.000000</td>\n",
       "      <td>0.0</td>\n",
       "      <td>0.0</td>\n",
       "      <td>0.0</td>\n",
       "      <td>0.000000</td>\n",
       "      <td>0.001634</td>\n",
       "      <td>0.0</td>\n",
       "      <td>0.0</td>\n",
       "      <td>...</td>\n",
       "      <td>0.000050</td>\n",
       "      <td>0.0</td>\n",
       "      <td>0.000198</td>\n",
       "      <td>0.0</td>\n",
       "      <td>0.0</td>\n",
       "      <td>0.0</td>\n",
       "      <td>0.0</td>\n",
       "      <td>0.0</td>\n",
       "      <td>0.0</td>\n",
       "      <td>0.000000</td>\n",
       "    </tr>\n",
       "    <tr>\n",
       "      <th>2</th>\n",
       "      <td>FECAL</td>\n",
       "      <td>0.0</td>\n",
       "      <td>0.000000</td>\n",
       "      <td>0.0</td>\n",
       "      <td>0.0</td>\n",
       "      <td>0.0</td>\n",
       "      <td>0.000000</td>\n",
       "      <td>0.208809</td>\n",
       "      <td>0.0</td>\n",
       "      <td>0.0</td>\n",
       "      <td>...</td>\n",
       "      <td>0.000055</td>\n",
       "      <td>0.0</td>\n",
       "      <td>0.000111</td>\n",
       "      <td>0.0</td>\n",
       "      <td>0.0</td>\n",
       "      <td>0.0</td>\n",
       "      <td>0.0</td>\n",
       "      <td>0.0</td>\n",
       "      <td>0.0</td>\n",
       "      <td>0.000000</td>\n",
       "    </tr>\n",
       "    <tr>\n",
       "      <th>3</th>\n",
       "      <td>SKIN</td>\n",
       "      <td>0.0</td>\n",
       "      <td>0.000000</td>\n",
       "      <td>0.0</td>\n",
       "      <td>0.0</td>\n",
       "      <td>0.0</td>\n",
       "      <td>0.000753</td>\n",
       "      <td>0.630773</td>\n",
       "      <td>0.0</td>\n",
       "      <td>0.0</td>\n",
       "      <td>...</td>\n",
       "      <td>0.000000</td>\n",
       "      <td>0.0</td>\n",
       "      <td>0.000251</td>\n",
       "      <td>0.0</td>\n",
       "      <td>0.0</td>\n",
       "      <td>0.0</td>\n",
       "      <td>0.0</td>\n",
       "      <td>0.0</td>\n",
       "      <td>0.0</td>\n",
       "      <td>0.000251</td>\n",
       "    </tr>\n",
       "    <tr>\n",
       "      <th>4</th>\n",
       "      <td>FECAL</td>\n",
       "      <td>0.0</td>\n",
       "      <td>0.000065</td>\n",
       "      <td>0.0</td>\n",
       "      <td>0.0</td>\n",
       "      <td>0.0</td>\n",
       "      <td>0.000000</td>\n",
       "      <td>0.050539</td>\n",
       "      <td>0.0</td>\n",
       "      <td>0.0</td>\n",
       "      <td>...</td>\n",
       "      <td>0.009680</td>\n",
       "      <td>0.0</td>\n",
       "      <td>0.000923</td>\n",
       "      <td>0.0</td>\n",
       "      <td>0.0</td>\n",
       "      <td>0.0</td>\n",
       "      <td>0.0</td>\n",
       "      <td>0.0</td>\n",
       "      <td>0.0</td>\n",
       "      <td>0.000000</td>\n",
       "    </tr>\n",
       "  </tbody>\n",
       "</table>\n",
       "<p>5 rows × 61 columns</p>\n",
       "</div>"
      ],
      "text/plain": [
       "  HMP_SITE  k__Archaea;p__Crenarchaeota  k__Archaea;p__Euryarchaeota  \\\n",
       "0    FECAL                          0.0                     0.000000   \n",
       "1    FECAL                          0.0                     0.000000   \n",
       "2    FECAL                          0.0                     0.000000   \n",
       "3     SKIN                          0.0                     0.000000   \n",
       "4    FECAL                          0.0                     0.000065   \n",
       "\n",
       "   k__Archaea;p__[Parvarchaeota]  k__Bacteria;p__  k__Bacteria;p__AD3  \\\n",
       "0                            0.0              0.0                 0.0   \n",
       "1                            0.0              0.0                 0.0   \n",
       "2                            0.0              0.0                 0.0   \n",
       "3                            0.0              0.0                 0.0   \n",
       "4                            0.0              0.0                 0.0   \n",
       "\n",
       "   k__Bacteria;p__Acidobacteria  k__Bacteria;p__Actinobacteria  \\\n",
       "0                      0.000000                       0.001832   \n",
       "1                      0.000000                       0.001634   \n",
       "2                      0.000000                       0.208809   \n",
       "3                      0.000753                       0.630773   \n",
       "4                      0.000000                       0.050539   \n",
       "\n",
       "   k__Bacteria;p__AncK6  k__Bacteria;p__Aquificae           ...             \\\n",
       "0                   0.0                       0.0           ...              \n",
       "1                   0.0                       0.0           ...              \n",
       "2                   0.0                       0.0           ...              \n",
       "3                   0.0                       0.0           ...              \n",
       "4                   0.0                       0.0           ...              \n",
       "\n",
       "   k__Bacteria;p__Tenericutes  k__Bacteria;p__Thermotogae  \\\n",
       "0                    0.000000                         0.0   \n",
       "1                    0.000050                         0.0   \n",
       "2                    0.000055                         0.0   \n",
       "3                    0.000000                         0.0   \n",
       "4                    0.009680                         0.0   \n",
       "\n",
       "   k__Bacteria;p__Verrucomicrobia  k__Bacteria;p__WPS-2  k__Bacteria;p__WS2  \\\n",
       "0                        0.000000                   0.0                 0.0   \n",
       "1                        0.000198                   0.0                 0.0   \n",
       "2                        0.000111                   0.0                 0.0   \n",
       "3                        0.000251                   0.0                 0.0   \n",
       "4                        0.000923                   0.0                 0.0   \n",
       "\n",
       "   k__Bacteria;p__WS3  k__Bacteria;p__WS4  k__Bacteria;p__ZB3  \\\n",
       "0                 0.0                 0.0                 0.0   \n",
       "1                 0.0                 0.0                 0.0   \n",
       "2                 0.0                 0.0                 0.0   \n",
       "3                 0.0                 0.0                 0.0   \n",
       "4                 0.0                 0.0                 0.0   \n",
       "\n",
       "   k__Bacteria;p__[Caldithrix]  k__Bacteria;p__[Thermi]  \n",
       "0                          0.0                 0.000000  \n",
       "1                          0.0                 0.000000  \n",
       "2                          0.0                 0.000000  \n",
       "3                          0.0                 0.000251  \n",
       "4                          0.0                 0.000000  \n",
       "\n",
       "[5 rows x 61 columns]"
      ]
     },
     "execution_count": 3,
     "metadata": {},
     "output_type": "execute_result"
    }
   ],
   "source": [
    "df.iloc[:,466:].head()"
   ]
  },
  {
   "cell_type": "code",
   "execution_count": 4,
   "metadata": {
    "collapsed": false
   },
   "outputs": [
    {
     "name": "stdout",
     "output_type": "stream",
     "text": [
      "(8741, 527)\n"
     ]
    }
   ],
   "source": [
    "df_rel = df[df[\"HMP_SITE\"] == \"FECAL\"]\n",
    "print df_rel.shape"
   ]
  },
  {
   "cell_type": "code",
   "execution_count": 5,
   "metadata": {
    "collapsed": false
   },
   "outputs": [
    {
     "data": {
      "text/html": [
       "<div>\n",
       "<table border=\"1\" class=\"dataframe\">\n",
       "  <thead>\n",
       "    <tr style=\"text-align: right;\">\n",
       "      <th></th>\n",
       "      <th>HMP_SITE</th>\n",
       "      <th>k__Archaea;p__Crenarchaeota</th>\n",
       "      <th>k__Archaea;p__Euryarchaeota</th>\n",
       "      <th>k__Archaea;p__[Parvarchaeota]</th>\n",
       "      <th>k__Bacteria;p__</th>\n",
       "      <th>k__Bacteria;p__AD3</th>\n",
       "      <th>k__Bacteria;p__Acidobacteria</th>\n",
       "      <th>k__Bacteria;p__Actinobacteria</th>\n",
       "      <th>k__Bacteria;p__AncK6</th>\n",
       "      <th>k__Bacteria;p__Aquificae</th>\n",
       "      <th>...</th>\n",
       "      <th>k__Bacteria;p__Tenericutes</th>\n",
       "      <th>k__Bacteria;p__Thermotogae</th>\n",
       "      <th>k__Bacteria;p__Verrucomicrobia</th>\n",
       "      <th>k__Bacteria;p__WPS-2</th>\n",
       "      <th>k__Bacteria;p__WS2</th>\n",
       "      <th>k__Bacteria;p__WS3</th>\n",
       "      <th>k__Bacteria;p__WS4</th>\n",
       "      <th>k__Bacteria;p__ZB3</th>\n",
       "      <th>k__Bacteria;p__[Caldithrix]</th>\n",
       "      <th>k__Bacteria;p__[Thermi]</th>\n",
       "    </tr>\n",
       "  </thead>\n",
       "  <tbody>\n",
       "    <tr>\n",
       "      <th>0</th>\n",
       "      <td>FECAL</td>\n",
       "      <td>0.0</td>\n",
       "      <td>0.000000</td>\n",
       "      <td>0.0</td>\n",
       "      <td>0.0</td>\n",
       "      <td>0.0</td>\n",
       "      <td>0.0</td>\n",
       "      <td>0.001832</td>\n",
       "      <td>0.0</td>\n",
       "      <td>0.0</td>\n",
       "      <td>...</td>\n",
       "      <td>0.000000</td>\n",
       "      <td>0.0</td>\n",
       "      <td>0.000000</td>\n",
       "      <td>0.0</td>\n",
       "      <td>0.0</td>\n",
       "      <td>0.0</td>\n",
       "      <td>0.0</td>\n",
       "      <td>0.0</td>\n",
       "      <td>0.0</td>\n",
       "      <td>0.0</td>\n",
       "    </tr>\n",
       "    <tr>\n",
       "      <th>1</th>\n",
       "      <td>FECAL</td>\n",
       "      <td>0.0</td>\n",
       "      <td>0.000000</td>\n",
       "      <td>0.0</td>\n",
       "      <td>0.0</td>\n",
       "      <td>0.0</td>\n",
       "      <td>0.0</td>\n",
       "      <td>0.001634</td>\n",
       "      <td>0.0</td>\n",
       "      <td>0.0</td>\n",
       "      <td>...</td>\n",
       "      <td>0.000050</td>\n",
       "      <td>0.0</td>\n",
       "      <td>0.000198</td>\n",
       "      <td>0.0</td>\n",
       "      <td>0.0</td>\n",
       "      <td>0.0</td>\n",
       "      <td>0.0</td>\n",
       "      <td>0.0</td>\n",
       "      <td>0.0</td>\n",
       "      <td>0.0</td>\n",
       "    </tr>\n",
       "    <tr>\n",
       "      <th>2</th>\n",
       "      <td>FECAL</td>\n",
       "      <td>0.0</td>\n",
       "      <td>0.000000</td>\n",
       "      <td>0.0</td>\n",
       "      <td>0.0</td>\n",
       "      <td>0.0</td>\n",
       "      <td>0.0</td>\n",
       "      <td>0.208809</td>\n",
       "      <td>0.0</td>\n",
       "      <td>0.0</td>\n",
       "      <td>...</td>\n",
       "      <td>0.000055</td>\n",
       "      <td>0.0</td>\n",
       "      <td>0.000111</td>\n",
       "      <td>0.0</td>\n",
       "      <td>0.0</td>\n",
       "      <td>0.0</td>\n",
       "      <td>0.0</td>\n",
       "      <td>0.0</td>\n",
       "      <td>0.0</td>\n",
       "      <td>0.0</td>\n",
       "    </tr>\n",
       "    <tr>\n",
       "      <th>4</th>\n",
       "      <td>FECAL</td>\n",
       "      <td>0.0</td>\n",
       "      <td>0.000065</td>\n",
       "      <td>0.0</td>\n",
       "      <td>0.0</td>\n",
       "      <td>0.0</td>\n",
       "      <td>0.0</td>\n",
       "      <td>0.050539</td>\n",
       "      <td>0.0</td>\n",
       "      <td>0.0</td>\n",
       "      <td>...</td>\n",
       "      <td>0.009680</td>\n",
       "      <td>0.0</td>\n",
       "      <td>0.000923</td>\n",
       "      <td>0.0</td>\n",
       "      <td>0.0</td>\n",
       "      <td>0.0</td>\n",
       "      <td>0.0</td>\n",
       "      <td>0.0</td>\n",
       "      <td>0.0</td>\n",
       "      <td>0.0</td>\n",
       "    </tr>\n",
       "    <tr>\n",
       "      <th>6</th>\n",
       "      <td>FECAL</td>\n",
       "      <td>0.0</td>\n",
       "      <td>0.000000</td>\n",
       "      <td>0.0</td>\n",
       "      <td>0.0</td>\n",
       "      <td>0.0</td>\n",
       "      <td>0.0</td>\n",
       "      <td>0.021245</td>\n",
       "      <td>0.0</td>\n",
       "      <td>0.0</td>\n",
       "      <td>...</td>\n",
       "      <td>0.000253</td>\n",
       "      <td>0.0</td>\n",
       "      <td>0.041756</td>\n",
       "      <td>0.0</td>\n",
       "      <td>0.0</td>\n",
       "      <td>0.0</td>\n",
       "      <td>0.0</td>\n",
       "      <td>0.0</td>\n",
       "      <td>0.0</td>\n",
       "      <td>0.0</td>\n",
       "    </tr>\n",
       "  </tbody>\n",
       "</table>\n",
       "<p>5 rows × 61 columns</p>\n",
       "</div>"
      ],
      "text/plain": [
       "  HMP_SITE  k__Archaea;p__Crenarchaeota  k__Archaea;p__Euryarchaeota  \\\n",
       "0    FECAL                          0.0                     0.000000   \n",
       "1    FECAL                          0.0                     0.000000   \n",
       "2    FECAL                          0.0                     0.000000   \n",
       "4    FECAL                          0.0                     0.000065   \n",
       "6    FECAL                          0.0                     0.000000   \n",
       "\n",
       "   k__Archaea;p__[Parvarchaeota]  k__Bacteria;p__  k__Bacteria;p__AD3  \\\n",
       "0                            0.0              0.0                 0.0   \n",
       "1                            0.0              0.0                 0.0   \n",
       "2                            0.0              0.0                 0.0   \n",
       "4                            0.0              0.0                 0.0   \n",
       "6                            0.0              0.0                 0.0   \n",
       "\n",
       "   k__Bacteria;p__Acidobacteria  k__Bacteria;p__Actinobacteria  \\\n",
       "0                           0.0                       0.001832   \n",
       "1                           0.0                       0.001634   \n",
       "2                           0.0                       0.208809   \n",
       "4                           0.0                       0.050539   \n",
       "6                           0.0                       0.021245   \n",
       "\n",
       "   k__Bacteria;p__AncK6  k__Bacteria;p__Aquificae           ...             \\\n",
       "0                   0.0                       0.0           ...              \n",
       "1                   0.0                       0.0           ...              \n",
       "2                   0.0                       0.0           ...              \n",
       "4                   0.0                       0.0           ...              \n",
       "6                   0.0                       0.0           ...              \n",
       "\n",
       "   k__Bacteria;p__Tenericutes  k__Bacteria;p__Thermotogae  \\\n",
       "0                    0.000000                         0.0   \n",
       "1                    0.000050                         0.0   \n",
       "2                    0.000055                         0.0   \n",
       "4                    0.009680                         0.0   \n",
       "6                    0.000253                         0.0   \n",
       "\n",
       "   k__Bacteria;p__Verrucomicrobia  k__Bacteria;p__WPS-2  k__Bacteria;p__WS2  \\\n",
       "0                        0.000000                   0.0                 0.0   \n",
       "1                        0.000198                   0.0                 0.0   \n",
       "2                        0.000111                   0.0                 0.0   \n",
       "4                        0.000923                   0.0                 0.0   \n",
       "6                        0.041756                   0.0                 0.0   \n",
       "\n",
       "   k__Bacteria;p__WS3  k__Bacteria;p__WS4  k__Bacteria;p__ZB3  \\\n",
       "0                 0.0                 0.0                 0.0   \n",
       "1                 0.0                 0.0                 0.0   \n",
       "2                 0.0                 0.0                 0.0   \n",
       "4                 0.0                 0.0                 0.0   \n",
       "6                 0.0                 0.0                 0.0   \n",
       "\n",
       "   k__Bacteria;p__[Caldithrix]  k__Bacteria;p__[Thermi]  \n",
       "0                          0.0                      0.0  \n",
       "1                          0.0                      0.0  \n",
       "2                          0.0                      0.0  \n",
       "4                          0.0                      0.0  \n",
       "6                          0.0                      0.0  \n",
       "\n",
       "[5 rows x 61 columns]"
      ]
     },
     "execution_count": 5,
     "metadata": {},
     "output_type": "execute_result"
    }
   ],
   "source": [
    "df_rel.iloc[:,466:].head()"
   ]
  },
  {
   "cell_type": "code",
   "execution_count": 6,
   "metadata": {
    "collapsed": false
   },
   "outputs": [
    {
     "name": "stderr",
     "output_type": "stream",
     "text": [
      "/Users/myazdaniUCSD/anaconda/lib/python2.7/site-packages/pandas/core/frame.py:2378: SettingWithCopyWarning: \n",
      "A value is trying to be set on a copy of a slice from a DataFrame.\n",
      "Try using .loc[row_indexer,col_indexer] = value instead\n",
      "\n",
      "See the caveats in the documentation: http://pandas.pydata.org/pandas-docs/stable/indexing.html#indexing-view-versus-copy\n",
      "  self[k1] = value[k2]\n"
     ]
    }
   ],
   "source": [
    "df_rel[[\"BMI_CORRECTED\"]] = df_rel[[\"BMI_CORRECTED\"]].apply(lambda x: pd.to_numeric(x, errors = \"coerce\"))"
   ]
  },
  {
   "cell_type": "code",
   "execution_count": 7,
   "metadata": {
    "collapsed": false
   },
   "outputs": [
    {
     "name": "stdout",
     "output_type": "stream",
     "text": [
      "(1779, 527)\n"
     ]
    }
   ],
   "source": [
    "df_clean = df_rel.dropna()\n",
    "print df_clean.shape"
   ]
  },
  {
   "cell_type": "code",
   "execution_count": 8,
   "metadata": {
    "collapsed": false
   },
   "outputs": [
    {
     "data": {
      "text/plain": [
       "count    1779.000000\n",
       "mean       23.288702\n",
       "std         5.343387\n",
       "min         9.630000\n",
       "25%        20.180000\n",
       "50%        22.830000\n",
       "75%        25.830000\n",
       "max        59.880000\n",
       "Name: BMI_CORRECTED, dtype: float64"
      ]
     },
     "execution_count": 8,
     "metadata": {},
     "output_type": "execute_result"
    }
   ],
   "source": [
    "df_clean[\"BMI_CORRECTED\"].describe()"
   ]
  },
  {
   "cell_type": "code",
   "execution_count": 9,
   "metadata": {
    "collapsed": false
   },
   "outputs": [],
   "source": [
    "y = np.array(df_clean[\"BMI_CORRECTED\"])\n",
    "X = np.array(df_clean.iloc[:,467:])\n",
    "\n",
    "X_train, X_test, y_train, y_test = train_test_split(X, y, test_size=0.25, random_state=42)"
   ]
  },
  {
   "cell_type": "code",
   "execution_count": null,
   "metadata": {
    "collapsed": false
   },
   "outputs": [],
   "source": [
    "RF = RandomForestRegressor(n_estimators=1000)\n",
    "RF.fit(X_train, y_train)"
   ]
  },
  {
   "cell_type": "code",
   "execution_count": null,
   "metadata": {
    "collapsed": false
   },
   "outputs": [],
   "source": [
    "RF.score(X_train, y_train)"
   ]
  },
  {
   "cell_type": "code",
   "execution_count": null,
   "metadata": {
    "collapsed": false
   },
   "outputs": [],
   "source": [
    "RF.score(X_test, y_test)"
   ]
  },
  {
   "cell_type": "code",
   "execution_count": null,
   "metadata": {
    "collapsed": true
   },
   "outputs": [],
   "source": [
    "scores = -1*cross_validation.cross_val_score(RF, X, y, cv=5, scoring = 'mean_absolute_error')"
   ]
  },
  {
   "cell_type": "code",
   "execution_count": null,
   "metadata": {
    "collapsed": false
   },
   "outputs": [],
   "source": [
    "np.mean(scores)"
   ]
  },
  {
   "cell_type": "markdown",
   "metadata": {},
   "source": [
    "## Age classification"
   ]
  },
  {
   "cell_type": "code",
   "execution_count": 15,
   "metadata": {
    "collapsed": false
   },
   "outputs": [
    {
     "name": "stderr",
     "output_type": "stream",
     "text": [
      "/Users/myazdaniUCSD/anaconda/lib/python2.7/site-packages/IPython/kernel/__main__.py:1: SettingWithCopyWarning: \n",
      "A value is trying to be set on a copy of a slice from a DataFrame.\n",
      "Try using .loc[row_indexer,col_indexer] = value instead\n",
      "\n",
      "See the caveats in the documentation: http://pandas.pydata.org/pandas-docs/stable/indexing.html#indexing-view-versus-copy\n",
      "  if __name__ == '__main__':\n",
      "/Users/myazdaniUCSD/anaconda/lib/python2.7/site-packages/pandas/core/indexing.py:465: SettingWithCopyWarning: \n",
      "A value is trying to be set on a copy of a slice from a DataFrame.\n",
      "Try using .loc[row_indexer,col_indexer] = value instead\n",
      "\n",
      "See the caveats in the documentation: http://pandas.pydata.org/pandas-docs/stable/indexing.html#indexing-view-versus-copy\n",
      "  self.obj[item] = s\n",
      "/Users/myazdaniUCSD/anaconda/lib/python2.7/site-packages/numpy/lib/function_base.py:3834: RuntimeWarning: Invalid value encountered in percentile\n",
      "  RuntimeWarning)\n"
     ]
    },
    {
     "data": {
      "text/plain": [
       "count    8173.000000\n",
       "mean       46.071088\n",
       "std        17.118042\n",
       "min         1.000000\n",
       "25%              NaN\n",
       "50%              NaN\n",
       "75%              NaN\n",
       "max       101.000000\n",
       "Name: AGE_CORRECTED, dtype: float64"
      ]
     },
     "execution_count": 15,
     "metadata": {},
     "output_type": "execute_result"
    }
   ],
   "source": [
    "df_rel[[\"AGE_CORRECTED\"]] = df_rel[\"AGE_CORRECTED\"].apply(lambda x: pd.to_numeric(x, errors = \"coerce\"))\n",
    "df_rel[\"AGE_CORRECTED\"].describe()"
   ]
  },
  {
   "cell_type": "code",
   "execution_count": 16,
   "metadata": {
    "collapsed": false
   },
   "outputs": [
    {
     "name": "stdout",
     "output_type": "stream",
     "text": [
      "(1613, 527)\n"
     ]
    }
   ],
   "source": [
    "df_clean = df_rel.dropna()\n",
    "print df_clean.shape"
   ]
  },
  {
   "cell_type": "code",
   "execution_count": 17,
   "metadata": {
    "collapsed": true
   },
   "outputs": [],
   "source": [
    "y = np.array(df_clean[\"AGE_CORRECTED\"])\n",
    "X = np.array(df_clean.iloc[:,467:])\n",
    "\n",
    "X_train, X_test, y_train, y_test = train_test_split(X, y, test_size=0.25, random_state=42)"
   ]
  },
  {
   "cell_type": "code",
   "execution_count": 22,
   "metadata": {
    "collapsed": false
   },
   "outputs": [
    {
     "data": {
      "text/plain": [
       "RandomForestRegressor(bootstrap=True, criterion='mse', max_depth=None,\n",
       "           max_features='auto', max_leaf_nodes=None, min_samples_leaf=1,\n",
       "           min_samples_split=2, min_weight_fraction_leaf=0.0,\n",
       "           n_estimators=1000, n_jobs=1, oob_score=False, random_state=None,\n",
       "           verbose=0, warm_start=False)"
      ]
     },
     "execution_count": 22,
     "metadata": {},
     "output_type": "execute_result"
    }
   ],
   "source": [
    "RF = RandomForestRegressor(n_estimators=1000)\n",
    "RF.fit(X_train, y_train)"
   ]
  },
  {
   "cell_type": "code",
   "execution_count": 23,
   "metadata": {
    "collapsed": false
   },
   "outputs": [
    {
     "data": {
      "text/plain": [
       "0.85426970458753315"
      ]
     },
     "execution_count": 23,
     "metadata": {},
     "output_type": "execute_result"
    }
   ],
   "source": [
    "RF.score(X_train, y_train)"
   ]
  },
  {
   "cell_type": "code",
   "execution_count": null,
   "metadata": {
    "collapsed": false
   },
   "outputs": [
    {
     "data": {
      "text/plain": [
       "0.12038880003597874"
      ]
     },
     "execution_count": 24,
     "metadata": {},
     "output_type": "execute_result"
    }
   ],
   "source": [
    "RF.score(X_test, y_test)"
   ]
  },
  {
   "cell_type": "code",
   "execution_count": null,
   "metadata": {
    "collapsed": true
   },
   "outputs": [],
   "source": [
    "scores = -1*cross_validation.cross_val_score(RF, X, y, cv=5, scoring = 'mean_absolute_error')"
   ]
  },
  {
   "cell_type": "code",
   "execution_count": null,
   "metadata": {
    "collapsed": false
   },
   "outputs": [],
   "source": [
    "scores"
   ]
  },
  {
   "cell_type": "code",
   "execution_count": null,
   "metadata": {
    "collapsed": true
   },
   "outputs": [],
   "source": []
  }
 ],
 "metadata": {
  "kernelspec": {
   "display_name": "Python 2",
   "language": "python",
   "name": "python2"
  },
  "language_info": {
   "codemirror_mode": {
    "name": "ipython",
    "version": 2
   },
   "file_extension": ".py",
   "mimetype": "text/x-python",
   "name": "python",
   "nbconvert_exporter": "python",
   "pygments_lexer": "ipython2",
   "version": "2.7.12"
  }
 },
 "nbformat": 4,
 "nbformat_minor": 0
}
