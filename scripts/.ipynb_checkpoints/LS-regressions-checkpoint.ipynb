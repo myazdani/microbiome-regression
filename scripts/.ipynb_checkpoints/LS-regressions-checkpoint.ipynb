{
 "cells": [
  {
   "cell_type": "code",
   "execution_count": 1,
   "metadata": {
    "collapsed": false
   },
   "outputs": [
    {
     "name": "stderr",
     "output_type": "stream",
     "text": [
      "Vendor:  Continuum Analytics, Inc.\n",
      "Package: mkl\n",
      "Message: trial mode expires in 21 days\n"
     ]
    }
   ],
   "source": [
    "import pandas as pd\n",
    "from sklearn.ensemble import RandomForestRegressor\n",
    "from sklearn.cross_validation import train_test_split\n",
    "from sklearn import cross_validation\n",
    "import numpy as np\n",
    "from sklearn import metrics"
   ]
  },
  {
   "cell_type": "code",
   "execution_count": 4,
   "metadata": {
    "collapsed": false
   },
   "outputs": [
    {
     "name": "stdout",
     "output_type": "stream",
     "text": [
      "(39, 250)\n"
     ]
    }
   ],
   "source": [
    "df = pd.read_csv(\"../data/LS-L6-biomarkers.csv\")\n",
    "print df.shape"
   ]
  },
  {
   "cell_type": "code",
   "execution_count": 7,
   "metadata": {
    "collapsed": false
   },
   "outputs": [
    {
     "data": {
      "text/plain": [
       "['microbiome.date',\n",
       " 'Date.collected',\n",
       " 'X',\n",
       " 'LDL..Low.Density.Lipoprotein...bad.',\n",
       " 'HDL..High.Density.Lipoprotein...good.',\n",
       " 'Total.Cholesterol',\n",
       " 'Triglycerides',\n",
       " 'TG.HDL',\n",
       " 'Chol.HDL',\n",
       " 'High.Sensitivity.CRP..mg.L.',\n",
       " 'Sodium',\n",
       " 'Potassium',\n",
       " 'Chlorine',\n",
       " 'Calcium',\n",
       " 'Bicarbonate',\n",
       " 'Albumin',\n",
       " 'Total.Protein',\n",
       " 'ALT',\n",
       " 'AST',\n",
       " 'AST.ALT.ratio',\n",
       " 'Alkaline.phosphatase',\n",
       " 'Total.Bilirubin',\n",
       " 'Blood.Urea.Nitrogen',\n",
       " 'Creatinine',\n",
       " 'BUN.Creatinine.Ratio',\n",
       " 'Fasting.Glucose',\n",
       " 'Insulin',\n",
       " 'HEMOGLOBIN.A1C',\n",
       " 'Iron',\n",
       " 'Ferritin',\n",
       " 'RBC.',\n",
       " 'HGB.',\n",
       " 'HCT',\n",
       " 'PLT.',\n",
       " 'MCV.',\n",
       " 'MCH',\n",
       " 'MCHC.',\n",
       " 'RDW',\n",
       " 'WBC.',\n",
       " 'NEU..',\n",
       " 'EOS..',\n",
       " 'LYM..',\n",
       " 'MONO..',\n",
       " 'BASO..',\n",
       " 'Neutrophil.Count',\n",
       " 'Lymphocyte.Count',\n",
       " 'Monocyte.Count',\n",
       " 'Esoinophil.Count',\n",
       " 'Vitamin.D3',\n",
       " 'Vitamin..B12',\n",
       " 'Stool.Calprotectin',\n",
       " 'Stool.Lysozyme',\n",
       " 'Stool.Lactoferrin',\n",
       " 'Stool.SIgA',\n",
       " 'X..SCFA.Acetate',\n",
       " 'X..SCFA.Propionate',\n",
       " 'X..SCFA.Valerate',\n",
       " 'X..SCFA.Butyrate',\n",
       " 'Total.SCFA',\n",
       " 'Butyrate',\n",
       " 'Stool.pH',\n",
       " 'sample.id',\n",
       " 'day',\n",
       " 'g__Methanobrevibacter',\n",
       " 'g__Methanosphaera',\n",
       " 'g__',\n",
       " 'g__.1',\n",
       " 'g__Actinomyces',\n",
       " 'g__Varibaculum',\n",
       " 'g__.2',\n",
       " 'g__Corynebacterium',\n",
       " 'g__Blastococcus',\n",
       " 'g__.3',\n",
       " 'g__Rothia',\n",
       " 'g__Rhodococcus',\n",
       " 'g__Propionibacterium',\n",
       " 'g__.4',\n",
       " 'g__Alloscardovia',\n",
       " 'g__Bifidobacterium',\n",
       " 'g__.5',\n",
       " 'g__Adlercreutzia',\n",
       " 'g__Atopobium',\n",
       " 'g__Collinsella',\n",
       " 'g__Eggerthella',\n",
       " 'g__Slackia',\n",
       " 'g__.6',\n",
       " 'g__5.7N15',\n",
       " 'g__Bacteroides',\n",
       " 'g__Parabacteroides',\n",
       " 'g__Porphyromonas',\n",
       " 'g__Prevotella',\n",
       " 'g__.7',\n",
       " 'g__Alistipes',\n",
       " 'g__.8',\n",
       " 'g__.9',\n",
       " 'g__Butyricimonas',\n",
       " 'g__Odoribacter',\n",
       " 'g__Paraprevotella',\n",
       " 'g__YRC22',\n",
       " 'g__.Prevotella.',\n",
       " 'g__.10',\n",
       " 'g__Cloacibacterium',\n",
       " 'g__.11',\n",
       " 'g__.12',\n",
       " 'g__.13',\n",
       " 'g__.14',\n",
       " 'g__.15',\n",
       " 'g__Bacillus',\n",
       " 'g__Paenibacillus',\n",
       " 'g__.16',\n",
       " 'g__Lysinibacillus',\n",
       " 'g__Rummeliibacillus',\n",
       " 'g__Sporosarcina',\n",
       " 'g__Staphylococcus',\n",
       " 'g__.17',\n",
       " 'g__Granulicatella',\n",
       " 'g__Enterococcus',\n",
       " 'g__Vagococcus',\n",
       " 'g__.18',\n",
       " 'g__Lactobacillus',\n",
       " 'g__Pediococcus',\n",
       " 'g__.19',\n",
       " 'g__Leuconostoc',\n",
       " 'g__Lactococcus',\n",
       " 'g__Streptococcus',\n",
       " 'g__Turicibacter',\n",
       " 'g__.20',\n",
       " 'g__.21',\n",
       " 'g__Christensenella',\n",
       " 'g__.22',\n",
       " 'g__02d06',\n",
       " 'g__Clostridium',\n",
       " 'g__SMB53',\n",
       " 'g__Sarcina',\n",
       " 'g__Dehalobacterium',\n",
       " 'g__.23',\n",
       " 'g__Pseudoramibacter_Eubacterium',\n",
       " 'g__.24',\n",
       " 'g__Anaerostipes',\n",
       " 'g__Blautia',\n",
       " 'g__Coprococcus',\n",
       " 'g__Dorea',\n",
       " 'g__Lachnobacterium',\n",
       " 'g__Lachnospira',\n",
       " 'g__Moryella',\n",
       " 'g__Oribacterium',\n",
       " 'g__Roseburia',\n",
       " 'g__Ruminococcus',\n",
       " 'g__.Ruminococcus.',\n",
       " 'g__.25',\n",
       " 'g__Peptococcus',\n",
       " 'g__rc4.4',\n",
       " 'g__.26',\n",
       " 'g__.27',\n",
       " 'g__Anaerotruncus',\n",
       " 'g__Clostridium.1',\n",
       " 'g__Faecalibacterium',\n",
       " 'g__Oscillospira',\n",
       " 'g__Ruminococcus.1',\n",
       " 'g__.28',\n",
       " 'g__Anaerovibrio',\n",
       " 'g__Dialister',\n",
       " 'g__Megamonas',\n",
       " 'g__Megasphaera',\n",
       " 'g__Phascolarctobacterium',\n",
       " 'g__Veillonella',\n",
       " 'g__.29',\n",
       " 'g__Mogibacterium',\n",
       " 'g__Anaerococcus',\n",
       " 'g__Finegoldia',\n",
       " 'g__Parvimonas',\n",
       " 'g__Peptoniphilus',\n",
       " 'g__WAL_1855D',\n",
       " 'g__ph2',\n",
       " 'g__.30',\n",
       " 'g__.31',\n",
       " 'g__Bulleidia',\n",
       " 'g__Catenibacterium',\n",
       " 'g__Clostridium.2',\n",
       " 'g__Coprobacillus',\n",
       " 'g__Holdemania',\n",
       " 'g__RFN20',\n",
       " 'g__.Eubacterium.',\n",
       " 'g__cc_115',\n",
       " 'g__Fusobacterium',\n",
       " 'g__Leptotrichia',\n",
       " 'g__.32',\n",
       " 'g__Victivallis',\n",
       " 'g__.33',\n",
       " 'g__Bosea',\n",
       " 'g__Phyllobacterium',\n",
       " 'g__Carludovica',\n",
       " 'g__Raphanus',\n",
       " 'g__.34',\n",
       " 'g__.35',\n",
       " 'g__.36',\n",
       " 'g__Sutterella',\n",
       " 'g__.37',\n",
       " 'g__Alicycliphilus',\n",
       " 'g__Comamonas',\n",
       " 'g__Limnohabitans',\n",
       " 'g__.38',\n",
       " 'g__Cupriavidus',\n",
       " 'g__Herminiimonas',\n",
       " 'g__Oxalobacter',\n",
       " 'g__Ralstonia',\n",
       " 'g__.39',\n",
       " 'g__Conchiformibius',\n",
       " 'g__Neisseria',\n",
       " 'g__.40',\n",
       " 'g__Dechloromonas',\n",
       " 'g__.41',\n",
       " 'g__Bilophila',\n",
       " 'g__Desulfovibrio',\n",
       " 'g__.42',\n",
       " 'g__Campylobacter',\n",
       " 'g__.43',\n",
       " 'g__Succinivibrio',\n",
       " 'g__Cardiobacterium',\n",
       " 'g__.44',\n",
       " 'g__Aquamonas',\n",
       " 'g__Enterobacter',\n",
       " 'g__Erwinia',\n",
       " 'g__Escherichia',\n",
       " 'g__Klebsiella',\n",
       " 'g__Leminorella',\n",
       " 'g__Morganella',\n",
       " 'g__Plesiomonas',\n",
       " 'g__Proteus',\n",
       " 'g__Providencia',\n",
       " 'g__Raoultella',\n",
       " 'g__Salmonella',\n",
       " 'g__Serratia',\n",
       " 'g__Legionella',\n",
       " 'g__.45',\n",
       " 'g__Aggregatibacter',\n",
       " 'g__Haemophilus',\n",
       " 'g__.46',\n",
       " 'g__Acinetobacter',\n",
       " 'g__Psychrobacter',\n",
       " 'g__Pseudomonas',\n",
       " 'g__.47',\n",
       " 'g__Pseudoxanthomonas',\n",
       " 'g__Stenotrophomonas',\n",
       " 'g__Pyramidobacter',\n",
       " 'g__Synergistes',\n",
       " 'g__.48',\n",
       " 'g__.49',\n",
       " 'g__.50',\n",
       " 'g__Akkermansia']"
      ]
     },
     "execution_count": 7,
     "metadata": {},
     "output_type": "execute_result"
    }
   ],
   "source": [
    "list(df.columns)"
   ]
  },
  {
   "cell_type": "code",
   "execution_count": 11,
   "metadata": {
    "collapsed": false
   },
   "outputs": [
    {
     "name": "stdout",
     "output_type": "stream",
     "text": [
      "target index: [30]\n",
      "microbiome starting index: [63]\n"
     ]
    }
   ],
   "source": [
    "column_names = list(df.columns)\n",
    "target_indx = [i for i, column_name in enumerate(column_names) if column_name == \"RBC.\"]\n",
    "microbiome_indx = [i for i, column_name in enumerate(column_names) if column_name == 'g__Methanobrevibacter']\n",
    "print \"target index:\", target_indx\n",
    "print \"microbiome starting index:\", microbiome_indx"
   ]
  },
  {
   "cell_type": "code",
   "execution_count": 27,
   "metadata": {
    "collapsed": false
   },
   "outputs": [
    {
     "data": {
      "text/plain": [
       "[30,\n",
       " 63,\n",
       " 64,\n",
       " 65,\n",
       " 66,\n",
       " 67,\n",
       " 68,\n",
       " 69,\n",
       " 70,\n",
       " 71,\n",
       " 72,\n",
       " 73,\n",
       " 74,\n",
       " 75,\n",
       " 76,\n",
       " 77,\n",
       " 78,\n",
       " 79,\n",
       " 80,\n",
       " 81,\n",
       " 82,\n",
       " 83,\n",
       " 84,\n",
       " 85,\n",
       " 86,\n",
       " 87,\n",
       " 88,\n",
       " 89,\n",
       " 90,\n",
       " 91,\n",
       " 92,\n",
       " 93,\n",
       " 94,\n",
       " 95,\n",
       " 96,\n",
       " 97,\n",
       " 98,\n",
       " 99,\n",
       " 100,\n",
       " 101,\n",
       " 102,\n",
       " 103,\n",
       " 104,\n",
       " 105,\n",
       " 106,\n",
       " 107,\n",
       " 108,\n",
       " 109,\n",
       " 110,\n",
       " 111,\n",
       " 112,\n",
       " 113,\n",
       " 114,\n",
       " 115,\n",
       " 116,\n",
       " 117,\n",
       " 118,\n",
       " 119,\n",
       " 120,\n",
       " 121,\n",
       " 122,\n",
       " 123,\n",
       " 124,\n",
       " 125,\n",
       " 126,\n",
       " 127,\n",
       " 128,\n",
       " 129,\n",
       " 130,\n",
       " 131,\n",
       " 132,\n",
       " 133,\n",
       " 134,\n",
       " 135,\n",
       " 136,\n",
       " 137,\n",
       " 138,\n",
       " 139,\n",
       " 140,\n",
       " 141,\n",
       " 142,\n",
       " 143,\n",
       " 144,\n",
       " 145,\n",
       " 146,\n",
       " 147,\n",
       " 148,\n",
       " 149,\n",
       " 150,\n",
       " 151,\n",
       " 152,\n",
       " 153,\n",
       " 154,\n",
       " 155,\n",
       " 156,\n",
       " 157,\n",
       " 158,\n",
       " 159,\n",
       " 160,\n",
       " 161,\n",
       " 162,\n",
       " 163,\n",
       " 164,\n",
       " 165,\n",
       " 166,\n",
       " 167,\n",
       " 168,\n",
       " 169,\n",
       " 170,\n",
       " 171,\n",
       " 172,\n",
       " 173,\n",
       " 174,\n",
       " 175,\n",
       " 176,\n",
       " 177,\n",
       " 178,\n",
       " 179,\n",
       " 180,\n",
       " 181,\n",
       " 182,\n",
       " 183,\n",
       " 184,\n",
       " 185,\n",
       " 186,\n",
       " 187,\n",
       " 188,\n",
       " 189,\n",
       " 190,\n",
       " 191,\n",
       " 192,\n",
       " 193,\n",
       " 194,\n",
       " 195,\n",
       " 196,\n",
       " 197,\n",
       " 198,\n",
       " 199,\n",
       " 200,\n",
       " 201,\n",
       " 202,\n",
       " 203,\n",
       " 204,\n",
       " 205,\n",
       " 206,\n",
       " 207,\n",
       " 208,\n",
       " 209,\n",
       " 210,\n",
       " 211,\n",
       " 212,\n",
       " 213,\n",
       " 214,\n",
       " 215,\n",
       " 216,\n",
       " 217,\n",
       " 218,\n",
       " 219,\n",
       " 220,\n",
       " 221,\n",
       " 222,\n",
       " 223,\n",
       " 224,\n",
       " 225,\n",
       " 226,\n",
       " 227,\n",
       " 228,\n",
       " 229,\n",
       " 230,\n",
       " 231,\n",
       " 232,\n",
       " 233,\n",
       " 234,\n",
       " 235,\n",
       " 236,\n",
       " 237,\n",
       " 238,\n",
       " 239,\n",
       " 240,\n",
       " 241,\n",
       " 242,\n",
       " 243,\n",
       " 244,\n",
       " 245,\n",
       " 246,\n",
       " 247,\n",
       " 248,\n",
       " 249]"
      ]
     },
     "execution_count": 27,
     "metadata": {},
     "output_type": "execute_result"
    }
   ],
   "source": []
  },
  {
   "cell_type": "code",
   "execution_count": 28,
   "metadata": {
    "collapsed": false
   },
   "outputs": [
    {
     "data": {
      "text/html": [
       "<div>\n",
       "<table border=\"1\" class=\"dataframe\">\n",
       "  <thead>\n",
       "    <tr style=\"text-align: right;\">\n",
       "      <th></th>\n",
       "      <th>RBC.</th>\n",
       "      <th>g__Methanobrevibacter</th>\n",
       "      <th>g__Methanosphaera</th>\n",
       "      <th>g__</th>\n",
       "      <th>g__.1</th>\n",
       "      <th>g__Actinomyces</th>\n",
       "      <th>g__Varibaculum</th>\n",
       "      <th>g__.2</th>\n",
       "      <th>g__Corynebacterium</th>\n",
       "      <th>g__Blastococcus</th>\n",
       "      <th>...</th>\n",
       "      <th>g__Pseudomonas</th>\n",
       "      <th>g__.47</th>\n",
       "      <th>g__Pseudoxanthomonas</th>\n",
       "      <th>g__Stenotrophomonas</th>\n",
       "      <th>g__Pyramidobacter</th>\n",
       "      <th>g__Synergistes</th>\n",
       "      <th>g__.48</th>\n",
       "      <th>g__.49</th>\n",
       "      <th>g__.50</th>\n",
       "      <th>g__Akkermansia</th>\n",
       "    </tr>\n",
       "  </thead>\n",
       "  <tbody>\n",
       "    <tr>\n",
       "      <th>0</th>\n",
       "      <td>4.95</td>\n",
       "      <td>0.117733</td>\n",
       "      <td>0.002133</td>\n",
       "      <td>0.0</td>\n",
       "      <td>0.000067</td>\n",
       "      <td>0.000067</td>\n",
       "      <td>0.000400</td>\n",
       "      <td>0.0</td>\n",
       "      <td>0.000067</td>\n",
       "      <td>0.000000</td>\n",
       "      <td>...</td>\n",
       "      <td>0.000000</td>\n",
       "      <td>0.0</td>\n",
       "      <td>0.0</td>\n",
       "      <td>0.0</td>\n",
       "      <td>0.0</td>\n",
       "      <td>0.000200</td>\n",
       "      <td>0.000067</td>\n",
       "      <td>0.001200</td>\n",
       "      <td>0.000267</td>\n",
       "      <td>0.155400</td>\n",
       "    </tr>\n",
       "    <tr>\n",
       "      <th>1</th>\n",
       "      <td>4.79</td>\n",
       "      <td>0.064533</td>\n",
       "      <td>0.012067</td>\n",
       "      <td>0.0</td>\n",
       "      <td>0.000000</td>\n",
       "      <td>0.000467</td>\n",
       "      <td>0.000000</td>\n",
       "      <td>0.0</td>\n",
       "      <td>0.000000</td>\n",
       "      <td>0.000000</td>\n",
       "      <td>...</td>\n",
       "      <td>0.000000</td>\n",
       "      <td>0.0</td>\n",
       "      <td>0.0</td>\n",
       "      <td>0.0</td>\n",
       "      <td>0.0</td>\n",
       "      <td>0.000000</td>\n",
       "      <td>0.000133</td>\n",
       "      <td>0.000000</td>\n",
       "      <td>0.000000</td>\n",
       "      <td>0.012333</td>\n",
       "    </tr>\n",
       "    <tr>\n",
       "      <th>2</th>\n",
       "      <td>4.74</td>\n",
       "      <td>0.007933</td>\n",
       "      <td>0.001867</td>\n",
       "      <td>0.0</td>\n",
       "      <td>0.000000</td>\n",
       "      <td>0.000333</td>\n",
       "      <td>0.000133</td>\n",
       "      <td>0.0</td>\n",
       "      <td>0.000000</td>\n",
       "      <td>0.000000</td>\n",
       "      <td>...</td>\n",
       "      <td>0.000000</td>\n",
       "      <td>0.0</td>\n",
       "      <td>0.0</td>\n",
       "      <td>0.0</td>\n",
       "      <td>0.0</td>\n",
       "      <td>0.000067</td>\n",
       "      <td>0.000000</td>\n",
       "      <td>0.000133</td>\n",
       "      <td>0.000000</td>\n",
       "      <td>0.037267</td>\n",
       "    </tr>\n",
       "    <tr>\n",
       "      <th>3</th>\n",
       "      <td>4.86</td>\n",
       "      <td>0.039933</td>\n",
       "      <td>0.004600</td>\n",
       "      <td>0.0</td>\n",
       "      <td>0.000000</td>\n",
       "      <td>0.000600</td>\n",
       "      <td>0.000000</td>\n",
       "      <td>0.0</td>\n",
       "      <td>0.000000</td>\n",
       "      <td>0.000000</td>\n",
       "      <td>...</td>\n",
       "      <td>0.000067</td>\n",
       "      <td>0.0</td>\n",
       "      <td>0.0</td>\n",
       "      <td>0.0</td>\n",
       "      <td>0.0</td>\n",
       "      <td>0.000133</td>\n",
       "      <td>0.000000</td>\n",
       "      <td>0.000200</td>\n",
       "      <td>0.000200</td>\n",
       "      <td>0.069000</td>\n",
       "    </tr>\n",
       "    <tr>\n",
       "      <th>4</th>\n",
       "      <td>4.99</td>\n",
       "      <td>0.001333</td>\n",
       "      <td>0.000867</td>\n",
       "      <td>0.0</td>\n",
       "      <td>0.000000</td>\n",
       "      <td>0.000133</td>\n",
       "      <td>0.000067</td>\n",
       "      <td>0.0</td>\n",
       "      <td>0.000000</td>\n",
       "      <td>0.000133</td>\n",
       "      <td>...</td>\n",
       "      <td>0.000000</td>\n",
       "      <td>0.0</td>\n",
       "      <td>0.0</td>\n",
       "      <td>0.0</td>\n",
       "      <td>0.0</td>\n",
       "      <td>0.000067</td>\n",
       "      <td>0.000000</td>\n",
       "      <td>0.001467</td>\n",
       "      <td>0.000667</td>\n",
       "      <td>0.025267</td>\n",
       "    </tr>\n",
       "  </tbody>\n",
       "</table>\n",
       "<p>5 rows × 188 columns</p>\n",
       "</div>"
      ],
      "text/plain": [
       "   RBC.  g__Methanobrevibacter  g__Methanosphaera  g__     g__.1  \\\n",
       "0  4.95               0.117733           0.002133  0.0  0.000067   \n",
       "1  4.79               0.064533           0.012067  0.0  0.000000   \n",
       "2  4.74               0.007933           0.001867  0.0  0.000000   \n",
       "3  4.86               0.039933           0.004600  0.0  0.000000   \n",
       "4  4.99               0.001333           0.000867  0.0  0.000000   \n",
       "\n",
       "   g__Actinomyces  g__Varibaculum  g__.2  g__Corynebacterium  g__Blastococcus  \\\n",
       "0        0.000067        0.000400    0.0            0.000067         0.000000   \n",
       "1        0.000467        0.000000    0.0            0.000000         0.000000   \n",
       "2        0.000333        0.000133    0.0            0.000000         0.000000   \n",
       "3        0.000600        0.000000    0.0            0.000000         0.000000   \n",
       "4        0.000133        0.000067    0.0            0.000000         0.000133   \n",
       "\n",
       "        ...        g__Pseudomonas  g__.47  g__Pseudoxanthomonas  \\\n",
       "0       ...              0.000000     0.0                   0.0   \n",
       "1       ...              0.000000     0.0                   0.0   \n",
       "2       ...              0.000000     0.0                   0.0   \n",
       "3       ...              0.000067     0.0                   0.0   \n",
       "4       ...              0.000000     0.0                   0.0   \n",
       "\n",
       "   g__Stenotrophomonas  g__Pyramidobacter  g__Synergistes    g__.48    g__.49  \\\n",
       "0                  0.0                0.0        0.000200  0.000067  0.001200   \n",
       "1                  0.0                0.0        0.000000  0.000133  0.000000   \n",
       "2                  0.0                0.0        0.000067  0.000000  0.000133   \n",
       "3                  0.0                0.0        0.000133  0.000000  0.000200   \n",
       "4                  0.0                0.0        0.000067  0.000000  0.001467   \n",
       "\n",
       "     g__.50  g__Akkermansia  \n",
       "0  0.000267        0.155400  \n",
       "1  0.000000        0.012333  \n",
       "2  0.000000        0.037267  \n",
       "3  0.000200        0.069000  \n",
       "4  0.000667        0.025267  \n",
       "\n",
       "[5 rows x 188 columns]"
      ]
     },
     "execution_count": 28,
     "metadata": {},
     "output_type": "execute_result"
    }
   ],
   "source": [
    "df.iloc[:,[30] + range(63, df.shape[1])].head()"
   ]
  },
  {
   "cell_type": "code",
   "execution_count": 4,
   "metadata": {
    "collapsed": false
   },
   "outputs": [
    {
     "name": "stdout",
     "output_type": "stream",
     "text": [
      "(8741, 527)\n"
     ]
    }
   ],
   "source": [
    "df_rel = df[df[\"HMP_SITE\"] == \"FECAL\"]\n",
    "print df_rel.shape"
   ]
  },
  {
   "cell_type": "code",
   "execution_count": 5,
   "metadata": {
    "collapsed": false
   },
   "outputs": [
    {
     "data": {
      "text/html": [
       "<div>\n",
       "<table border=\"1\" class=\"dataframe\">\n",
       "  <thead>\n",
       "    <tr style=\"text-align: right;\">\n",
       "      <th></th>\n",
       "      <th>HMP_SITE</th>\n",
       "      <th>k__Archaea;p__Crenarchaeota</th>\n",
       "      <th>k__Archaea;p__Euryarchaeota</th>\n",
       "      <th>k__Archaea;p__[Parvarchaeota]</th>\n",
       "      <th>k__Bacteria;p__</th>\n",
       "      <th>k__Bacteria;p__AD3</th>\n",
       "      <th>k__Bacteria;p__Acidobacteria</th>\n",
       "      <th>k__Bacteria;p__Actinobacteria</th>\n",
       "      <th>k__Bacteria;p__AncK6</th>\n",
       "      <th>k__Bacteria;p__Aquificae</th>\n",
       "      <th>...</th>\n",
       "      <th>k__Bacteria;p__Tenericutes</th>\n",
       "      <th>k__Bacteria;p__Thermotogae</th>\n",
       "      <th>k__Bacteria;p__Verrucomicrobia</th>\n",
       "      <th>k__Bacteria;p__WPS-2</th>\n",
       "      <th>k__Bacteria;p__WS2</th>\n",
       "      <th>k__Bacteria;p__WS3</th>\n",
       "      <th>k__Bacteria;p__WS4</th>\n",
       "      <th>k__Bacteria;p__ZB3</th>\n",
       "      <th>k__Bacteria;p__[Caldithrix]</th>\n",
       "      <th>k__Bacteria;p__[Thermi]</th>\n",
       "    </tr>\n",
       "  </thead>\n",
       "  <tbody>\n",
       "    <tr>\n",
       "      <th>0</th>\n",
       "      <td>FECAL</td>\n",
       "      <td>0.0</td>\n",
       "      <td>0.000000</td>\n",
       "      <td>0.0</td>\n",
       "      <td>0.0</td>\n",
       "      <td>0.0</td>\n",
       "      <td>0.0</td>\n",
       "      <td>0.001832</td>\n",
       "      <td>0.0</td>\n",
       "      <td>0.0</td>\n",
       "      <td>...</td>\n",
       "      <td>0.000000</td>\n",
       "      <td>0.0</td>\n",
       "      <td>0.000000</td>\n",
       "      <td>0.0</td>\n",
       "      <td>0.0</td>\n",
       "      <td>0.0</td>\n",
       "      <td>0.0</td>\n",
       "      <td>0.0</td>\n",
       "      <td>0.0</td>\n",
       "      <td>0.0</td>\n",
       "    </tr>\n",
       "    <tr>\n",
       "      <th>1</th>\n",
       "      <td>FECAL</td>\n",
       "      <td>0.0</td>\n",
       "      <td>0.000000</td>\n",
       "      <td>0.0</td>\n",
       "      <td>0.0</td>\n",
       "      <td>0.0</td>\n",
       "      <td>0.0</td>\n",
       "      <td>0.001634</td>\n",
       "      <td>0.0</td>\n",
       "      <td>0.0</td>\n",
       "      <td>...</td>\n",
       "      <td>0.000050</td>\n",
       "      <td>0.0</td>\n",
       "      <td>0.000198</td>\n",
       "      <td>0.0</td>\n",
       "      <td>0.0</td>\n",
       "      <td>0.0</td>\n",
       "      <td>0.0</td>\n",
       "      <td>0.0</td>\n",
       "      <td>0.0</td>\n",
       "      <td>0.0</td>\n",
       "    </tr>\n",
       "    <tr>\n",
       "      <th>2</th>\n",
       "      <td>FECAL</td>\n",
       "      <td>0.0</td>\n",
       "      <td>0.000000</td>\n",
       "      <td>0.0</td>\n",
       "      <td>0.0</td>\n",
       "      <td>0.0</td>\n",
       "      <td>0.0</td>\n",
       "      <td>0.208809</td>\n",
       "      <td>0.0</td>\n",
       "      <td>0.0</td>\n",
       "      <td>...</td>\n",
       "      <td>0.000055</td>\n",
       "      <td>0.0</td>\n",
       "      <td>0.000111</td>\n",
       "      <td>0.0</td>\n",
       "      <td>0.0</td>\n",
       "      <td>0.0</td>\n",
       "      <td>0.0</td>\n",
       "      <td>0.0</td>\n",
       "      <td>0.0</td>\n",
       "      <td>0.0</td>\n",
       "    </tr>\n",
       "    <tr>\n",
       "      <th>4</th>\n",
       "      <td>FECAL</td>\n",
       "      <td>0.0</td>\n",
       "      <td>0.000065</td>\n",
       "      <td>0.0</td>\n",
       "      <td>0.0</td>\n",
       "      <td>0.0</td>\n",
       "      <td>0.0</td>\n",
       "      <td>0.050539</td>\n",
       "      <td>0.0</td>\n",
       "      <td>0.0</td>\n",
       "      <td>...</td>\n",
       "      <td>0.009680</td>\n",
       "      <td>0.0</td>\n",
       "      <td>0.000923</td>\n",
       "      <td>0.0</td>\n",
       "      <td>0.0</td>\n",
       "      <td>0.0</td>\n",
       "      <td>0.0</td>\n",
       "      <td>0.0</td>\n",
       "      <td>0.0</td>\n",
       "      <td>0.0</td>\n",
       "    </tr>\n",
       "    <tr>\n",
       "      <th>6</th>\n",
       "      <td>FECAL</td>\n",
       "      <td>0.0</td>\n",
       "      <td>0.000000</td>\n",
       "      <td>0.0</td>\n",
       "      <td>0.0</td>\n",
       "      <td>0.0</td>\n",
       "      <td>0.0</td>\n",
       "      <td>0.021245</td>\n",
       "      <td>0.0</td>\n",
       "      <td>0.0</td>\n",
       "      <td>...</td>\n",
       "      <td>0.000253</td>\n",
       "      <td>0.0</td>\n",
       "      <td>0.041756</td>\n",
       "      <td>0.0</td>\n",
       "      <td>0.0</td>\n",
       "      <td>0.0</td>\n",
       "      <td>0.0</td>\n",
       "      <td>0.0</td>\n",
       "      <td>0.0</td>\n",
       "      <td>0.0</td>\n",
       "    </tr>\n",
       "  </tbody>\n",
       "</table>\n",
       "<p>5 rows × 61 columns</p>\n",
       "</div>"
      ],
      "text/plain": [
       "  HMP_SITE  k__Archaea;p__Crenarchaeota  k__Archaea;p__Euryarchaeota  \\\n",
       "0    FECAL                          0.0                     0.000000   \n",
       "1    FECAL                          0.0                     0.000000   \n",
       "2    FECAL                          0.0                     0.000000   \n",
       "4    FECAL                          0.0                     0.000065   \n",
       "6    FECAL                          0.0                     0.000000   \n",
       "\n",
       "   k__Archaea;p__[Parvarchaeota]  k__Bacteria;p__  k__Bacteria;p__AD3  \\\n",
       "0                            0.0              0.0                 0.0   \n",
       "1                            0.0              0.0                 0.0   \n",
       "2                            0.0              0.0                 0.0   \n",
       "4                            0.0              0.0                 0.0   \n",
       "6                            0.0              0.0                 0.0   \n",
       "\n",
       "   k__Bacteria;p__Acidobacteria  k__Bacteria;p__Actinobacteria  \\\n",
       "0                           0.0                       0.001832   \n",
       "1                           0.0                       0.001634   \n",
       "2                           0.0                       0.208809   \n",
       "4                           0.0                       0.050539   \n",
       "6                           0.0                       0.021245   \n",
       "\n",
       "   k__Bacteria;p__AncK6  k__Bacteria;p__Aquificae           ...             \\\n",
       "0                   0.0                       0.0           ...              \n",
       "1                   0.0                       0.0           ...              \n",
       "2                   0.0                       0.0           ...              \n",
       "4                   0.0                       0.0           ...              \n",
       "6                   0.0                       0.0           ...              \n",
       "\n",
       "   k__Bacteria;p__Tenericutes  k__Bacteria;p__Thermotogae  \\\n",
       "0                    0.000000                         0.0   \n",
       "1                    0.000050                         0.0   \n",
       "2                    0.000055                         0.0   \n",
       "4                    0.009680                         0.0   \n",
       "6                    0.000253                         0.0   \n",
       "\n",
       "   k__Bacteria;p__Verrucomicrobia  k__Bacteria;p__WPS-2  k__Bacteria;p__WS2  \\\n",
       "0                        0.000000                   0.0                 0.0   \n",
       "1                        0.000198                   0.0                 0.0   \n",
       "2                        0.000111                   0.0                 0.0   \n",
       "4                        0.000923                   0.0                 0.0   \n",
       "6                        0.041756                   0.0                 0.0   \n",
       "\n",
       "   k__Bacteria;p__WS3  k__Bacteria;p__WS4  k__Bacteria;p__ZB3  \\\n",
       "0                 0.0                 0.0                 0.0   \n",
       "1                 0.0                 0.0                 0.0   \n",
       "2                 0.0                 0.0                 0.0   \n",
       "4                 0.0                 0.0                 0.0   \n",
       "6                 0.0                 0.0                 0.0   \n",
       "\n",
       "   k__Bacteria;p__[Caldithrix]  k__Bacteria;p__[Thermi]  \n",
       "0                          0.0                      0.0  \n",
       "1                          0.0                      0.0  \n",
       "2                          0.0                      0.0  \n",
       "4                          0.0                      0.0  \n",
       "6                          0.0                      0.0  \n",
       "\n",
       "[5 rows x 61 columns]"
      ]
     },
     "execution_count": 5,
     "metadata": {},
     "output_type": "execute_result"
    }
   ],
   "source": [
    "df_rel.iloc[:,466:].head()"
   ]
  },
  {
   "cell_type": "code",
   "execution_count": 7,
   "metadata": {
    "collapsed": false
   },
   "outputs": [
    {
     "name": "stderr",
     "output_type": "stream",
     "text": [
      "/Users/myazdaniUCSD/anaconda/lib/python2.7/site-packages/pandas/core/frame.py:2378: SettingWithCopyWarning: \n",
      "A value is trying to be set on a copy of a slice from a DataFrame.\n",
      "Try using .loc[row_indexer,col_indexer] = value instead\n",
      "\n",
      "See the caveats in the documentation: http://pandas.pydata.org/pandas-docs/stable/indexing.html#indexing-view-versus-copy\n",
      "  self[k1] = value[k2]\n"
     ]
    }
   ],
   "source": [
    "df_rel[[\"BMI_CORRECTED\"]] = df_rel[[\"BMI_CORRECTED\"]].apply(lambda x: pd.to_numeric(x, errors = \"coerce\"))"
   ]
  },
  {
   "cell_type": "code",
   "execution_count": 8,
   "metadata": {
    "collapsed": false
   },
   "outputs": [
    {
     "name": "stdout",
     "output_type": "stream",
     "text": [
      "(1779, 527)\n"
     ]
    }
   ],
   "source": [
    "df_clean = df_rel.dropna()\n",
    "print df_clean.shape"
   ]
  },
  {
   "cell_type": "code",
   "execution_count": 9,
   "metadata": {
    "collapsed": false
   },
   "outputs": [
    {
     "data": {
      "text/plain": [
       "count    1779.000000\n",
       "mean       23.288702\n",
       "std         5.343387\n",
       "min         9.630000\n",
       "25%        20.180000\n",
       "50%        22.830000\n",
       "75%        25.830000\n",
       "max        59.880000\n",
       "Name: BMI_CORRECTED, dtype: float64"
      ]
     },
     "execution_count": 9,
     "metadata": {},
     "output_type": "execute_result"
    }
   ],
   "source": [
    "df_clean[\"BMI_CORRECTED\"].describe()"
   ]
  },
  {
   "cell_type": "code",
   "execution_count": 10,
   "metadata": {
    "collapsed": false
   },
   "outputs": [],
   "source": [
    "y = np.array(df_clean[\"BMI_CORRECTED\"])\n",
    "X = np.array(df_clean.iloc[:,467:])\n",
    "\n",
    "X_train, X_test, y_train, y_test = train_test_split(X, y, test_size=0.25, random_state=42)"
   ]
  },
  {
   "cell_type": "code",
   "execution_count": 11,
   "metadata": {
    "collapsed": false
   },
   "outputs": [
    {
     "data": {
      "text/plain": [
       "RandomForestRegressor(bootstrap=True, criterion='mse', max_depth=None,\n",
       "           max_features='auto', max_leaf_nodes=None, min_samples_leaf=1,\n",
       "           min_samples_split=2, min_weight_fraction_leaf=0.0,\n",
       "           n_estimators=100, n_jobs=1, oob_score=False, random_state=None,\n",
       "           verbose=0, warm_start=False)"
      ]
     },
     "execution_count": 11,
     "metadata": {},
     "output_type": "execute_result"
    }
   ],
   "source": [
    "RF = RandomForestRegressor(n_estimators=100)\n",
    "RF.fit(X_train, y_train)"
   ]
  },
  {
   "cell_type": "code",
   "execution_count": 12,
   "metadata": {
    "collapsed": false
   },
   "outputs": [
    {
     "data": {
      "text/plain": [
       "0.81662158537238794"
      ]
     },
     "execution_count": 12,
     "metadata": {},
     "output_type": "execute_result"
    }
   ],
   "source": [
    "RF.score(X_train, y_train)"
   ]
  },
  {
   "cell_type": "code",
   "execution_count": 49,
   "metadata": {
    "collapsed": false
   },
   "outputs": [
    {
     "data": {
      "text/plain": [
       "0.025464071187083045"
      ]
     },
     "execution_count": 49,
     "metadata": {},
     "output_type": "execute_result"
    }
   ],
   "source": [
    "RF.score(X_test, y_test)"
   ]
  },
  {
   "cell_type": "code",
   "execution_count": 16,
   "metadata": {
    "collapsed": true
   },
   "outputs": [],
   "source": [
    "scores = cross_validation.cross_val_score(RF, X, y, cv=5, scoring = 'mean_absolute_error')"
   ]
  },
  {
   "cell_type": "code",
   "execution_count": 17,
   "metadata": {
    "collapsed": false
   },
   "outputs": [
    {
     "data": {
      "text/plain": [
       "array([-3.78680041, -4.13099785, -3.86606955, -4.25907163, -3.72652685])"
      ]
     },
     "execution_count": 17,
     "metadata": {},
     "output_type": "execute_result"
    }
   ],
   "source": [
    "scores"
   ]
  },
  {
   "cell_type": "markdown",
   "metadata": {},
   "source": [
    "## Age classification"
   ]
  },
  {
   "cell_type": "code",
   "execution_count": 18,
   "metadata": {
    "collapsed": false
   },
   "outputs": [
    {
     "name": "stderr",
     "output_type": "stream",
     "text": [
      "/Users/myazdaniUCSD/anaconda/lib/python2.7/site-packages/IPython/kernel/__main__.py:1: SettingWithCopyWarning: \n",
      "A value is trying to be set on a copy of a slice from a DataFrame.\n",
      "Try using .loc[row_indexer,col_indexer] = value instead\n",
      "\n",
      "See the caveats in the documentation: http://pandas.pydata.org/pandas-docs/stable/indexing.html#indexing-view-versus-copy\n",
      "  if __name__ == '__main__':\n",
      "/Users/myazdaniUCSD/anaconda/lib/python2.7/site-packages/pandas/core/indexing.py:465: SettingWithCopyWarning: \n",
      "A value is trying to be set on a copy of a slice from a DataFrame.\n",
      "Try using .loc[row_indexer,col_indexer] = value instead\n",
      "\n",
      "See the caveats in the documentation: http://pandas.pydata.org/pandas-docs/stable/indexing.html#indexing-view-versus-copy\n",
      "  self.obj[item] = s\n",
      "/Users/myazdaniUCSD/anaconda/lib/python2.7/site-packages/numpy/lib/function_base.py:3834: RuntimeWarning: Invalid value encountered in percentile\n",
      "  RuntimeWarning)\n"
     ]
    },
    {
     "data": {
      "text/plain": [
       "count    8173.000000\n",
       "mean       46.071088\n",
       "std        17.118042\n",
       "min         1.000000\n",
       "25%              NaN\n",
       "50%              NaN\n",
       "75%              NaN\n",
       "max       101.000000\n",
       "Name: AGE_CORRECTED, dtype: float64"
      ]
     },
     "execution_count": 18,
     "metadata": {},
     "output_type": "execute_result"
    }
   ],
   "source": [
    "df_rel[[\"AGE_CORRECTED\"]] = df_rel[\"AGE_CORRECTED\"].apply(lambda x: pd.to_numeric(x, errors = \"coerce\"))\n",
    "df_rel[\"AGE_CORRECTED\"].describe()"
   ]
  },
  {
   "cell_type": "code",
   "execution_count": 19,
   "metadata": {
    "collapsed": false
   },
   "outputs": [
    {
     "name": "stdout",
     "output_type": "stream",
     "text": [
      "(1613, 527)\n"
     ]
    }
   ],
   "source": [
    "df_clean = df_rel.dropna()\n",
    "print df_clean.shape"
   ]
  },
  {
   "cell_type": "code",
   "execution_count": 20,
   "metadata": {
    "collapsed": true
   },
   "outputs": [],
   "source": [
    "y = np.array(df_clean[\"AGE_CORRECTED\"])\n",
    "X = np.array(df_clean.iloc[:,467:])\n",
    "\n",
    "X_train, X_test, y_train, y_test = train_test_split(X, y, test_size=0.25, random_state=42)"
   ]
  },
  {
   "cell_type": "code",
   "execution_count": 39,
   "metadata": {
    "collapsed": false
   },
   "outputs": [
    {
     "data": {
      "text/plain": [
       "RandomForestRegressor(bootstrap=True, criterion='mse', max_depth=None,\n",
       "           max_features='auto', max_leaf_nodes=None, min_samples_leaf=1,\n",
       "           min_samples_split=2, min_weight_fraction_leaf=0.0,\n",
       "           n_estimators=100, n_jobs=1, oob_score=False, random_state=None,\n",
       "           verbose=0, warm_start=False)"
      ]
     },
     "execution_count": 39,
     "metadata": {},
     "output_type": "execute_result"
    }
   ],
   "source": [
    "RF = RandomForestRegressor(n_estimators=100)\n",
    "RF.fit(X_train, y_train)"
   ]
  },
  {
   "cell_type": "code",
   "execution_count": 40,
   "metadata": {
    "collapsed": false
   },
   "outputs": [
    {
     "data": {
      "text/plain": [
       "0.84616841944096111"
      ]
     },
     "execution_count": 40,
     "metadata": {},
     "output_type": "execute_result"
    }
   ],
   "source": [
    "RF.score(X_train, y_train)"
   ]
  },
  {
   "cell_type": "code",
   "execution_count": 41,
   "metadata": {
    "collapsed": false
   },
   "outputs": [
    {
     "data": {
      "text/plain": [
       "0.10876941435195775"
      ]
     },
     "execution_count": 41,
     "metadata": {},
     "output_type": "execute_result"
    }
   ],
   "source": [
    "RF.score(X_test, y_test)"
   ]
  },
  {
   "cell_type": "code",
   "execution_count": 42,
   "metadata": {
    "collapsed": true
   },
   "outputs": [],
   "source": [
    "scores = -1*cross_validation.cross_val_score(RF, X, y, cv=5, scoring = 'mean_absolute_error')"
   ]
  },
  {
   "cell_type": "code",
   "execution_count": 43,
   "metadata": {
    "collapsed": false
   },
   "outputs": [
    {
     "data": {
      "text/plain": [
       "array([ 14.63616839,  13.564114  ,  14.02452414,  13.49204264,  13.52381858])"
      ]
     },
     "execution_count": 43,
     "metadata": {},
     "output_type": "execute_result"
    }
   ],
   "source": [
    "scores"
   ]
  },
  {
   "cell_type": "code",
   "execution_count": null,
   "metadata": {
    "collapsed": true
   },
   "outputs": [],
   "source": []
  }
 ],
 "metadata": {
  "kernelspec": {
   "display_name": "Python 2",
   "language": "python",
   "name": "python2"
  },
  "language_info": {
   "codemirror_mode": {
    "name": "ipython",
    "version": 2
   },
   "file_extension": ".py",
   "mimetype": "text/x-python",
   "name": "python",
   "nbconvert_exporter": "python",
   "pygments_lexer": "ipython2",
   "version": "2.7.12"
  }
 },
 "nbformat": 4,
 "nbformat_minor": 0
}
