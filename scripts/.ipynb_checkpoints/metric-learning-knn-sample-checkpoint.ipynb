{
 "cells": [
  {
   "cell_type": "code",
   "execution_count": 14,
   "metadata": {
    "collapsed": false
   },
   "outputs": [],
   "source": [
    "import cvxpy as cvx\n",
    "import pandas as pd\n",
    "from sklearn.ensemble import RandomForestRegressor\n",
    "from sklearn import linear_model\n",
    "from sklearn.linear_model import ElasticNetCV\n",
    "from sklearn.neighbors import KNeighborsRegressor\n",
    "from sklearn.svm import SVR\n",
    "from sklearn.cross_validation import train_test_split\n",
    "from sklearn.grid_search import GridSearchCV\n",
    "from sklearn import cross_validation\n",
    "from sklearn.cross_validation import KFold\n",
    "import numpy as np\n",
    "from scipy.stats import hmean\n",
    "from sklearn import metrics\n",
    "import matplotlib.pyplot as plt\n",
    "import os\n",
    "%matplotlib inline"
   ]
  },
  {
   "cell_type": "markdown",
   "metadata": {},
   "source": [
    "##Load data"
   ]
  },
  {
   "cell_type": "code",
   "execution_count": 15,
   "metadata": {
    "collapsed": false
   },
   "outputs": [
    {
     "name": "stdout",
     "output_type": "stream",
     "text": [
      "number of files is 5\n"
     ]
    }
   ],
   "source": [
    "src_path = '../data/'\n",
    "file_types = ('.csv')\n",
    " \n",
    "file_paths = []  \n",
    "for root, dirs, files in os.walk(src_path):\n",
    "    file_paths.extend([os.path.join(root, f) for f in files if f.endswith(file_types)])\n",
    "    \n",
    "print 'number of files is', len(file_paths)"
   ]
  },
  {
   "cell_type": "code",
   "execution_count": 16,
   "metadata": {
    "collapsed": true
   },
   "outputs": [],
   "source": [
    "biomarkers = [\"Stool.Lysozyme\",\n",
    "              \"Stool.Lactoferrin\", \n",
    "              \"Stool.SIgA\",\n",
    "              \"X..SCFA.Acetate\",\n",
    "              \"X..SCFA.Propionate\",\n",
    "              \"X..SCFA.Valerate\",\n",
    "              \"X..SCFA.Butyrate\",\n",
    "              \"Total.SCFA\",\n",
    "              \"Butyrate\",\n",
    "              \"Stool.pH\",\n",
    "              \"Neutrophil.Count\",\n",
    "              \"Lymphocyte.Count\" ,\n",
    "              \"Monocyte.Count\",\n",
    "              \"Esoinophil.Count\"]\n",
    "\n",
    "\n",
    "biomarker = biomarkers[1]\n",
    "#biomarker = \"Neutrophil.Count\""
   ]
  },
  {
   "cell_type": "code",
   "execution_count": 17,
   "metadata": {
    "collapsed": false
   },
   "outputs": [],
   "source": [
    "df = pd.read_csv(file_paths[0])\n",
    "fields = list(df.columns)\n",
    "microbiome_indx = [i for i, field in enumerate(fields) if \"__\" in field]\n",
    "column_names = list(df.columns)\n",
    "target_indx = [i for i, column_name in enumerate(column_names) if column_name == biomarker]\n",
    "df_rel = df.iloc[:,target_indx + range(microbiome_indx[0], df.shape[1])]\n",
    "df_rel[[biomarker]] = df_rel[[biomarker]].apply(lambda x: pd.to_numeric(x, errors = \"coerce\"))\n",
    "df_clean = df_rel.dropna()\n",
    "y = np.array(df_clean[biomarker])\n",
    "X = np.array(df_clean.iloc[:,1:])"
   ]
  },
  {
   "cell_type": "markdown",
   "metadata": {},
   "source": [
    "## Compute pairwise differences"
   ]
  },
  {
   "cell_type": "code",
   "execution_count": 18,
   "metadata": {
    "collapsed": false
   },
   "outputs": [],
   "source": [
    "def pairwise_diffs(np_arr):\n",
    "    np_diffs = np.empty((len(np_arr)*(len(np_arr)-1)/2, np_arr.shape[1]))\n",
    "    start_ind = 0\n",
    "    for i in range(len(np_arr)-1):\n",
    "        sample = np_arr[i,:]\n",
    "        diffs = np.sqrt((np_arr[i+1:,:] - sample)**2)\n",
    "        end_ind = start_ind+len(diffs)\n",
    "        np_diffs[start_ind:end_ind,:] = diffs\n",
    "        start_ind = end_ind\n",
    "    return np_diffs"
   ]
  },
  {
   "cell_type": "code",
   "execution_count": 19,
   "metadata": {
    "collapsed": false
   },
   "outputs": [],
   "source": [
    "X_diffs = pairwise_diffs(X)\n",
    "y_diffs = pairwise_diffs(y[np.newaxis].T)"
   ]
  },
  {
   "cell_type": "code",
   "execution_count": 20,
   "metadata": {
    "collapsed": false
   },
   "outputs": [
    {
     "name": "stdout",
     "output_type": "stream",
     "text": [
      "(435, 13)\n",
      "(435, 1)\n",
      "95.04\n"
     ]
    }
   ],
   "source": [
    "print X_diffs.shape\n",
    "print y_diffs.shape\n",
    "print np.mean(y_diffs)"
   ]
  },
  {
   "cell_type": "code",
   "execution_count": 21,
   "metadata": {
    "collapsed": false
   },
   "outputs": [
    {
     "name": "stdout",
     "output_type": "stream",
     "text": [
      "5.15903868313\n",
      "1.0\n",
      "0.857387927058\n"
     ]
    }
   ],
   "source": [
    "print np.linalg.norm(X_diffs)\n",
    "print np.linalg.norm(X_diffs/np.linalg.norm(X_diffs))\n",
    "print np.linalg.norm(np.dot(X_diffs.T/np.linalg.norm(X_diffs),X_diffs/np.linalg.norm(X_diffs)))"
   ]
  },
  {
   "cell_type": "markdown",
   "metadata": {},
   "source": [
    "## Learn optimal qeights"
   ]
  },
  {
   "cell_type": "code",
   "execution_count": 22,
   "metadata": {
    "collapsed": false
   },
   "outputs": [],
   "source": [
    "def optimize_weights(X_diffs, y_diffs):\n",
    "    #sc = (np.linalg.norm(np.dot(X_diffs.T,X_diffs)))**.5\n",
    "    sc = np.linalg.norm(X_diffs)\n",
    "    A = X_diffs/sc\n",
    "    b = y_diffs/sc\n",
    "    w = cvx.Variable(X_diffs.shape[1])\n",
    "    #objective = cvx.Minimize(cvx.sum_entries(cvx.huber(A*w - b,1000)))\n",
    "    objective = cvx.Minimize(cvx.norm(A*w - b,2))\n",
    "    constraints = [0 <= w]\n",
    "\n",
    "    prob = cvx.Problem(objective, constraints)\n",
    "    prob.solve()\n",
    "    return prob.status, w.value"
   ]
  },
  {
   "cell_type": "code",
   "execution_count": 23,
   "metadata": {
    "collapsed": false
   },
   "outputs": [],
   "source": [
    "statusprob, weights = optimize_weights(X_diffs, y_diffs)"
   ]
  },
  {
   "cell_type": "code",
   "execution_count": 24,
   "metadata": {
    "collapsed": false
   },
   "outputs": [
    {
     "data": {
      "text/plain": [
       "matrix([[  0.00000000e+00],\n",
       "        [  2.27700000e+03],\n",
       "        [  0.00000000e+00],\n",
       "        [  4.85100000e+03],\n",
       "        [  9.19200000e+03],\n",
       "        [  1.02000000e+02],\n",
       "        [  2.87000000e+02],\n",
       "        [  4.95400000e+03],\n",
       "        [  1.97000000e+02],\n",
       "        [  7.56800000e+03],\n",
       "        [  1.00000000e+00],\n",
       "        [  9.01300000e+03],\n",
       "        [  3.04000000e+02]])"
      ]
     },
     "execution_count": 24,
     "metadata": {},
     "output_type": "execute_result"
    }
   ],
   "source": [
    "np.round(weights)"
   ]
  },
  {
   "cell_type": "code",
   "execution_count": 30,
   "metadata": {
    "collapsed": false
   },
   "outputs": [],
   "source": [
    "found_weights = np.asarray(np.round(weights)).squeeze()"
   ]
  },
  {
   "cell_type": "code",
   "execution_count": 47,
   "metadata": {
    "collapsed": false
   },
   "outputs": [
    {
     "data": {
      "text/plain": [
       "array([False,  True, False,  True,  True,  True,  True,  True,  True,\n",
       "        True,  True,  True,  True], dtype=bool)"
      ]
     },
     "execution_count": 47,
     "metadata": {},
     "output_type": "execute_result"
    }
   ],
   "source": [
    "found_weights!=0"
   ]
  },
  {
   "cell_type": "code",
   "execution_count": 49,
   "metadata": {
    "collapsed": false
   },
   "outputs": [
    {
     "data": {
      "text/plain": [
       "array([  2.27700000e+03,   4.85100000e+03,   9.19200000e+03,\n",
       "         1.02000000e+02,   2.87000000e+02,   4.95400000e+03,\n",
       "         1.97000000e+02,   7.56800000e+03,   1.00000000e+00,\n",
       "         9.01300000e+03,   3.04000000e+02])"
      ]
     },
     "execution_count": 49,
     "metadata": {},
     "output_type": "execute_result"
    }
   ],
   "source": [
    "found_weights[found_weights!=0]"
   ]
  },
  {
   "cell_type": "code",
   "execution_count": 40,
   "metadata": {
    "collapsed": false
   },
   "outputs": [],
   "source": [
    "meh = X[:,found_weights!=0]*found_weights[found_weights!=0]"
   ]
  },
  {
   "cell_type": "code",
   "execution_count": 52,
   "metadata": {
    "collapsed": false
   },
   "outputs": [
    {
     "data": {
      "text/plain": [
       "59.4456"
      ]
     },
     "execution_count": 52,
     "metadata": {},
     "output_type": "execute_result"
    }
   ],
   "source": [
    "5.82800000e-01*1.02000000e+02"
   ]
  },
  {
   "cell_type": "code",
   "execution_count": 44,
   "metadata": {
    "collapsed": false,
    "scrolled": true
   },
   "outputs": [
    {
     "data": {
      "text/plain": [
       "array([  1.19866667e-01,   1.74666670e-02,   9.71333330e-02,\n",
       "         0.00000000e+00,   1.33333000e-04,   5.82800000e-01,\n",
       "         1.02666670e-02,   0.00000000e+00,   1.52000000e-02,\n",
       "         2.00000000e-04,   6.67000000e-05,   1.46666700e-03,\n",
       "         1.55400000e-01])"
      ]
     },
     "execution_count": 44,
     "metadata": {},
     "output_type": "execute_result"
    }
   ],
   "source": [
    "X[0,:]"
   ]
  },
  {
   "cell_type": "code",
   "execution_count": 43,
   "metadata": {
    "collapsed": false
   },
   "outputs": [
    {
     "data": {
      "text/plain": [
       "array([  3.97716008e+01,   0.00000000e+00,   1.22559694e+00,\n",
       "         5.94456000e+01,   2.94653343e+00,   0.00000000e+00,\n",
       "         2.99440000e+00,   1.51360000e+00,   6.67000000e-05,\n",
       "         1.32190697e+01,   4.72416000e+01])"
      ]
     },
     "execution_count": 43,
     "metadata": {},
     "output_type": "execute_result"
    }
   ],
   "source": [
    "meh[0,:]"
   ]
  },
  {
   "cell_type": "markdown",
   "metadata": {},
   "source": [
    "## LOOCV KNN with weights"
   ]
  },
  {
   "cell_type": "code",
   "execution_count": 11,
   "metadata": {
    "collapsed": false
   },
   "outputs": [
    {
     "name": "stdout",
     "output_type": "stream",
     "text": [
      "mean resid 164.14701338\n",
      "median resid 42.5\n"
     ]
    }
   ],
   "source": [
    "loo = cross_validation.LeaveOneOut(len(y)-1)\n",
    "\n",
    "resid = []\n",
    "\n",
    "for train_index, test_index in loo:\n",
    "    X_train, X_test = X[train_index], X[test_index]\n",
    "    y_train, y_test = y[train_index], y[test_index]\n",
    "    '''\n",
    "    compute weights\n",
    "    '''\n",
    "    X_diffs = []\n",
    "    y_diffs = []\n",
    "    X_diffs = pairwise_diffs(X_train)\n",
    "    y_diffs = pairwise_diffs(y_train[np.newaxis].T)\n",
    "    statusprob, weights = optimize_weights(X_diffs, y_diffs)\n",
    "    '''\n",
    "    predict\n",
    "    '''\n",
    "    knn = neighbors.KNeighborsRegressor(n_neighbors=1)\n",
    "    y_pred = knn.fit(X_train*np.array(weights.T), y_train).predict(X_test*np.array(weights.T))\n",
    "    \n",
    "    resid.append(abs(y_pred - y_test))\n",
    "print 'mean resid', np.mean(resid)\n",
    "print 'median resid', np.median(resid)"
   ]
  },
  {
   "cell_type": "code",
   "execution_count": null,
   "metadata": {
    "collapsed": true
   },
   "outputs": [],
   "source": []
  }
 ],
 "metadata": {
  "kernelspec": {
   "display_name": "Python 2",
   "language": "python",
   "name": "python2"
  },
  "language_info": {
   "codemirror_mode": {
    "name": "ipython",
    "version": 2
   },
   "file_extension": ".py",
   "mimetype": "text/x-python",
   "name": "python",
   "nbconvert_exporter": "python",
   "pygments_lexer": "ipython2",
   "version": "2.7.12"
  }
 },
 "nbformat": 4,
 "nbformat_minor": 0
}
