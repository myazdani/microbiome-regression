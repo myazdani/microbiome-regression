{
 "cells": [
  {
   "cell_type": "code",
   "execution_count": 2,
   "metadata": {
    "collapsed": false
   },
   "outputs": [],
   "source": [
    "import pandas as pd\n",
    "from sklearn.ensemble import RandomForestRegressor\n",
    "from sklearn.neighbors import KNeighborsRegressor\n",
    "from sklearn.cross_validation import train_test_split\n",
    "from sklearn.grid_search import GridSearchCV\n",
    "from sklearn import cross_validation\n",
    "import numpy as np\n",
    "from sklearn import metrics"
   ]
  },
  {
   "cell_type": "code",
   "execution_count": 42,
   "metadata": {
    "collapsed": false
   },
   "outputs": [
    {
     "name": "stdout",
     "output_type": "stream",
     "text": [
      "(9810, 2474)\n"
     ]
    },
    {
     "name": "stderr",
     "output_type": "stream",
     "text": [
      "/Users/myazdaniUCSD/anaconda/lib/python2.7/site-packages/IPython/core/interactiveshell.py:2871: DtypeWarning: Columns (0,71,116,159,250) have mixed types. Specify dtype option on import or set low_memory=False.\n",
      "  interactivity=interactivity, compiler=compiler, result=result)\n"
     ]
    }
   ],
   "source": [
    "df = pd.read_table(\"/Users/myazdaniUCSD/Documents/OMI/illumina-16s/data/AG-data/100nt/ag-cleaned_L6.txt\")\n",
    "print df.shape"
   ]
  },
  {
   "cell_type": "code",
   "execution_count": 43,
   "metadata": {
    "collapsed": false
   },
   "outputs": [
    {
     "data": {
      "text/html": [
       "<div>\n",
       "<table border=\"1\" class=\"dataframe\">\n",
       "  <thead>\n",
       "    <tr style=\"text-align: right;\">\n",
       "      <th></th>\n",
       "      <th>HMP_SITE</th>\n",
       "      <th>k__Archaea;p__Crenarchaeota</th>\n",
       "      <th>k__Archaea;p__Euryarchaeota</th>\n",
       "      <th>k__Archaea;p__[Parvarchaeota]</th>\n",
       "      <th>k__Bacteria;p__</th>\n",
       "      <th>k__Bacteria;p__AD3</th>\n",
       "      <th>k__Bacteria;p__Acidobacteria</th>\n",
       "      <th>k__Bacteria;p__Actinobacteria</th>\n",
       "      <th>k__Bacteria;p__AncK6</th>\n",
       "      <th>k__Bacteria;p__Aquificae</th>\n",
       "      <th>...</th>\n",
       "      <th>k__Bacteria;p__WS4;c__;o__;f__;g__</th>\n",
       "      <th>k__Bacteria;p__ZB3;c__;o__;f__;g__</th>\n",
       "      <th>k__Bacteria;p__[Caldithrix];c__KSB1;o__GW-22;f__;g__</th>\n",
       "      <th>k__Bacteria;p__[Thermi];c__Deinococci;o__Deinococcales;f__Deinococcaceae;g__CM44</th>\n",
       "      <th>k__Bacteria;p__[Thermi];c__Deinococci;o__Deinococcales;f__Deinococcaceae;g__Deinococcus</th>\n",
       "      <th>k__Bacteria;p__[Thermi];c__Deinococci;o__Deinococcales;f__Trueperaceae;g__</th>\n",
       "      <th>k__Bacteria;p__[Thermi];c__Deinococci;o__Deinococcales;f__Trueperaceae;g__B-42</th>\n",
       "      <th>k__Bacteria;p__[Thermi];c__Deinococci;o__Deinococcales;f__Trueperaceae;g__Truepera</th>\n",
       "      <th>k__Bacteria;p__[Thermi];c__Deinococci;o__Thermales;f__Thermaceae;g__Meiothermus</th>\n",
       "      <th>k__Bacteria;p__[Thermi];c__Deinococci;o__Thermales;f__Thermaceae;g__Thermus</th>\n",
       "    </tr>\n",
       "  </thead>\n",
       "  <tbody>\n",
       "    <tr>\n",
       "      <th>0</th>\n",
       "      <td>FECAL</td>\n",
       "      <td>0.0</td>\n",
       "      <td>0.000000</td>\n",
       "      <td>0.0</td>\n",
       "      <td>0.0</td>\n",
       "      <td>0.0</td>\n",
       "      <td>0.000000</td>\n",
       "      <td>0.001832</td>\n",
       "      <td>0.0</td>\n",
       "      <td>0.0</td>\n",
       "      <td>...</td>\n",
       "      <td>0.0</td>\n",
       "      <td>0.0</td>\n",
       "      <td>0.0</td>\n",
       "      <td>0.0</td>\n",
       "      <td>0.000000</td>\n",
       "      <td>0.0</td>\n",
       "      <td>0.0</td>\n",
       "      <td>0.0</td>\n",
       "      <td>0.0</td>\n",
       "      <td>0.0</td>\n",
       "    </tr>\n",
       "    <tr>\n",
       "      <th>1</th>\n",
       "      <td>FECAL</td>\n",
       "      <td>0.0</td>\n",
       "      <td>0.000000</td>\n",
       "      <td>0.0</td>\n",
       "      <td>0.0</td>\n",
       "      <td>0.0</td>\n",
       "      <td>0.000000</td>\n",
       "      <td>0.001634</td>\n",
       "      <td>0.0</td>\n",
       "      <td>0.0</td>\n",
       "      <td>...</td>\n",
       "      <td>0.0</td>\n",
       "      <td>0.0</td>\n",
       "      <td>0.0</td>\n",
       "      <td>0.0</td>\n",
       "      <td>0.000000</td>\n",
       "      <td>0.0</td>\n",
       "      <td>0.0</td>\n",
       "      <td>0.0</td>\n",
       "      <td>0.0</td>\n",
       "      <td>0.0</td>\n",
       "    </tr>\n",
       "    <tr>\n",
       "      <th>2</th>\n",
       "      <td>FECAL</td>\n",
       "      <td>0.0</td>\n",
       "      <td>0.000000</td>\n",
       "      <td>0.0</td>\n",
       "      <td>0.0</td>\n",
       "      <td>0.0</td>\n",
       "      <td>0.000000</td>\n",
       "      <td>0.208809</td>\n",
       "      <td>0.0</td>\n",
       "      <td>0.0</td>\n",
       "      <td>...</td>\n",
       "      <td>0.0</td>\n",
       "      <td>0.0</td>\n",
       "      <td>0.0</td>\n",
       "      <td>0.0</td>\n",
       "      <td>0.000000</td>\n",
       "      <td>0.0</td>\n",
       "      <td>0.0</td>\n",
       "      <td>0.0</td>\n",
       "      <td>0.0</td>\n",
       "      <td>0.0</td>\n",
       "    </tr>\n",
       "    <tr>\n",
       "      <th>3</th>\n",
       "      <td>SKIN</td>\n",
       "      <td>0.0</td>\n",
       "      <td>0.000000</td>\n",
       "      <td>0.0</td>\n",
       "      <td>0.0</td>\n",
       "      <td>0.0</td>\n",
       "      <td>0.000753</td>\n",
       "      <td>0.630773</td>\n",
       "      <td>0.0</td>\n",
       "      <td>0.0</td>\n",
       "      <td>...</td>\n",
       "      <td>0.0</td>\n",
       "      <td>0.0</td>\n",
       "      <td>0.0</td>\n",
       "      <td>0.0</td>\n",
       "      <td>0.000251</td>\n",
       "      <td>0.0</td>\n",
       "      <td>0.0</td>\n",
       "      <td>0.0</td>\n",
       "      <td>0.0</td>\n",
       "      <td>0.0</td>\n",
       "    </tr>\n",
       "    <tr>\n",
       "      <th>4</th>\n",
       "      <td>FECAL</td>\n",
       "      <td>0.0</td>\n",
       "      <td>0.000065</td>\n",
       "      <td>0.0</td>\n",
       "      <td>0.0</td>\n",
       "      <td>0.0</td>\n",
       "      <td>0.000000</td>\n",
       "      <td>0.050539</td>\n",
       "      <td>0.0</td>\n",
       "      <td>0.0</td>\n",
       "      <td>...</td>\n",
       "      <td>0.0</td>\n",
       "      <td>0.0</td>\n",
       "      <td>0.0</td>\n",
       "      <td>0.0</td>\n",
       "      <td>0.000000</td>\n",
       "      <td>0.0</td>\n",
       "      <td>0.0</td>\n",
       "      <td>0.0</td>\n",
       "      <td>0.0</td>\n",
       "      <td>0.0</td>\n",
       "    </tr>\n",
       "  </tbody>\n",
       "</table>\n",
       "<p>5 rows × 2008 columns</p>\n",
       "</div>"
      ],
      "text/plain": [
       "  HMP_SITE  k__Archaea;p__Crenarchaeota  k__Archaea;p__Euryarchaeota  \\\n",
       "0    FECAL                          0.0                     0.000000   \n",
       "1    FECAL                          0.0                     0.000000   \n",
       "2    FECAL                          0.0                     0.000000   \n",
       "3     SKIN                          0.0                     0.000000   \n",
       "4    FECAL                          0.0                     0.000065   \n",
       "\n",
       "   k__Archaea;p__[Parvarchaeota]  k__Bacteria;p__  k__Bacteria;p__AD3  \\\n",
       "0                            0.0              0.0                 0.0   \n",
       "1                            0.0              0.0                 0.0   \n",
       "2                            0.0              0.0                 0.0   \n",
       "3                            0.0              0.0                 0.0   \n",
       "4                            0.0              0.0                 0.0   \n",
       "\n",
       "   k__Bacteria;p__Acidobacteria  k__Bacteria;p__Actinobacteria  \\\n",
       "0                      0.000000                       0.001832   \n",
       "1                      0.000000                       0.001634   \n",
       "2                      0.000000                       0.208809   \n",
       "3                      0.000753                       0.630773   \n",
       "4                      0.000000                       0.050539   \n",
       "\n",
       "   k__Bacteria;p__AncK6  k__Bacteria;p__Aquificae  \\\n",
       "0                   0.0                       0.0   \n",
       "1                   0.0                       0.0   \n",
       "2                   0.0                       0.0   \n",
       "3                   0.0                       0.0   \n",
       "4                   0.0                       0.0   \n",
       "\n",
       "                                      ...                                       \\\n",
       "0                                     ...                                        \n",
       "1                                     ...                                        \n",
       "2                                     ...                                        \n",
       "3                                     ...                                        \n",
       "4                                     ...                                        \n",
       "\n",
       "   k__Bacteria;p__WS4;c__;o__;f__;g__  k__Bacteria;p__ZB3;c__;o__;f__;g__  \\\n",
       "0                                 0.0                                 0.0   \n",
       "1                                 0.0                                 0.0   \n",
       "2                                 0.0                                 0.0   \n",
       "3                                 0.0                                 0.0   \n",
       "4                                 0.0                                 0.0   \n",
       "\n",
       "   k__Bacteria;p__[Caldithrix];c__KSB1;o__GW-22;f__;g__  \\\n",
       "0                                                0.0      \n",
       "1                                                0.0      \n",
       "2                                                0.0      \n",
       "3                                                0.0      \n",
       "4                                                0.0      \n",
       "\n",
       "   k__Bacteria;p__[Thermi];c__Deinococci;o__Deinococcales;f__Deinococcaceae;g__CM44  \\\n",
       "0                                                0.0                                  \n",
       "1                                                0.0                                  \n",
       "2                                                0.0                                  \n",
       "3                                                0.0                                  \n",
       "4                                                0.0                                  \n",
       "\n",
       "   k__Bacteria;p__[Thermi];c__Deinococci;o__Deinococcales;f__Deinococcaceae;g__Deinococcus  \\\n",
       "0                                           0.000000                                         \n",
       "1                                           0.000000                                         \n",
       "2                                           0.000000                                         \n",
       "3                                           0.000251                                         \n",
       "4                                           0.000000                                         \n",
       "\n",
       "   k__Bacteria;p__[Thermi];c__Deinococci;o__Deinococcales;f__Trueperaceae;g__  \\\n",
       "0                                                0.0                            \n",
       "1                                                0.0                            \n",
       "2                                                0.0                            \n",
       "3                                                0.0                            \n",
       "4                                                0.0                            \n",
       "\n",
       "   k__Bacteria;p__[Thermi];c__Deinococci;o__Deinococcales;f__Trueperaceae;g__B-42  \\\n",
       "0                                                0.0                                \n",
       "1                                                0.0                                \n",
       "2                                                0.0                                \n",
       "3                                                0.0                                \n",
       "4                                                0.0                                \n",
       "\n",
       "   k__Bacteria;p__[Thermi];c__Deinococci;o__Deinococcales;f__Trueperaceae;g__Truepera  \\\n",
       "0                                                0.0                                    \n",
       "1                                                0.0                                    \n",
       "2                                                0.0                                    \n",
       "3                                                0.0                                    \n",
       "4                                                0.0                                    \n",
       "\n",
       "   k__Bacteria;p__[Thermi];c__Deinococci;o__Thermales;f__Thermaceae;g__Meiothermus  \\\n",
       "0                                                0.0                                 \n",
       "1                                                0.0                                 \n",
       "2                                                0.0                                 \n",
       "3                                                0.0                                 \n",
       "4                                                0.0                                 \n",
       "\n",
       "   k__Bacteria;p__[Thermi];c__Deinococci;o__Thermales;f__Thermaceae;g__Thermus  \n",
       "0                                                0.0                            \n",
       "1                                                0.0                            \n",
       "2                                                0.0                            \n",
       "3                                                0.0                            \n",
       "4                                                0.0                            \n",
       "\n",
       "[5 rows x 2008 columns]"
      ]
     },
     "execution_count": 43,
     "metadata": {},
     "output_type": "execute_result"
    }
   ],
   "source": [
    "df.iloc[:,466:].head()"
   ]
  },
  {
   "cell_type": "code",
   "execution_count": 44,
   "metadata": {
    "collapsed": false
   },
   "outputs": [
    {
     "name": "stdout",
     "output_type": "stream",
     "text": [
      "(8741, 2474)\n"
     ]
    }
   ],
   "source": [
    "df_rel = df[df[\"HMP_SITE\"] == \"FECAL\"]\n",
    "print df_rel.shape"
   ]
  },
  {
   "cell_type": "code",
   "execution_count": 45,
   "metadata": {
    "collapsed": false
   },
   "outputs": [
    {
     "data": {
      "text/html": [
       "<div>\n",
       "<table border=\"1\" class=\"dataframe\">\n",
       "  <thead>\n",
       "    <tr style=\"text-align: right;\">\n",
       "      <th></th>\n",
       "      <th>HMP_SITE</th>\n",
       "      <th>k__Archaea;p__Crenarchaeota</th>\n",
       "      <th>k__Archaea;p__Euryarchaeota</th>\n",
       "      <th>k__Archaea;p__[Parvarchaeota]</th>\n",
       "      <th>k__Bacteria;p__</th>\n",
       "      <th>k__Bacteria;p__AD3</th>\n",
       "      <th>k__Bacteria;p__Acidobacteria</th>\n",
       "      <th>k__Bacteria;p__Actinobacteria</th>\n",
       "      <th>k__Bacteria;p__AncK6</th>\n",
       "      <th>k__Bacteria;p__Aquificae</th>\n",
       "      <th>...</th>\n",
       "      <th>k__Bacteria;p__WS4;c__;o__;f__;g__</th>\n",
       "      <th>k__Bacteria;p__ZB3;c__;o__;f__;g__</th>\n",
       "      <th>k__Bacteria;p__[Caldithrix];c__KSB1;o__GW-22;f__;g__</th>\n",
       "      <th>k__Bacteria;p__[Thermi];c__Deinococci;o__Deinococcales;f__Deinococcaceae;g__CM44</th>\n",
       "      <th>k__Bacteria;p__[Thermi];c__Deinococci;o__Deinococcales;f__Deinococcaceae;g__Deinococcus</th>\n",
       "      <th>k__Bacteria;p__[Thermi];c__Deinococci;o__Deinococcales;f__Trueperaceae;g__</th>\n",
       "      <th>k__Bacteria;p__[Thermi];c__Deinococci;o__Deinococcales;f__Trueperaceae;g__B-42</th>\n",
       "      <th>k__Bacteria;p__[Thermi];c__Deinococci;o__Deinococcales;f__Trueperaceae;g__Truepera</th>\n",
       "      <th>k__Bacteria;p__[Thermi];c__Deinococci;o__Thermales;f__Thermaceae;g__Meiothermus</th>\n",
       "      <th>k__Bacteria;p__[Thermi];c__Deinococci;o__Thermales;f__Thermaceae;g__Thermus</th>\n",
       "    </tr>\n",
       "  </thead>\n",
       "  <tbody>\n",
       "    <tr>\n",
       "      <th>0</th>\n",
       "      <td>FECAL</td>\n",
       "      <td>0.0</td>\n",
       "      <td>0.000000</td>\n",
       "      <td>0.0</td>\n",
       "      <td>0.0</td>\n",
       "      <td>0.0</td>\n",
       "      <td>0.0</td>\n",
       "      <td>0.001832</td>\n",
       "      <td>0.0</td>\n",
       "      <td>0.0</td>\n",
       "      <td>...</td>\n",
       "      <td>0.0</td>\n",
       "      <td>0.0</td>\n",
       "      <td>0.0</td>\n",
       "      <td>0.0</td>\n",
       "      <td>0.0</td>\n",
       "      <td>0.0</td>\n",
       "      <td>0.0</td>\n",
       "      <td>0.0</td>\n",
       "      <td>0.0</td>\n",
       "      <td>0.0</td>\n",
       "    </tr>\n",
       "    <tr>\n",
       "      <th>1</th>\n",
       "      <td>FECAL</td>\n",
       "      <td>0.0</td>\n",
       "      <td>0.000000</td>\n",
       "      <td>0.0</td>\n",
       "      <td>0.0</td>\n",
       "      <td>0.0</td>\n",
       "      <td>0.0</td>\n",
       "      <td>0.001634</td>\n",
       "      <td>0.0</td>\n",
       "      <td>0.0</td>\n",
       "      <td>...</td>\n",
       "      <td>0.0</td>\n",
       "      <td>0.0</td>\n",
       "      <td>0.0</td>\n",
       "      <td>0.0</td>\n",
       "      <td>0.0</td>\n",
       "      <td>0.0</td>\n",
       "      <td>0.0</td>\n",
       "      <td>0.0</td>\n",
       "      <td>0.0</td>\n",
       "      <td>0.0</td>\n",
       "    </tr>\n",
       "    <tr>\n",
       "      <th>2</th>\n",
       "      <td>FECAL</td>\n",
       "      <td>0.0</td>\n",
       "      <td>0.000000</td>\n",
       "      <td>0.0</td>\n",
       "      <td>0.0</td>\n",
       "      <td>0.0</td>\n",
       "      <td>0.0</td>\n",
       "      <td>0.208809</td>\n",
       "      <td>0.0</td>\n",
       "      <td>0.0</td>\n",
       "      <td>...</td>\n",
       "      <td>0.0</td>\n",
       "      <td>0.0</td>\n",
       "      <td>0.0</td>\n",
       "      <td>0.0</td>\n",
       "      <td>0.0</td>\n",
       "      <td>0.0</td>\n",
       "      <td>0.0</td>\n",
       "      <td>0.0</td>\n",
       "      <td>0.0</td>\n",
       "      <td>0.0</td>\n",
       "    </tr>\n",
       "    <tr>\n",
       "      <th>4</th>\n",
       "      <td>FECAL</td>\n",
       "      <td>0.0</td>\n",
       "      <td>0.000065</td>\n",
       "      <td>0.0</td>\n",
       "      <td>0.0</td>\n",
       "      <td>0.0</td>\n",
       "      <td>0.0</td>\n",
       "      <td>0.050539</td>\n",
       "      <td>0.0</td>\n",
       "      <td>0.0</td>\n",
       "      <td>...</td>\n",
       "      <td>0.0</td>\n",
       "      <td>0.0</td>\n",
       "      <td>0.0</td>\n",
       "      <td>0.0</td>\n",
       "      <td>0.0</td>\n",
       "      <td>0.0</td>\n",
       "      <td>0.0</td>\n",
       "      <td>0.0</td>\n",
       "      <td>0.0</td>\n",
       "      <td>0.0</td>\n",
       "    </tr>\n",
       "    <tr>\n",
       "      <th>6</th>\n",
       "      <td>FECAL</td>\n",
       "      <td>0.0</td>\n",
       "      <td>0.000000</td>\n",
       "      <td>0.0</td>\n",
       "      <td>0.0</td>\n",
       "      <td>0.0</td>\n",
       "      <td>0.0</td>\n",
       "      <td>0.021245</td>\n",
       "      <td>0.0</td>\n",
       "      <td>0.0</td>\n",
       "      <td>...</td>\n",
       "      <td>0.0</td>\n",
       "      <td>0.0</td>\n",
       "      <td>0.0</td>\n",
       "      <td>0.0</td>\n",
       "      <td>0.0</td>\n",
       "      <td>0.0</td>\n",
       "      <td>0.0</td>\n",
       "      <td>0.0</td>\n",
       "      <td>0.0</td>\n",
       "      <td>0.0</td>\n",
       "    </tr>\n",
       "  </tbody>\n",
       "</table>\n",
       "<p>5 rows × 2008 columns</p>\n",
       "</div>"
      ],
      "text/plain": [
       "  HMP_SITE  k__Archaea;p__Crenarchaeota  k__Archaea;p__Euryarchaeota  \\\n",
       "0    FECAL                          0.0                     0.000000   \n",
       "1    FECAL                          0.0                     0.000000   \n",
       "2    FECAL                          0.0                     0.000000   \n",
       "4    FECAL                          0.0                     0.000065   \n",
       "6    FECAL                          0.0                     0.000000   \n",
       "\n",
       "   k__Archaea;p__[Parvarchaeota]  k__Bacteria;p__  k__Bacteria;p__AD3  \\\n",
       "0                            0.0              0.0                 0.0   \n",
       "1                            0.0              0.0                 0.0   \n",
       "2                            0.0              0.0                 0.0   \n",
       "4                            0.0              0.0                 0.0   \n",
       "6                            0.0              0.0                 0.0   \n",
       "\n",
       "   k__Bacteria;p__Acidobacteria  k__Bacteria;p__Actinobacteria  \\\n",
       "0                           0.0                       0.001832   \n",
       "1                           0.0                       0.001634   \n",
       "2                           0.0                       0.208809   \n",
       "4                           0.0                       0.050539   \n",
       "6                           0.0                       0.021245   \n",
       "\n",
       "   k__Bacteria;p__AncK6  k__Bacteria;p__Aquificae  \\\n",
       "0                   0.0                       0.0   \n",
       "1                   0.0                       0.0   \n",
       "2                   0.0                       0.0   \n",
       "4                   0.0                       0.0   \n",
       "6                   0.0                       0.0   \n",
       "\n",
       "                                      ...                                       \\\n",
       "0                                     ...                                        \n",
       "1                                     ...                                        \n",
       "2                                     ...                                        \n",
       "4                                     ...                                        \n",
       "6                                     ...                                        \n",
       "\n",
       "   k__Bacteria;p__WS4;c__;o__;f__;g__  k__Bacteria;p__ZB3;c__;o__;f__;g__  \\\n",
       "0                                 0.0                                 0.0   \n",
       "1                                 0.0                                 0.0   \n",
       "2                                 0.0                                 0.0   \n",
       "4                                 0.0                                 0.0   \n",
       "6                                 0.0                                 0.0   \n",
       "\n",
       "   k__Bacteria;p__[Caldithrix];c__KSB1;o__GW-22;f__;g__  \\\n",
       "0                                                0.0      \n",
       "1                                                0.0      \n",
       "2                                                0.0      \n",
       "4                                                0.0      \n",
       "6                                                0.0      \n",
       "\n",
       "   k__Bacteria;p__[Thermi];c__Deinococci;o__Deinococcales;f__Deinococcaceae;g__CM44  \\\n",
       "0                                                0.0                                  \n",
       "1                                                0.0                                  \n",
       "2                                                0.0                                  \n",
       "4                                                0.0                                  \n",
       "6                                                0.0                                  \n",
       "\n",
       "   k__Bacteria;p__[Thermi];c__Deinococci;o__Deinococcales;f__Deinococcaceae;g__Deinococcus  \\\n",
       "0                                                0.0                                         \n",
       "1                                                0.0                                         \n",
       "2                                                0.0                                         \n",
       "4                                                0.0                                         \n",
       "6                                                0.0                                         \n",
       "\n",
       "   k__Bacteria;p__[Thermi];c__Deinococci;o__Deinococcales;f__Trueperaceae;g__  \\\n",
       "0                                                0.0                            \n",
       "1                                                0.0                            \n",
       "2                                                0.0                            \n",
       "4                                                0.0                            \n",
       "6                                                0.0                            \n",
       "\n",
       "   k__Bacteria;p__[Thermi];c__Deinococci;o__Deinococcales;f__Trueperaceae;g__B-42  \\\n",
       "0                                                0.0                                \n",
       "1                                                0.0                                \n",
       "2                                                0.0                                \n",
       "4                                                0.0                                \n",
       "6                                                0.0                                \n",
       "\n",
       "   k__Bacteria;p__[Thermi];c__Deinococci;o__Deinococcales;f__Trueperaceae;g__Truepera  \\\n",
       "0                                                0.0                                    \n",
       "1                                                0.0                                    \n",
       "2                                                0.0                                    \n",
       "4                                                0.0                                    \n",
       "6                                                0.0                                    \n",
       "\n",
       "   k__Bacteria;p__[Thermi];c__Deinococci;o__Thermales;f__Thermaceae;g__Meiothermus  \\\n",
       "0                                                0.0                                 \n",
       "1                                                0.0                                 \n",
       "2                                                0.0                                 \n",
       "4                                                0.0                                 \n",
       "6                                                0.0                                 \n",
       "\n",
       "   k__Bacteria;p__[Thermi];c__Deinococci;o__Thermales;f__Thermaceae;g__Thermus  \n",
       "0                                                0.0                            \n",
       "1                                                0.0                            \n",
       "2                                                0.0                            \n",
       "4                                                0.0                            \n",
       "6                                                0.0                            \n",
       "\n",
       "[5 rows x 2008 columns]"
      ]
     },
     "execution_count": 45,
     "metadata": {},
     "output_type": "execute_result"
    }
   ],
   "source": [
    "df_rel.iloc[:,466:].head()"
   ]
  },
  {
   "cell_type": "markdown",
   "metadata": {},
   "source": [
    "# BMI regression"
   ]
  },
  {
   "cell_type": "code",
   "execution_count": 46,
   "metadata": {
    "collapsed": false
   },
   "outputs": [],
   "source": [
    "df_rel[[\"BMI_CORRECTED\"]] = df_rel[[\"BMI_CORRECTED\"]].apply(lambda x: pd.to_numeric(x, errors = \"coerce\"))"
   ]
  },
  {
   "cell_type": "code",
   "execution_count": 47,
   "metadata": {
    "collapsed": false
   },
   "outputs": [
    {
     "name": "stdout",
     "output_type": "stream",
     "text": [
      "(1779, 2474)\n"
     ]
    }
   ],
   "source": [
    "df_clean = df_rel.dropna()\n",
    "print df_clean.shape"
   ]
  },
  {
   "cell_type": "code",
   "execution_count": 48,
   "metadata": {
    "collapsed": false
   },
   "outputs": [
    {
     "data": {
      "text/plain": [
       "count    1779.000000\n",
       "mean       23.288702\n",
       "std         5.343387\n",
       "min         9.630000\n",
       "25%        20.180000\n",
       "50%        22.830000\n",
       "75%        25.830000\n",
       "max        59.880000\n",
       "Name: BMI_CORRECTED, dtype: float64"
      ]
     },
     "execution_count": 48,
     "metadata": {},
     "output_type": "execute_result"
    }
   ],
   "source": [
    "df_clean[\"BMI_CORRECTED\"].describe()"
   ]
  },
  {
   "cell_type": "code",
   "execution_count": 49,
   "metadata": {
    "collapsed": false
   },
   "outputs": [
    {
     "name": "stdout",
     "output_type": "stream",
     "text": [
      "y shape (1779,)\n",
      "X shape (1779, 2007)\n"
     ]
    }
   ],
   "source": [
    "y = np.array(df_clean[\"BMI_CORRECTED\"])\n",
    "X = np.array(df_clean.iloc[:,467:])\n",
    "print \"y shape\", y.shape\n",
    "print \"X shape\", X.shape"
   ]
  },
  {
   "cell_type": "code",
   "execution_count": 51,
   "metadata": {
    "collapsed": false
   },
   "outputs": [],
   "source": [
    "RF = RandomForestRegressor(n_estimators=1000, n_jobs=-1)"
   ]
  },
  {
   "cell_type": "code",
   "execution_count": 52,
   "metadata": {
    "collapsed": true
   },
   "outputs": [],
   "source": [
    "scores = -1*cross_validation.cross_val_score(RF, X, y, cv=10, scoring = 'mean_absolute_error')"
   ]
  },
  {
   "cell_type": "code",
   "execution_count": 53,
   "metadata": {
    "collapsed": false
   },
   "outputs": [
    {
     "data": {
      "text/plain": [
       "3.4085884482109017"
      ]
     },
     "execution_count": 53,
     "metadata": {},
     "output_type": "execute_result"
    }
   ],
   "source": [
    "np.mean(scores)"
   ]
  },
  {
   "cell_type": "code",
   "execution_count": 54,
   "metadata": {
    "collapsed": false
   },
   "outputs": [
    {
     "data": {
      "text/plain": [
       "3.9147874707671755"
      ]
     },
     "execution_count": 54,
     "metadata": {},
     "output_type": "execute_result"
    }
   ],
   "source": [
    "KNN = GridSearchCV(estimator=KNeighborsRegressor(), param_grid=dict(n_neighbors=range(1,11)), n_jobs = -1, scoring = 'mean_absolute_error')\n",
    "scores = -1*cross_validation.cross_val_score(KNN, X, y, cv=5, scoring = 'mean_absolute_error')\n",
    "np.mean(scores)"
   ]
  },
  {
   "cell_type": "markdown",
   "metadata": {},
   "source": [
    "## Age classification"
   ]
  },
  {
   "cell_type": "code",
   "execution_count": null,
   "metadata": {
    "collapsed": false
   },
   "outputs": [],
   "source": [
    "df_rel[[\"AGE_CORRECTED\"]] = df_rel[\"AGE_CORRECTED\"].apply(lambda x: pd.to_numeric(x, errors = \"coerce\"))\n",
    "df_rel[\"AGE_CORRECTED\"].describe()"
   ]
  },
  {
   "cell_type": "code",
   "execution_count": null,
   "metadata": {
    "collapsed": false
   },
   "outputs": [],
   "source": [
    "df_clean = df_rel.dropna()\n",
    "print df_clean.shape"
   ]
  },
  {
   "cell_type": "code",
   "execution_count": null,
   "metadata": {
    "collapsed": true
   },
   "outputs": [],
   "source": [
    "y = np.array(df_clean[\"AGE_CORRECTED\"])\n",
    "X = np.array(df_clean.iloc[:,467:])\n",
    "\n",
    "X_train, X_test, y_train, y_test = train_test_split(X, y, test_size=0.25, random_state=42)"
   ]
  },
  {
   "cell_type": "code",
   "execution_count": null,
   "metadata": {
    "collapsed": false
   },
   "outputs": [],
   "source": [
    "RF = RandomForestRegressor(n_estimators=1000, n_jobs=-1)\n",
    "RF.fit(X_train, y_train)"
   ]
  },
  {
   "cell_type": "code",
   "execution_count": null,
   "metadata": {
    "collapsed": false
   },
   "outputs": [],
   "source": [
    "RF.score(X_train, y_train)"
   ]
  },
  {
   "cell_type": "code",
   "execution_count": null,
   "metadata": {
    "collapsed": false
   },
   "outputs": [],
   "source": [
    "RF.score(X_test, y_test)"
   ]
  },
  {
   "cell_type": "code",
   "execution_count": null,
   "metadata": {
    "collapsed": true
   },
   "outputs": [],
   "source": [
    "scores = -1*cross_validation.cross_val_score(RF, X, y, cv=5, scoring = 'mean_absolute_error')"
   ]
  },
  {
   "cell_type": "code",
   "execution_count": null,
   "metadata": {
    "collapsed": false
   },
   "outputs": [],
   "source": [
    "scores"
   ]
  },
  {
   "cell_type": "code",
   "execution_count": null,
   "metadata": {
    "collapsed": false
   },
   "outputs": [],
   "source": [
    "np.mean(scores)"
   ]
  },
  {
   "cell_type": "code",
   "execution_count": null,
   "metadata": {
    "collapsed": false
   },
   "outputs": [],
   "source": [
    "KNN = GridSearchCV(estimator=KNeighborsRegressor(), param_grid=dict(n_neighbors=range(10,20)), n_jobs = -1, scoring = 'mean_absolute_error')\n",
    "scores = -1*cross_validation.cross_val_score(KNN, X, y, cv=10, scoring = 'mean_absolute_error')\n",
    "np.mean(scores)"
   ]
  },
  {
   "cell_type": "code",
   "execution_count": null,
   "metadata": {
    "collapsed": true
   },
   "outputs": [],
   "source": []
  }
 ],
 "metadata": {
  "kernelspec": {
   "display_name": "Python 2",
   "language": "python",
   "name": "python2"
  },
  "language_info": {
   "codemirror_mode": {
    "name": "ipython",
    "version": 2
   },
   "file_extension": ".py",
   "mimetype": "text/x-python",
   "name": "python",
   "nbconvert_exporter": "python",
   "pygments_lexer": "ipython2",
   "version": "2.7.12"
  }
 },
 "nbformat": 4,
 "nbformat_minor": 0
}
