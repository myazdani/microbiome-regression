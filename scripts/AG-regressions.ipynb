{
 "cells": [
  {
   "cell_type": "code",
   "execution_count": 1,
   "metadata": {
    "collapsed": false,
    "scrolled": false
   },
   "outputs": [
    {
     "name": "stderr",
     "output_type": "stream",
     "text": [
      "Vendor:  Continuum Analytics, Inc.\n",
      "Package: mkl\n",
      "Message: trial mode expires in 29 days\n"
     ]
    }
   ],
   "source": [
    "import pandas as pd\n",
    "from sklearn.ensemble import RandomForestRegressor, BaggingRegressor\n",
    "from sklearn.neighbors import KNeighborsRegressor\n",
    "from sklearn.cross_validation import train_test_split\n",
    "from sklearn.grid_search import GridSearchCV\n",
    "from sklearn.linear_model import ElasticNetCV\n",
    "from sklearn import cross_validation\n",
    "import numpy as np\n",
    "from sklearn import metrics\n",
    "from FeatureWeights import FeatureWeights\n",
    "from sklearn.pipeline import Pipeline\n",
    "import os\n",
    "import cvxpy as cvx\n",
    "import warnings\n",
    "warnings.filterwarnings('ignore')"
   ]
  },
  {
   "cell_type": "markdown",
   "metadata": {},
   "source": [
    "## Data loading"
   ]
  },
  {
   "cell_type": "markdown",
   "metadata": {},
   "source": [
    "We use genus relative abundances from American Gut dataset. This data was downloaded August 6, 2016."
   ]
  },
  {
   "cell_type": "code",
   "execution_count": 2,
   "metadata": {
    "collapsed": false,
    "scrolled": false
   },
   "outputs": [
    {
     "name": "stdout",
     "output_type": "stream",
     "text": [
      "(9792, 2381)\n"
     ]
    }
   ],
   "source": [
    "df = pd.read_table(\"../data/AG/notrim/ag-cleaned_L6.txt\")\n",
    "print df.shape"
   ]
  },
  {
   "cell_type": "markdown",
   "metadata": {},
   "source": [
    "It appears this data set has 9792 rows and 2381 columns. Taking a look at the first few rows from column 466 and onwrds:"
   ]
  },
  {
   "cell_type": "code",
   "execution_count": 3,
   "metadata": {
    "collapsed": false,
    "scrolled": false
   },
   "outputs": [
    {
     "data": {
      "text/html": [
       "<div>\n",
       "<table border=\"1\" class=\"dataframe\">\n",
       "  <thead>\n",
       "    <tr style=\"text-align: right;\">\n",
       "      <th></th>\n",
       "      <th>HMP_SITE</th>\n",
       "      <th>k__Archaea;p__Crenarchaeota</th>\n",
       "      <th>k__Archaea;p__Euryarchaeota</th>\n",
       "      <th>k__Archaea;p__[Parvarchaeota]</th>\n",
       "      <th>k__Bacteria;p__</th>\n",
       "      <th>k__Bacteria;p__AD3</th>\n",
       "      <th>k__Bacteria;p__Acidobacteria</th>\n",
       "      <th>k__Bacteria;p__Actinobacteria</th>\n",
       "      <th>k__Bacteria;p__AncK6</th>\n",
       "      <th>k__Bacteria;p__Aquificae</th>\n",
       "      <th>...</th>\n",
       "      <th>k__Bacteria;p__WS3;c__PRR-12;o__Sediment-1;f__PRR-10;g__</th>\n",
       "      <th>k__Bacteria;p__WS4;c__;o__;f__;g__</th>\n",
       "      <th>k__Bacteria;p__ZB3;c__;o__;f__;g__</th>\n",
       "      <th>k__Bacteria;p__[Thermi];c__Deinococci;o__Deinococcales;f__Deinococcaceae;g__CM44</th>\n",
       "      <th>k__Bacteria;p__[Thermi];c__Deinococci;o__Deinococcales;f__Deinococcaceae;g__Deinococcus</th>\n",
       "      <th>k__Bacteria;p__[Thermi];c__Deinococci;o__Deinococcales;f__Trueperaceae;g__</th>\n",
       "      <th>k__Bacteria;p__[Thermi];c__Deinococci;o__Deinococcales;f__Trueperaceae;g__B-42</th>\n",
       "      <th>k__Bacteria;p__[Thermi];c__Deinococci;o__Deinococcales;f__Trueperaceae;g__Truepera</th>\n",
       "      <th>k__Bacteria;p__[Thermi];c__Deinococci;o__Thermales;f__Thermaceae;g__Meiothermus</th>\n",
       "      <th>k__Bacteria;p__[Thermi];c__Deinococci;o__Thermales;f__Thermaceae;g__Thermus</th>\n",
       "    </tr>\n",
       "  </thead>\n",
       "  <tbody>\n",
       "    <tr>\n",
       "      <th>0</th>\n",
       "      <td>FECAL</td>\n",
       "      <td>0.0</td>\n",
       "      <td>0.000000</td>\n",
       "      <td>0.0</td>\n",
       "      <td>0.0</td>\n",
       "      <td>0.0</td>\n",
       "      <td>0.000000</td>\n",
       "      <td>0.001755</td>\n",
       "      <td>0.0</td>\n",
       "      <td>0.0</td>\n",
       "      <td>...</td>\n",
       "      <td>0.0</td>\n",
       "      <td>0.0</td>\n",
       "      <td>0.0</td>\n",
       "      <td>0.0</td>\n",
       "      <td>0.0</td>\n",
       "      <td>0.0</td>\n",
       "      <td>0.0</td>\n",
       "      <td>0.0</td>\n",
       "      <td>0.0</td>\n",
       "      <td>0.0</td>\n",
       "    </tr>\n",
       "    <tr>\n",
       "      <th>1</th>\n",
       "      <td>FECAL</td>\n",
       "      <td>0.0</td>\n",
       "      <td>0.000000</td>\n",
       "      <td>0.0</td>\n",
       "      <td>0.0</td>\n",
       "      <td>0.0</td>\n",
       "      <td>0.000000</td>\n",
       "      <td>0.001911</td>\n",
       "      <td>0.0</td>\n",
       "      <td>0.0</td>\n",
       "      <td>...</td>\n",
       "      <td>0.0</td>\n",
       "      <td>0.0</td>\n",
       "      <td>0.0</td>\n",
       "      <td>0.0</td>\n",
       "      <td>0.0</td>\n",
       "      <td>0.0</td>\n",
       "      <td>0.0</td>\n",
       "      <td>0.0</td>\n",
       "      <td>0.0</td>\n",
       "      <td>0.0</td>\n",
       "    </tr>\n",
       "    <tr>\n",
       "      <th>2</th>\n",
       "      <td>FECAL</td>\n",
       "      <td>0.0</td>\n",
       "      <td>0.000000</td>\n",
       "      <td>0.0</td>\n",
       "      <td>0.0</td>\n",
       "      <td>0.0</td>\n",
       "      <td>0.000000</td>\n",
       "      <td>0.218124</td>\n",
       "      <td>0.0</td>\n",
       "      <td>0.0</td>\n",
       "      <td>...</td>\n",
       "      <td>0.0</td>\n",
       "      <td>0.0</td>\n",
       "      <td>0.0</td>\n",
       "      <td>0.0</td>\n",
       "      <td>0.0</td>\n",
       "      <td>0.0</td>\n",
       "      <td>0.0</td>\n",
       "      <td>0.0</td>\n",
       "      <td>0.0</td>\n",
       "      <td>0.0</td>\n",
       "    </tr>\n",
       "    <tr>\n",
       "      <th>3</th>\n",
       "      <td>SKIN</td>\n",
       "      <td>0.0</td>\n",
       "      <td>0.000000</td>\n",
       "      <td>0.0</td>\n",
       "      <td>0.0</td>\n",
       "      <td>0.0</td>\n",
       "      <td>0.000781</td>\n",
       "      <td>0.642207</td>\n",
       "      <td>0.0</td>\n",
       "      <td>0.0</td>\n",
       "      <td>...</td>\n",
       "      <td>0.0</td>\n",
       "      <td>0.0</td>\n",
       "      <td>0.0</td>\n",
       "      <td>0.0</td>\n",
       "      <td>0.0</td>\n",
       "      <td>0.0</td>\n",
       "      <td>0.0</td>\n",
       "      <td>0.0</td>\n",
       "      <td>0.0</td>\n",
       "      <td>0.0</td>\n",
       "    </tr>\n",
       "    <tr>\n",
       "      <th>4</th>\n",
       "      <td>FECAL</td>\n",
       "      <td>0.0</td>\n",
       "      <td>0.000066</td>\n",
       "      <td>0.0</td>\n",
       "      <td>0.0</td>\n",
       "      <td>0.0</td>\n",
       "      <td>0.000000</td>\n",
       "      <td>0.051438</td>\n",
       "      <td>0.0</td>\n",
       "      <td>0.0</td>\n",
       "      <td>...</td>\n",
       "      <td>0.0</td>\n",
       "      <td>0.0</td>\n",
       "      <td>0.0</td>\n",
       "      <td>0.0</td>\n",
       "      <td>0.0</td>\n",
       "      <td>0.0</td>\n",
       "      <td>0.0</td>\n",
       "      <td>0.0</td>\n",
       "      <td>0.0</td>\n",
       "      <td>0.0</td>\n",
       "    </tr>\n",
       "  </tbody>\n",
       "</table>\n",
       "<p>5 rows × 1915 columns</p>\n",
       "</div>"
      ],
      "text/plain": [
       "  HMP_SITE  k__Archaea;p__Crenarchaeota  k__Archaea;p__Euryarchaeota  \\\n",
       "0    FECAL                          0.0                     0.000000   \n",
       "1    FECAL                          0.0                     0.000000   \n",
       "2    FECAL                          0.0                     0.000000   \n",
       "3     SKIN                          0.0                     0.000000   \n",
       "4    FECAL                          0.0                     0.000066   \n",
       "\n",
       "   k__Archaea;p__[Parvarchaeota]  k__Bacteria;p__  k__Bacteria;p__AD3  \\\n",
       "0                            0.0              0.0                 0.0   \n",
       "1                            0.0              0.0                 0.0   \n",
       "2                            0.0              0.0                 0.0   \n",
       "3                            0.0              0.0                 0.0   \n",
       "4                            0.0              0.0                 0.0   \n",
       "\n",
       "   k__Bacteria;p__Acidobacteria  k__Bacteria;p__Actinobacteria  \\\n",
       "0                      0.000000                       0.001755   \n",
       "1                      0.000000                       0.001911   \n",
       "2                      0.000000                       0.218124   \n",
       "3                      0.000781                       0.642207   \n",
       "4                      0.000000                       0.051438   \n",
       "\n",
       "   k__Bacteria;p__AncK6  k__Bacteria;p__Aquificae  \\\n",
       "0                   0.0                       0.0   \n",
       "1                   0.0                       0.0   \n",
       "2                   0.0                       0.0   \n",
       "3                   0.0                       0.0   \n",
       "4                   0.0                       0.0   \n",
       "\n",
       "                                      ...                                       \\\n",
       "0                                     ...                                        \n",
       "1                                     ...                                        \n",
       "2                                     ...                                        \n",
       "3                                     ...                                        \n",
       "4                                     ...                                        \n",
       "\n",
       "   k__Bacteria;p__WS3;c__PRR-12;o__Sediment-1;f__PRR-10;g__  \\\n",
       "0                                                0.0          \n",
       "1                                                0.0          \n",
       "2                                                0.0          \n",
       "3                                                0.0          \n",
       "4                                                0.0          \n",
       "\n",
       "   k__Bacteria;p__WS4;c__;o__;f__;g__  k__Bacteria;p__ZB3;c__;o__;f__;g__  \\\n",
       "0                                 0.0                                 0.0   \n",
       "1                                 0.0                                 0.0   \n",
       "2                                 0.0                                 0.0   \n",
       "3                                 0.0                                 0.0   \n",
       "4                                 0.0                                 0.0   \n",
       "\n",
       "   k__Bacteria;p__[Thermi];c__Deinococci;o__Deinococcales;f__Deinococcaceae;g__CM44  \\\n",
       "0                                                0.0                                  \n",
       "1                                                0.0                                  \n",
       "2                                                0.0                                  \n",
       "3                                                0.0                                  \n",
       "4                                                0.0                                  \n",
       "\n",
       "   k__Bacteria;p__[Thermi];c__Deinococci;o__Deinococcales;f__Deinococcaceae;g__Deinococcus  \\\n",
       "0                                                0.0                                         \n",
       "1                                                0.0                                         \n",
       "2                                                0.0                                         \n",
       "3                                                0.0                                         \n",
       "4                                                0.0                                         \n",
       "\n",
       "   k__Bacteria;p__[Thermi];c__Deinococci;o__Deinococcales;f__Trueperaceae;g__  \\\n",
       "0                                                0.0                            \n",
       "1                                                0.0                            \n",
       "2                                                0.0                            \n",
       "3                                                0.0                            \n",
       "4                                                0.0                            \n",
       "\n",
       "   k__Bacteria;p__[Thermi];c__Deinococci;o__Deinococcales;f__Trueperaceae;g__B-42  \\\n",
       "0                                                0.0                                \n",
       "1                                                0.0                                \n",
       "2                                                0.0                                \n",
       "3                                                0.0                                \n",
       "4                                                0.0                                \n",
       "\n",
       "   k__Bacteria;p__[Thermi];c__Deinococci;o__Deinococcales;f__Trueperaceae;g__Truepera  \\\n",
       "0                                                0.0                                    \n",
       "1                                                0.0                                    \n",
       "2                                                0.0                                    \n",
       "3                                                0.0                                    \n",
       "4                                                0.0                                    \n",
       "\n",
       "   k__Bacteria;p__[Thermi];c__Deinococci;o__Thermales;f__Thermaceae;g__Meiothermus  \\\n",
       "0                                                0.0                                 \n",
       "1                                                0.0                                 \n",
       "2                                                0.0                                 \n",
       "3                                                0.0                                 \n",
       "4                                                0.0                                 \n",
       "\n",
       "   k__Bacteria;p__[Thermi];c__Deinococci;o__Thermales;f__Thermaceae;g__Thermus  \n",
       "0                                                0.0                            \n",
       "1                                                0.0                            \n",
       "2                                                0.0                            \n",
       "3                                                0.0                            \n",
       "4                                                0.0                            \n",
       "\n",
       "[5 rows x 1915 columns]"
      ]
     },
     "execution_count": 3,
     "metadata": {},
     "output_type": "execute_result"
    }
   ],
   "source": [
    "df.iloc[:,466:].head()"
   ]
  },
  {
   "cell_type": "markdown",
   "metadata": {},
   "source": [
    "Get only subset of samples that are fecal and save this subset to a new Data Frame df_rel."
   ]
  },
  {
   "cell_type": "code",
   "execution_count": 4,
   "metadata": {
    "collapsed": false,
    "scrolled": false
   },
   "outputs": [
    {
     "name": "stdout",
     "output_type": "stream",
     "text": [
      "(8724, 2381)\n"
     ]
    }
   ],
   "source": [
    "df_rel = df[df[\"HMP_SITE\"] == \"FECAL\"]\n",
    "print df_rel.shape"
   ]
  },
  {
   "cell_type": "markdown",
   "metadata": {},
   "source": [
    "After removing non fecal samples, we are left with 8724 rows. "
   ]
  },
  {
   "cell_type": "code",
   "execution_count": 5,
   "metadata": {
    "collapsed": false,
    "scrolled": false
   },
   "outputs": [
    {
     "data": {
      "text/html": [
       "<div>\n",
       "<table border=\"1\" class=\"dataframe\">\n",
       "  <thead>\n",
       "    <tr style=\"text-align: right;\">\n",
       "      <th></th>\n",
       "      <th>HMP_SITE</th>\n",
       "      <th>k__Archaea;p__Crenarchaeota</th>\n",
       "      <th>k__Archaea;p__Euryarchaeota</th>\n",
       "      <th>k__Archaea;p__[Parvarchaeota]</th>\n",
       "      <th>k__Bacteria;p__</th>\n",
       "      <th>k__Bacteria;p__AD3</th>\n",
       "      <th>k__Bacteria;p__Acidobacteria</th>\n",
       "      <th>k__Bacteria;p__Actinobacteria</th>\n",
       "      <th>k__Bacteria;p__AncK6</th>\n",
       "      <th>k__Bacteria;p__Aquificae</th>\n",
       "      <th>...</th>\n",
       "      <th>k__Bacteria;p__WS3;c__PRR-12;o__Sediment-1;f__PRR-10;g__</th>\n",
       "      <th>k__Bacteria;p__WS4;c__;o__;f__;g__</th>\n",
       "      <th>k__Bacteria;p__ZB3;c__;o__;f__;g__</th>\n",
       "      <th>k__Bacteria;p__[Thermi];c__Deinococci;o__Deinococcales;f__Deinococcaceae;g__CM44</th>\n",
       "      <th>k__Bacteria;p__[Thermi];c__Deinococci;o__Deinococcales;f__Deinococcaceae;g__Deinococcus</th>\n",
       "      <th>k__Bacteria;p__[Thermi];c__Deinococci;o__Deinococcales;f__Trueperaceae;g__</th>\n",
       "      <th>k__Bacteria;p__[Thermi];c__Deinococci;o__Deinococcales;f__Trueperaceae;g__B-42</th>\n",
       "      <th>k__Bacteria;p__[Thermi];c__Deinococci;o__Deinococcales;f__Trueperaceae;g__Truepera</th>\n",
       "      <th>k__Bacteria;p__[Thermi];c__Deinococci;o__Thermales;f__Thermaceae;g__Meiothermus</th>\n",
       "      <th>k__Bacteria;p__[Thermi];c__Deinococci;o__Thermales;f__Thermaceae;g__Thermus</th>\n",
       "    </tr>\n",
       "  </thead>\n",
       "  <tbody>\n",
       "    <tr>\n",
       "      <th>0</th>\n",
       "      <td>FECAL</td>\n",
       "      <td>0.0</td>\n",
       "      <td>0.000000</td>\n",
       "      <td>0.0</td>\n",
       "      <td>0.0</td>\n",
       "      <td>0.0</td>\n",
       "      <td>0.0</td>\n",
       "      <td>0.001755</td>\n",
       "      <td>0.0</td>\n",
       "      <td>0.0</td>\n",
       "      <td>...</td>\n",
       "      <td>0.0</td>\n",
       "      <td>0.0</td>\n",
       "      <td>0.0</td>\n",
       "      <td>0.0</td>\n",
       "      <td>0.0</td>\n",
       "      <td>0.0</td>\n",
       "      <td>0.0</td>\n",
       "      <td>0.0</td>\n",
       "      <td>0.0</td>\n",
       "      <td>0.0</td>\n",
       "    </tr>\n",
       "    <tr>\n",
       "      <th>1</th>\n",
       "      <td>FECAL</td>\n",
       "      <td>0.0</td>\n",
       "      <td>0.000000</td>\n",
       "      <td>0.0</td>\n",
       "      <td>0.0</td>\n",
       "      <td>0.0</td>\n",
       "      <td>0.0</td>\n",
       "      <td>0.001911</td>\n",
       "      <td>0.0</td>\n",
       "      <td>0.0</td>\n",
       "      <td>...</td>\n",
       "      <td>0.0</td>\n",
       "      <td>0.0</td>\n",
       "      <td>0.0</td>\n",
       "      <td>0.0</td>\n",
       "      <td>0.0</td>\n",
       "      <td>0.0</td>\n",
       "      <td>0.0</td>\n",
       "      <td>0.0</td>\n",
       "      <td>0.0</td>\n",
       "      <td>0.0</td>\n",
       "    </tr>\n",
       "    <tr>\n",
       "      <th>2</th>\n",
       "      <td>FECAL</td>\n",
       "      <td>0.0</td>\n",
       "      <td>0.000000</td>\n",
       "      <td>0.0</td>\n",
       "      <td>0.0</td>\n",
       "      <td>0.0</td>\n",
       "      <td>0.0</td>\n",
       "      <td>0.218124</td>\n",
       "      <td>0.0</td>\n",
       "      <td>0.0</td>\n",
       "      <td>...</td>\n",
       "      <td>0.0</td>\n",
       "      <td>0.0</td>\n",
       "      <td>0.0</td>\n",
       "      <td>0.0</td>\n",
       "      <td>0.0</td>\n",
       "      <td>0.0</td>\n",
       "      <td>0.0</td>\n",
       "      <td>0.0</td>\n",
       "      <td>0.0</td>\n",
       "      <td>0.0</td>\n",
       "    </tr>\n",
       "    <tr>\n",
       "      <th>4</th>\n",
       "      <td>FECAL</td>\n",
       "      <td>0.0</td>\n",
       "      <td>0.000066</td>\n",
       "      <td>0.0</td>\n",
       "      <td>0.0</td>\n",
       "      <td>0.0</td>\n",
       "      <td>0.0</td>\n",
       "      <td>0.051438</td>\n",
       "      <td>0.0</td>\n",
       "      <td>0.0</td>\n",
       "      <td>...</td>\n",
       "      <td>0.0</td>\n",
       "      <td>0.0</td>\n",
       "      <td>0.0</td>\n",
       "      <td>0.0</td>\n",
       "      <td>0.0</td>\n",
       "      <td>0.0</td>\n",
       "      <td>0.0</td>\n",
       "      <td>0.0</td>\n",
       "      <td>0.0</td>\n",
       "      <td>0.0</td>\n",
       "    </tr>\n",
       "    <tr>\n",
       "      <th>6</th>\n",
       "      <td>FECAL</td>\n",
       "      <td>0.0</td>\n",
       "      <td>0.000000</td>\n",
       "      <td>0.0</td>\n",
       "      <td>0.0</td>\n",
       "      <td>0.0</td>\n",
       "      <td>0.0</td>\n",
       "      <td>0.021382</td>\n",
       "      <td>0.0</td>\n",
       "      <td>0.0</td>\n",
       "      <td>...</td>\n",
       "      <td>0.0</td>\n",
       "      <td>0.0</td>\n",
       "      <td>0.0</td>\n",
       "      <td>0.0</td>\n",
       "      <td>0.0</td>\n",
       "      <td>0.0</td>\n",
       "      <td>0.0</td>\n",
       "      <td>0.0</td>\n",
       "      <td>0.0</td>\n",
       "      <td>0.0</td>\n",
       "    </tr>\n",
       "  </tbody>\n",
       "</table>\n",
       "<p>5 rows × 1915 columns</p>\n",
       "</div>"
      ],
      "text/plain": [
       "  HMP_SITE  k__Archaea;p__Crenarchaeota  k__Archaea;p__Euryarchaeota  \\\n",
       "0    FECAL                          0.0                     0.000000   \n",
       "1    FECAL                          0.0                     0.000000   \n",
       "2    FECAL                          0.0                     0.000000   \n",
       "4    FECAL                          0.0                     0.000066   \n",
       "6    FECAL                          0.0                     0.000000   \n",
       "\n",
       "   k__Archaea;p__[Parvarchaeota]  k__Bacteria;p__  k__Bacteria;p__AD3  \\\n",
       "0                            0.0              0.0                 0.0   \n",
       "1                            0.0              0.0                 0.0   \n",
       "2                            0.0              0.0                 0.0   \n",
       "4                            0.0              0.0                 0.0   \n",
       "6                            0.0              0.0                 0.0   \n",
       "\n",
       "   k__Bacteria;p__Acidobacteria  k__Bacteria;p__Actinobacteria  \\\n",
       "0                           0.0                       0.001755   \n",
       "1                           0.0                       0.001911   \n",
       "2                           0.0                       0.218124   \n",
       "4                           0.0                       0.051438   \n",
       "6                           0.0                       0.021382   \n",
       "\n",
       "   k__Bacteria;p__AncK6  k__Bacteria;p__Aquificae  \\\n",
       "0                   0.0                       0.0   \n",
       "1                   0.0                       0.0   \n",
       "2                   0.0                       0.0   \n",
       "4                   0.0                       0.0   \n",
       "6                   0.0                       0.0   \n",
       "\n",
       "                                      ...                                       \\\n",
       "0                                     ...                                        \n",
       "1                                     ...                                        \n",
       "2                                     ...                                        \n",
       "4                                     ...                                        \n",
       "6                                     ...                                        \n",
       "\n",
       "   k__Bacteria;p__WS3;c__PRR-12;o__Sediment-1;f__PRR-10;g__  \\\n",
       "0                                                0.0          \n",
       "1                                                0.0          \n",
       "2                                                0.0          \n",
       "4                                                0.0          \n",
       "6                                                0.0          \n",
       "\n",
       "   k__Bacteria;p__WS4;c__;o__;f__;g__  k__Bacteria;p__ZB3;c__;o__;f__;g__  \\\n",
       "0                                 0.0                                 0.0   \n",
       "1                                 0.0                                 0.0   \n",
       "2                                 0.0                                 0.0   \n",
       "4                                 0.0                                 0.0   \n",
       "6                                 0.0                                 0.0   \n",
       "\n",
       "   k__Bacteria;p__[Thermi];c__Deinococci;o__Deinococcales;f__Deinococcaceae;g__CM44  \\\n",
       "0                                                0.0                                  \n",
       "1                                                0.0                                  \n",
       "2                                                0.0                                  \n",
       "4                                                0.0                                  \n",
       "6                                                0.0                                  \n",
       "\n",
       "   k__Bacteria;p__[Thermi];c__Deinococci;o__Deinococcales;f__Deinococcaceae;g__Deinococcus  \\\n",
       "0                                                0.0                                         \n",
       "1                                                0.0                                         \n",
       "2                                                0.0                                         \n",
       "4                                                0.0                                         \n",
       "6                                                0.0                                         \n",
       "\n",
       "   k__Bacteria;p__[Thermi];c__Deinococci;o__Deinococcales;f__Trueperaceae;g__  \\\n",
       "0                                                0.0                            \n",
       "1                                                0.0                            \n",
       "2                                                0.0                            \n",
       "4                                                0.0                            \n",
       "6                                                0.0                            \n",
       "\n",
       "   k__Bacteria;p__[Thermi];c__Deinococci;o__Deinococcales;f__Trueperaceae;g__B-42  \\\n",
       "0                                                0.0                                \n",
       "1                                                0.0                                \n",
       "2                                                0.0                                \n",
       "4                                                0.0                                \n",
       "6                                                0.0                                \n",
       "\n",
       "   k__Bacteria;p__[Thermi];c__Deinococci;o__Deinococcales;f__Trueperaceae;g__Truepera  \\\n",
       "0                                                0.0                                    \n",
       "1                                                0.0                                    \n",
       "2                                                0.0                                    \n",
       "4                                                0.0                                    \n",
       "6                                                0.0                                    \n",
       "\n",
       "   k__Bacteria;p__[Thermi];c__Deinococci;o__Thermales;f__Thermaceae;g__Meiothermus  \\\n",
       "0                                                0.0                                 \n",
       "1                                                0.0                                 \n",
       "2                                                0.0                                 \n",
       "4                                                0.0                                 \n",
       "6                                                0.0                                 \n",
       "\n",
       "   k__Bacteria;p__[Thermi];c__Deinococci;o__Thermales;f__Thermaceae;g__Thermus  \n",
       "0                                                0.0                            \n",
       "1                                                0.0                            \n",
       "2                                                0.0                            \n",
       "4                                                0.0                            \n",
       "6                                                0.0                            \n",
       "\n",
       "[5 rows x 1915 columns]"
      ]
     },
     "execution_count": 5,
     "metadata": {},
     "output_type": "execute_result"
    }
   ],
   "source": [
    "df_rel.iloc[:,466:].head()"
   ]
  },
  {
   "cell_type": "markdown",
   "metadata": {},
   "source": [
    "# BMI data setup"
   ]
  },
  {
   "cell_type": "markdown",
   "metadata": {},
   "source": [
    "Convert the BMI_CORRECTED column to numeric variables:"
   ]
  },
  {
   "cell_type": "code",
   "execution_count": 6,
   "metadata": {
    "collapsed": false,
    "scrolled": false
   },
   "outputs": [],
   "source": [
    "df_rel[[\"BMI_CORRECTED\"]] = df_rel[[\"BMI_CORRECTED\"]].apply(lambda x: pd.to_numeric(x, errors = \"coerce\"))"
   ]
  },
  {
   "cell_type": "markdown",
   "metadata": {},
   "source": [
    "Remove any rows that did not have BMI_CORRECTED values (probably got coerced to NA when we converted BMI from string to numeric above): "
   ]
  },
  {
   "cell_type": "code",
   "execution_count": 7,
   "metadata": {
    "collapsed": false,
    "scrolled": false
   },
   "outputs": [
    {
     "name": "stdout",
     "output_type": "stream",
     "text": [
      "(1772, 2381)\n"
     ]
    }
   ],
   "source": [
    "df_clean = df_rel.dropna()\n",
    "print df_clean.shape"
   ]
  },
  {
   "cell_type": "markdown",
   "metadata": {},
   "source": [
    "After removing the the missing BMI_CORRECTED rows, we are left with 1772 samples. Lets take a look at the summary statistics of the BMI_CORRECTED values to see if we have sensible BMI's:"
   ]
  },
  {
   "cell_type": "code",
   "execution_count": 8,
   "metadata": {
    "collapsed": false,
    "scrolled": false
   },
   "outputs": [
    {
     "data": {
      "text/plain": [
       "count    1772.000000\n",
       "mean       23.284814\n",
       "std         5.347557\n",
       "min         9.630000\n",
       "25%        20.180000\n",
       "50%        22.820000\n",
       "75%        25.830000\n",
       "max        59.880000\n",
       "Name: BMI_CORRECTED, dtype: float64"
      ]
     },
     "execution_count": 8,
     "metadata": {},
     "output_type": "execute_result"
    }
   ],
   "source": [
    "df_clean[\"BMI_CORRECTED\"].describe()"
   ]
  },
  {
   "cell_type": "markdown",
   "metadata": {},
   "source": [
    "It seems we have a reasonable distributions of BMIs, although the min and max BMI's that we have might be considered outliers. It may be sensible to remove BMI's above and below the 95 and 5 percentiles respectively. Lets explore the relationship between age and BMI_corrected to see if anything pops out:"
   ]
  },
  {
   "cell_type": "code",
   "execution_count": 9,
   "metadata": {
    "collapsed": false,
    "scrolled": false
   },
   "outputs": [
    {
     "name": "stdout",
     "output_type": "stream",
     "text": [
      "shape of data: (1606, 2381)\n"
     ]
    },
    {
     "data": {
      "text/plain": [
       "[<matplotlib.lines.Line2D at 0x11bfcf450>]"
      ]
     },
     "execution_count": 9,
     "metadata": {},
     "output_type": "execute_result"
    },
    {
     "data": {
      "image/png": "[encoded data removed]",
      "text/plain": [
       "<matplotlib.figure.Figure at 0x1047bf710>"
      ]
     },
     "metadata": {},
     "output_type": "display_data"
    }
   ],
   "source": [
    "import matplotlib.pyplot as plt\n",
    "\n",
    "%matplotlib inline\n",
    "df_rel[[\"AGE_CORRECTED\"]] = df_rel[[\"AGE_CORRECTED\"]].apply(lambda x: pd.to_numeric(x, errors = \"coerce\"))\n",
    "df_clean = df_rel.dropna()\n",
    "print \"shape of data:\", df_clean.shape\n",
    "plt.plot(df_clean.AGE_CORRECTED, df_clean.BMI_CORRECTED, '.')"
   ]
  },
  {
   "cell_type": "markdown",
   "metadata": {},
   "source": [
    "It appears that there are two distinc distribution of BMIs before and after age 20. It also looks like there are about a dozen or so very large BMIs but we will keep them in the data and remove samples from individuals 20 years or younger:"
   ]
  },
  {
   "cell_type": "code",
   "execution_count": 10,
   "metadata": {
    "collapsed": false,
    "scrolled": false
   },
   "outputs": [],
   "source": [
    "df_age_20 = df_clean[df_clean.AGE_CORRECTED>20]"
   ]
  },
  {
   "cell_type": "markdown",
   "metadata": {},
   "source": [
    "Create a numpy 2D array X for features and the numpy array 1D array y. We use this for training the models using the Scikit-learn framework: "
   ]
  },
  {
   "cell_type": "code",
   "execution_count": 11,
   "metadata": {
    "collapsed": false,
    "scrolled": false
   },
   "outputs": [
    {
     "name": "stdout",
     "output_type": "stream",
     "text": [
      "y shape (1436,)\n",
      "X shape (1436, 1914)\n"
     ]
    }
   ],
   "source": [
    "y = np.array(df_age_20[\"BMI_CORRECTED\"])\n",
    "X = np.array(df_age_20.iloc[:,467:])\n",
    "print \"y shape\", y.shape\n",
    "print \"X shape\", X.shape"
   ]
  },
  {
   "cell_type": "markdown",
   "metadata": {},
   "source": [
    "We use 90% of the data to train and validate models and report results using 10-fold cross validation. The remaining 10% is a \"hold-out, use only once\" data snippet. "
   ]
  },
  {
   "cell_type": "code",
   "execution_count": 12,
   "metadata": {
    "collapsed": false,
    "scrolled": false
   },
   "outputs": [
    {
     "name": "stdout",
     "output_type": "stream",
     "text": [
      "(1292, 1914)\n",
      "(1292,)\n"
     ]
    }
   ],
   "source": [
    "X_train, X_test, y_train, y_test = train_test_split(X, y, test_size=0.1, random_state=42)\n",
    "print X_train.shape\n",
    "print y_train.shape"
   ]
  },
  {
   "cell_type": "markdown",
   "metadata": {},
   "source": [
    "## Regression Benchmarks on AG data"
   ]
  },
  {
   "cell_type": "markdown",
   "metadata": {},
   "source": [
    "We use 10-fold cross validation to evaluate a number of different regression algorithms. As many regression models require parameters that must be selected through gridsearch, for each fold we perform additional cross validation (using 3 folds) to determine hyperparameters via gridsearch.  The \"pipeline\" class in Scikit-learn gives us an easy interface to perform such nested cross validation and preventing leakage. \n",
    "\n",
    "We measure error using \"mean absolute error\".\n",
    "\n",
    "We start with the elastic net linear regression algorithm where we have two hyperparemters to search through (l1 and l2 penatlies). "
   ]
  },
  {
   "cell_type": "code",
   "execution_count": 35,
   "metadata": {
    "collapsed": false,
    "scrolled": false
   },
   "outputs": [
    {
     "name": "stdout",
     "output_type": "stream",
     "text": [
      "3.41460732621 0.22166670894\n"
     ]
    }
   ],
   "source": [
    "ENet = ElasticNetCV(l1_ratio=[.1, .5, .7, .9, .95, .99, 1], eps=0.001, n_alphas=10, normalize=False, \n",
    "                            max_iter=3000, tol=0.0001, cv=3, copy_X=True, n_jobs=-1)\n",
    "\n",
    "ENET_scores =-1*cross_validation.cross_val_score(ENet, X_train, y_train, cv=10, scoring = 'mean_absolute_error')\n",
    "print np.mean(ENET_scores), np.std(ENET_scores)"
   ]
  },
  {
   "cell_type": "markdown",
   "metadata": {},
   "source": [
    "Next we test the mean absolute accuracy of Random Forests. For Random Forests we do not perform nested cross validation over the hyperparameters and just use the default parameters with a very large number of trees. "
   ]
  },
  {
   "cell_type": "code",
   "execution_count": 14,
   "metadata": {
    "collapsed": false,
    "scrolled": false
   },
   "outputs": [
    {
     "name": "stdout",
     "output_type": "stream",
     "text": [
      "3.34753226029 0.261042531623\n"
     ]
    }
   ],
   "source": [
    "RF = RandomForestRegressor(n_estimators=1000, n_jobs=-1)\n",
    "RF_scores = -1*cross_validation.cross_val_score(RF, X_train, y_train, cv=10, scoring = 'mean_absolute_error')\n",
    "print np.mean(RF_scores), np.std(RF_scores)"
   ]
  },
  {
   "cell_type": "markdown",
   "metadata": {},
   "source": [
    "Next we use the K-nearest neighbor (KNN) algorithm. We gridsearch over the number of neighbors ranging from 1 to 10."
   ]
  },
  {
   "cell_type": "code",
   "execution_count": 15,
   "metadata": {
    "collapsed": false,
    "scrolled": false
   },
   "outputs": [
    {
     "name": "stdout",
     "output_type": "stream",
     "text": [
      "3.56851981614 0.246206957151\n"
     ]
    }
   ],
   "source": [
    "KNN = GridSearchCV(estimator=KNeighborsRegressor(), param_grid=dict(n_neighbors=range(1,11)), n_jobs = -1, scoring = 'mean_absolute_error')\n",
    "KNN_scores = -1*cross_validation.cross_val_score(KNN, X_train, y_train, cv=10, scoring = 'mean_absolute_error')\n",
    "print np.mean(KNN_scores), np.std(KNN_scores)"
   ]
  },
  {
   "cell_type": "markdown",
   "metadata": {},
   "source": [
    "Next we use KNN but with the feature weight learning as a preprocessing step. We only gridsearch over KNN paramters: the number of neighbors (1-10) and the metric (p = 1 and p = 2). Since feature weight learning is computationally expensive, we use a bagging ensemble approach that performs the pipeline with 100 samples at a time and the number of ensembles is 50 (no bootstrapping is used):"
   ]
  },
  {
   "cell_type": "code",
   "execution_count": 16,
   "metadata": {
    "collapsed": false,
    "scrolled": false
   },
   "outputs": [
    {
     "name": "stdout",
     "output_type": "stream",
     "text": [
      "3.30488440762 0.231256472536\n"
     ]
    }
   ],
   "source": [
    "FW = FeatureWeights(upper_bound=False, cvx_solver=cvx.SCS, obj_norm=2, bagged_estimate=False)\n",
    "\n",
    "KNN = GridSearchCV(estimator=KNeighborsRegressor(), \n",
    "                   param_grid=dict(n_neighbors=range(1,11), p=[1,2]), \n",
    "                   n_jobs = 1, scoring = 'mean_absolute_error')        \n",
    "\n",
    "metric_KNN = Pipeline([('metric', FW), ('knn', KNN)])\n",
    "\n",
    "metric_KNN_scores =-1*cross_validation.cross_val_score(BaggingRegressor(metric_KNN,max_samples=100, bootstrap = False, \n",
    "                                                                     n_estimators=50, n_jobs = -1), \n",
    "                                                     X_train, y_train, cv=10, scoring = 'mean_absolute_error', )\n",
    "print np.mean(metric_KNN_scores), np.std(metric_KNN_scores)"
   ]
  },
  {
   "cell_type": "markdown",
   "metadata": {},
   "source": [
    "To make a more fair comparison with KNN, we also perform KNN with bagging but without feature weight learning as a preprocessing step:"
   ]
  },
  {
   "cell_type": "code",
   "execution_count": 17,
   "metadata": {
    "collapsed": false
   },
   "outputs": [
    {
     "name": "stdout",
     "output_type": "stream",
     "text": [
      "3.43032466181 0.222186577607\n"
     ]
    }
   ],
   "source": [
    "KNN = GridSearchCV(estimator=KNeighborsRegressor(), param_grid=dict(n_neighbors=range(1,11)), n_jobs = 1, scoring = 'mean_absolute_error')\n",
    "bagged_KNN_scores = -1*cross_validation.cross_val_score(BaggingRegressor(KNN,max_samples=100, bootstrap = True, \n",
    "                                                                     n_estimators=50, n_jobs = -1), X_train, y_train, cv=10, scoring = 'mean_absolute_error')\n",
    "print np.mean(bagged_KNN_scores), np.std(bagged_KNN_scores)"
   ]
  },
  {
   "cell_type": "markdown",
   "metadata": {},
   "source": [
    "We also see if using feature weight learning as a preprocessing step would affect the elastic net. Again, we use bagging with 100 samples and 50 draws to allow feature weight learning to be more scalable (and perhaps more robust? TBD). ENET parameters are again found using gridsearch over the same params as initial modeling: "
   ]
  },
  {
   "cell_type": "code",
   "execution_count": 18,
   "metadata": {
    "collapsed": false,
    "scrolled": false
   },
   "outputs": [
    {
     "name": "stdout",
     "output_type": "stream",
     "text": [
      "3.43762430569 0.243418786689\n"
     ]
    }
   ],
   "source": [
    "FW = FeatureWeights(upper_bound=False, cvx_solver=cvx.SCS, obj_norm=2)\n",
    "\n",
    "\n",
    "ENet = ElasticNetCV(l1_ratio=[.1, .5, .7, .9, .95, .99, 1], eps=0.001, n_alphas=10, normalize=False, \n",
    "                            max_iter=3000, tol=0.0001, cv=3, copy_X=True, n_jobs=1)\n",
    "\n",
    "metric_ENET = Pipeline([('metric', FW), ('enet', ENet)])\n",
    "\n",
    "metric_ENET_scores =-1*cross_validation.cross_val_score(BaggingRegressor(metric_ENET,max_samples=100, bootstrap = False, \n",
    "                                                                     n_estimators=50, n_jobs = -1), \n",
    "                                                     X_train, y_train, cv=10, scoring = 'mean_absolute_error')\n",
    "\n",
    "print np.mean(metric_ENET_scores), np.std(metric_ENET_scores)"
   ]
  },
  {
   "cell_type": "markdown",
   "metadata": {},
   "source": [
    "Again, to make a more fair comparison with vanilla ENET, we also perform ENET with bagging but without feature weight learning as a preprocessing step:"
   ]
  },
  {
   "cell_type": "code",
   "execution_count": 19,
   "metadata": {
    "collapsed": false,
    "scrolled": false
   },
   "outputs": [
    {
     "name": "stdout",
     "output_type": "stream",
     "text": [
      "3.44282188322 0.209521362455\n"
     ]
    }
   ],
   "source": [
    "ENet = ElasticNetCV(l1_ratio=[.1, .5, .7, .9, .95, .99, 1], eps=0.001, n_alphas=10, normalize=True, \n",
    "                            max_iter=1000, tol=0.0001, cv=3, copy_X=True, n_jobs=-1)\n",
    "\n",
    "bagged_ENET_scores =-1*cross_validation.cross_val_score(BaggingRegressor(ENet,max_samples=50, bootstrap = False, \n",
    "                                                                     n_estimators=10), \n",
    "                                                     X_train, y_train, cv=10, scoring = 'mean_absolute_error', )\n",
    "\n",
    "print np.mean(bagged_ENET_scores), np.std(bagged_ENET_scores)"
   ]
  },
  {
   "cell_type": "markdown",
   "metadata": {},
   "source": [
    "##Test on LS"
   ]
  },
  {
   "cell_type": "markdown",
   "metadata": {},
   "source": [
    "We now test the models that we have investigated on a completely different hold out. Our hold out is the LS dataset prepared by Justine Debelius and the BMI prepared by Larry Smarr. We merge the data with the AG dataset and impute 0 for microbiobes that were not found in the LS stool samples."
   ]
  },
  {
   "cell_type": "code",
   "execution_count": 20,
   "metadata": {
    "collapsed": false,
    "scrolled": false
   },
   "outputs": [
    {
     "data": {
      "text/html": [
       "<div>\n",
       "<table border=\"1\" class=\"dataframe\">\n",
       "  <thead>\n",
       "    <tr style=\"text-align: right;\">\n",
       "      <th></th>\n",
       "      <th>BMI_CORRECTED</th>\n",
       "      <th>k__Archaea.p__Crenarchaeota</th>\n",
       "      <th>k__Archaea.p__Euryarchaeota</th>\n",
       "      <th>k__Archaea.p__.Parvarchaeota.</th>\n",
       "      <th>k__Bacteria.p__</th>\n",
       "      <th>k__Bacteria.p__AD3</th>\n",
       "      <th>k__Bacteria.p__Acidobacteria</th>\n",
       "      <th>k__Bacteria.p__Actinobacteria</th>\n",
       "      <th>k__Bacteria.p__AncK6</th>\n",
       "      <th>k__Bacteria.p__Aquificae</th>\n",
       "      <th>...</th>\n",
       "      <th>k__Bacteria.p__WS4.c__.o__.f__.g__</th>\n",
       "      <th>k__Bacteria.p__ZB3.c__.o__.f__.g__</th>\n",
       "      <th>k__Bacteria.p__.Thermi..c__Deinococci.o__Deinococcales.f__Deinococcaceae.g__CM44</th>\n",
       "      <th>k__Bacteria.p__.Thermi..c__Deinococci.o__Deinococcales.f__Deinococcaceae.g__Deinococcus</th>\n",
       "      <th>k__Bacteria.p__.Thermi..c__Deinococci.o__Deinococcales.f__Trueperaceae.g__</th>\n",
       "      <th>k__Bacteria.p__.Thermi..c__Deinococci.o__Deinococcales.f__Trueperaceae.g__B.42</th>\n",
       "      <th>k__Bacteria.p__.Thermi..c__Deinococci.o__Deinococcales.f__Trueperaceae.g__Truepera</th>\n",
       "      <th>k__Bacteria.p__.Thermi..c__Deinococci.o__Thermales.f__Thermaceae.g__Meiothermus</th>\n",
       "      <th>k__Bacteria.p__.Thermi..c__Deinococci.o__Thermales.f__Thermaceae.g__Thermus</th>\n",
       "      <th>data.source</th>\n",
       "    </tr>\n",
       "  </thead>\n",
       "  <tbody>\n",
       "    <tr>\n",
       "      <th>0</th>\n",
       "      <td>24.07</td>\n",
       "      <td>0.0</td>\n",
       "      <td>0.0</td>\n",
       "      <td>0</td>\n",
       "      <td>0.0</td>\n",
       "      <td>0</td>\n",
       "      <td>0.0</td>\n",
       "      <td>0.041194</td>\n",
       "      <td>0</td>\n",
       "      <td>0</td>\n",
       "      <td>...</td>\n",
       "      <td>0</td>\n",
       "      <td>0</td>\n",
       "      <td>0</td>\n",
       "      <td>0.0</td>\n",
       "      <td>0</td>\n",
       "      <td>0</td>\n",
       "      <td>0.0</td>\n",
       "      <td>0</td>\n",
       "      <td>0.0</td>\n",
       "      <td>AG</td>\n",
       "    </tr>\n",
       "    <tr>\n",
       "      <th>1</th>\n",
       "      <td>21.93</td>\n",
       "      <td>0.0</td>\n",
       "      <td>0.0</td>\n",
       "      <td>0</td>\n",
       "      <td>0.0</td>\n",
       "      <td>0</td>\n",
       "      <td>0.0</td>\n",
       "      <td>0.001482</td>\n",
       "      <td>0</td>\n",
       "      <td>0</td>\n",
       "      <td>...</td>\n",
       "      <td>0</td>\n",
       "      <td>0</td>\n",
       "      <td>0</td>\n",
       "      <td>0.0</td>\n",
       "      <td>0</td>\n",
       "      <td>0</td>\n",
       "      <td>0.0</td>\n",
       "      <td>0</td>\n",
       "      <td>0.0</td>\n",
       "      <td>AG</td>\n",
       "    </tr>\n",
       "    <tr>\n",
       "      <th>2</th>\n",
       "      <td>22.22</td>\n",
       "      <td>0.0</td>\n",
       "      <td>0.0</td>\n",
       "      <td>0</td>\n",
       "      <td>0.0</td>\n",
       "      <td>0</td>\n",
       "      <td>0.0</td>\n",
       "      <td>0.000000</td>\n",
       "      <td>0</td>\n",
       "      <td>0</td>\n",
       "      <td>...</td>\n",
       "      <td>0</td>\n",
       "      <td>0</td>\n",
       "      <td>0</td>\n",
       "      <td>0.0</td>\n",
       "      <td>0</td>\n",
       "      <td>0</td>\n",
       "      <td>0.0</td>\n",
       "      <td>0</td>\n",
       "      <td>0.0</td>\n",
       "      <td>AG</td>\n",
       "    </tr>\n",
       "    <tr>\n",
       "      <th>3</th>\n",
       "      <td>14.96</td>\n",
       "      <td>0.0</td>\n",
       "      <td>0.0</td>\n",
       "      <td>0</td>\n",
       "      <td>0.0</td>\n",
       "      <td>0</td>\n",
       "      <td>0.0</td>\n",
       "      <td>0.146594</td>\n",
       "      <td>0</td>\n",
       "      <td>0</td>\n",
       "      <td>...</td>\n",
       "      <td>0</td>\n",
       "      <td>0</td>\n",
       "      <td>0</td>\n",
       "      <td>0.0</td>\n",
       "      <td>0</td>\n",
       "      <td>0</td>\n",
       "      <td>0.0</td>\n",
       "      <td>0</td>\n",
       "      <td>0.0</td>\n",
       "      <td>AG</td>\n",
       "    </tr>\n",
       "    <tr>\n",
       "      <th>4</th>\n",
       "      <td>24.96</td>\n",
       "      <td>0.0</td>\n",
       "      <td>0.0</td>\n",
       "      <td>0</td>\n",
       "      <td>0.0</td>\n",
       "      <td>0</td>\n",
       "      <td>0.0</td>\n",
       "      <td>0.003996</td>\n",
       "      <td>0</td>\n",
       "      <td>0</td>\n",
       "      <td>...</td>\n",
       "      <td>0</td>\n",
       "      <td>0</td>\n",
       "      <td>0</td>\n",
       "      <td>0.0</td>\n",
       "      <td>0</td>\n",
       "      <td>0</td>\n",
       "      <td>0.0</td>\n",
       "      <td>0</td>\n",
       "      <td>0.0</td>\n",
       "      <td>AG</td>\n",
       "    </tr>\n",
       "  </tbody>\n",
       "</table>\n",
       "<p>5 rows × 1916 columns</p>\n",
       "</div>"
      ],
      "text/plain": [
       "   BMI_CORRECTED  k__Archaea.p__Crenarchaeota  k__Archaea.p__Euryarchaeota  \\\n",
       "0          24.07                          0.0                          0.0   \n",
       "1          21.93                          0.0                          0.0   \n",
       "2          22.22                          0.0                          0.0   \n",
       "3          14.96                          0.0                          0.0   \n",
       "4          24.96                          0.0                          0.0   \n",
       "\n",
       "   k__Archaea.p__.Parvarchaeota.  k__Bacteria.p__  k__Bacteria.p__AD3  \\\n",
       "0                              0              0.0                   0   \n",
       "1                              0              0.0                   0   \n",
       "2                              0              0.0                   0   \n",
       "3                              0              0.0                   0   \n",
       "4                              0              0.0                   0   \n",
       "\n",
       "   k__Bacteria.p__Acidobacteria  k__Bacteria.p__Actinobacteria  \\\n",
       "0                           0.0                       0.041194   \n",
       "1                           0.0                       0.001482   \n",
       "2                           0.0                       0.000000   \n",
       "3                           0.0                       0.146594   \n",
       "4                           0.0                       0.003996   \n",
       "\n",
       "   k__Bacteria.p__AncK6  k__Bacteria.p__Aquificae     ...       \\\n",
       "0                     0                         0     ...        \n",
       "1                     0                         0     ...        \n",
       "2                     0                         0     ...        \n",
       "3                     0                         0     ...        \n",
       "4                     0                         0     ...        \n",
       "\n",
       "   k__Bacteria.p__WS4.c__.o__.f__.g__  k__Bacteria.p__ZB3.c__.o__.f__.g__  \\\n",
       "0                                   0                                   0   \n",
       "1                                   0                                   0   \n",
       "2                                   0                                   0   \n",
       "3                                   0                                   0   \n",
       "4                                   0                                   0   \n",
       "\n",
       "   k__Bacteria.p__.Thermi..c__Deinococci.o__Deinococcales.f__Deinococcaceae.g__CM44  \\\n",
       "0                                                  0                                  \n",
       "1                                                  0                                  \n",
       "2                                                  0                                  \n",
       "3                                                  0                                  \n",
       "4                                                  0                                  \n",
       "\n",
       "   k__Bacteria.p__.Thermi..c__Deinococci.o__Deinococcales.f__Deinococcaceae.g__Deinococcus  \\\n",
       "0                                                0.0                                         \n",
       "1                                                0.0                                         \n",
       "2                                                0.0                                         \n",
       "3                                                0.0                                         \n",
       "4                                                0.0                                         \n",
       "\n",
       "   k__Bacteria.p__.Thermi..c__Deinococci.o__Deinococcales.f__Trueperaceae.g__  \\\n",
       "0                                                  0                            \n",
       "1                                                  0                            \n",
       "2                                                  0                            \n",
       "3                                                  0                            \n",
       "4                                                  0                            \n",
       "\n",
       "   k__Bacteria.p__.Thermi..c__Deinococci.o__Deinococcales.f__Trueperaceae.g__B.42  \\\n",
       "0                                                  0                                \n",
       "1                                                  0                                \n",
       "2                                                  0                                \n",
       "3                                                  0                                \n",
       "4                                                  0                                \n",
       "\n",
       "   k__Bacteria.p__.Thermi..c__Deinococci.o__Deinococcales.f__Trueperaceae.g__Truepera  \\\n",
       "0                                                0.0                                    \n",
       "1                                                0.0                                    \n",
       "2                                                0.0                                    \n",
       "3                                                0.0                                    \n",
       "4                                                0.0                                    \n",
       "\n",
       "   k__Bacteria.p__.Thermi..c__Deinococci.o__Thermales.f__Thermaceae.g__Meiothermus  \\\n",
       "0                                                  0                                 \n",
       "1                                                  0                                 \n",
       "2                                                  0                                 \n",
       "3                                                  0                                 \n",
       "4                                                  0                                 \n",
       "\n",
       "   k__Bacteria.p__.Thermi..c__Deinococci.o__Thermales.f__Thermaceae.g__Thermus  \\\n",
       "0                                                0.0                             \n",
       "1                                                0.0                             \n",
       "2                                                0.0                             \n",
       "3                                                0.0                             \n",
       "4                                                0.0                             \n",
       "\n",
       "   data.source  \n",
       "0           AG  \n",
       "1           AG  \n",
       "2           AG  \n",
       "3           AG  \n",
       "4           AG  \n",
       "\n",
       "[5 rows x 1916 columns]"
      ]
     },
     "execution_count": 20,
     "metadata": {},
     "output_type": "execute_result"
    }
   ],
   "source": [
    "LS_AG_df = pd.read_csv(\"../data/AG-LS-BMI.csv\")\n",
    "LS_AG_df.head()"
   ]
  },
  {
   "cell_type": "markdown",
   "metadata": {},
   "source": [
    "Sanity check that we indeed have 81 LS samples after the merge with the AG dataset and put LS data in its own data frame:"
   ]
  },
  {
   "cell_type": "code",
   "execution_count": 21,
   "metadata": {
    "collapsed": false,
    "scrolled": false
   },
   "outputs": [
    {
     "name": "stdout",
     "output_type": "stream",
     "text": [
      "(81, 1916)\n"
     ]
    }
   ],
   "source": [
    "LS_df = LS_AG_df[LS_AG_df[\"data.source\"] != \"AG\"]\n",
    "print LS_df.shape"
   ]
  },
  {
   "cell_type": "markdown",
   "metadata": {},
   "source": [
    "Place the genus relative abundaces as features in X_LS numpy 2D array and the BMI values as a numpy 1D array y_LS:"
   ]
  },
  {
   "cell_type": "code",
   "execution_count": 22,
   "metadata": {
    "collapsed": false,
    "scrolled": false
   },
   "outputs": [],
   "source": [
    "X_LS = np.array(LS_df.iloc[:,1:-1])\n",
    "y_LS = np.array(LS_df.BMI_CORRECTED)"
   ]
  },
  {
   "cell_type": "markdown",
   "metadata": {},
   "source": [
    "Train Random Forest model on AG data set:"
   ]
  },
  {
   "cell_type": "code",
   "execution_count": 23,
   "metadata": {
    "collapsed": false,
    "scrolled": true
   },
   "outputs": [
    {
     "data": {
      "text/plain": [
       "RandomForestRegressor(bootstrap=True, criterion='mse', max_depth=None,\n",
       "           max_features='auto', max_leaf_nodes=None, min_samples_leaf=1,\n",
       "           min_samples_split=2, min_weight_fraction_leaf=0.0,\n",
       "           n_estimators=1000, n_jobs=-1, oob_score=False,\n",
       "           random_state=None, verbose=0, warm_start=False)"
      ]
     },
     "execution_count": 23,
     "metadata": {},
     "output_type": "execute_result"
    }
   ],
   "source": [
    "RF = RandomForestRegressor(n_estimators=1000, n_jobs=-1)\n",
    "RF.fit(X_train, y_train)"
   ]
  },
  {
   "cell_type": "markdown",
   "metadata": {},
   "source": [
    "Evaluate trained Random Forest model on the LS data and compute the mean absolute error:"
   ]
  },
  {
   "cell_type": "code",
   "execution_count": 24,
   "metadata": {
    "collapsed": false,
    "scrolled": false
   },
   "outputs": [
    {
     "data": {
      "text/plain": [
       "3.256793952527957"
      ]
     },
     "execution_count": 24,
     "metadata": {},
     "output_type": "execute_result"
    }
   ],
   "source": [
    "np.mean(abs(RF.predict(X_LS)-y_LS))"
   ]
  },
  {
   "cell_type": "markdown",
   "metadata": {},
   "source": [
    "Also evalute trained Random Forest model on the hold out of the AG data that we prepared above:"
   ]
  },
  {
   "cell_type": "code",
   "execution_count": 25,
   "metadata": {
    "collapsed": false,
    "scrolled": false
   },
   "outputs": [
    {
     "data": {
      "text/plain": [
       "4.0843226369897501"
      ]
     },
     "execution_count": 25,
     "metadata": {},
     "output_type": "execute_result"
    }
   ],
   "source": [
    "np.mean(abs(RF.predict(X_test)-y_test))"
   ]
  },
  {
   "cell_type": "markdown",
   "metadata": {},
   "source": [
    "Now \"train\" KNN model by gridsearching over the different number of neighbors (ranging from 1 to 10) using 3-fold cross validation (same parameter selection method as before) on the AG data set:"
   ]
  },
  {
   "cell_type": "code",
   "execution_count": 26,
   "metadata": {
    "collapsed": false,
    "scrolled": false
   },
   "outputs": [
    {
     "data": {
      "text/plain": [
       "GridSearchCV(cv=None, error_score='raise',\n",
       "       estimator=KNeighborsRegressor(algorithm='auto', leaf_size=30, metric='minkowski',\n",
       "          metric_params=None, n_jobs=1, n_neighbors=5, p=2,\n",
       "          weights='uniform'),\n",
       "       fit_params={}, iid=True, n_jobs=-1,\n",
       "       param_grid={'n_neighbors': [1, 2, 3, 4, 5, 6, 7, 8, 9, 10]},\n",
       "       pre_dispatch='2*n_jobs', refit=True, scoring='mean_absolute_error',\n",
       "       verbose=0)"
      ]
     },
     "execution_count": 26,
     "metadata": {},
     "output_type": "execute_result"
    }
   ],
   "source": [
    "KNN = GridSearchCV(estimator=KNeighborsRegressor(), param_grid=dict(n_neighbors=range(1,11)), n_jobs = -1, \n",
    "                   scoring = 'mean_absolute_error')\n",
    "KNN.fit(X_train, y_train)"
   ]
  },
  {
   "cell_type": "markdown",
   "metadata": {},
   "source": [
    "Evaluate the trained KNN model on the LS data and compute the mean absolute error:"
   ]
  },
  {
   "cell_type": "code",
   "execution_count": 27,
   "metadata": {
    "collapsed": false,
    "scrolled": false
   },
   "outputs": [
    {
     "data": {
      "text/plain": [
       "2.176037037037037"
      ]
     },
     "execution_count": 27,
     "metadata": {},
     "output_type": "execute_result"
    }
   ],
   "source": [
    "np.mean(abs(KNN.predict(X_LS) - y_LS))"
   ]
  },
  {
   "cell_type": "markdown",
   "metadata": {},
   "source": [
    "Also evalute trained KNN model on the hold out of the AG data that we prepared above:"
   ]
  },
  {
   "cell_type": "code",
   "execution_count": 28,
   "metadata": {
    "collapsed": false,
    "scrolled": false
   },
   "outputs": [
    {
     "data": {
      "text/plain": [
       "4.1722430555555565"
      ]
     },
     "execution_count": 28,
     "metadata": {},
     "output_type": "execute_result"
    }
   ],
   "source": [
    "np.mean(abs(KNN.predict(X_test) - y_test))"
   ]
  },
  {
   "cell_type": "markdown",
   "metadata": {},
   "source": [
    "Train another KNN but with feature weight learning as a preprocessing step. Again we perform girdsearch over the number of neighbors (and this type also the metric of 1 or 2 norm) using 3-fold CV. As before, because of the computational complexity of feature weight learning, we perform a bagged estimate."
   ]
  },
  {
   "cell_type": "code",
   "execution_count": 29,
   "metadata": {
    "collapsed": false,
    "scrolled": false
   },
   "outputs": [
    {
     "data": {
      "text/plain": [
       "BaggingRegressor(base_estimator=Pipeline(steps=[('metric', FeatureWeights(bagged_estimate=False, cvx_solver='SCS', niter=10,\n",
       "        normalize_condition_number=True, num_samples=100, obj_norm=2,\n",
       "        round_weights=True, sparsify_weights=True, upper_bound=False)), ('knn', GridSearchCV(cv=None, error_score='raise',\n",
       "       estimator=KNeigh...10]},\n",
       "       pre_dispatch='2*n_jobs', refit=True, scoring='mean_absolute_error',\n",
       "       verbose=0))]),\n",
       "         bootstrap=False, bootstrap_features=False, max_features=1.0,\n",
       "         max_samples=200, n_estimators=100, n_jobs=-1, oob_score=False,\n",
       "         random_state=None, verbose=0, warm_start=False)"
      ]
     },
     "execution_count": 29,
     "metadata": {},
     "output_type": "execute_result"
    }
   ],
   "source": [
    "FW = FeatureWeights(upper_bound=False, cvx_solver=cvx.SCS, obj_norm=2, bagged_estimate=False)\n",
    "\n",
    "KNN = GridSearchCV(estimator=KNeighborsRegressor(), \n",
    "                   param_grid=dict(n_neighbors=range(1,11), p=[1,2]), \n",
    "                   n_jobs = 1, scoring = 'mean_absolute_error')        \n",
    "\n",
    "metric_KNN = Pipeline([('metric', FW), ('knn', KNN)])\n",
    "\n",
    "Bagged_metric = BaggingRegressor(metric_KNN,max_samples=200, bootstrap = False, n_estimators=100, n_jobs= -1)\n",
    "Bagged_metric.fit(X_train, y_train)"
   ]
  },
  {
   "cell_type": "markdown",
   "metadata": {},
   "source": [
    "Evaluate the trained KNN with feature weight learning as preprocessing step on the LS data and compute the mean absolute error:"
   ]
  },
  {
   "cell_type": "code",
   "execution_count": 30,
   "metadata": {
    "collapsed": false,
    "scrolled": true
   },
   "outputs": [
    {
     "data": {
      "text/plain": [
       "0.80411952576915513"
      ]
     },
     "execution_count": 30,
     "metadata": {},
     "output_type": "execute_result"
    }
   ],
   "source": [
    "np.mean(abs(y_LS-Bagged_metric.predict(X_LS)))"
   ]
  },
  {
   "cell_type": "markdown",
   "metadata": {},
   "source": [
    "Also evalute trained KNN model with feature weight learning as preprocessing step on the hold out of the AG data that we prepared above:"
   ]
  },
  {
   "cell_type": "code",
   "execution_count": 31,
   "metadata": {
    "collapsed": false,
    "scrolled": false
   },
   "outputs": [
    {
     "data": {
      "text/plain": [
       "3.9768692300485009"
      ]
     },
     "execution_count": 31,
     "metadata": {},
     "output_type": "execute_result"
    }
   ],
   "source": [
    "np.mean(abs(y_test-Bagged_metric.predict(X_test)))"
   ]
  },
  {
   "cell_type": "markdown",
   "metadata": {},
   "source": [
    "Save LS results to CSV:"
   ]
  },
  {
   "cell_type": "code",
   "execution_count": 32,
   "metadata": {
    "collapsed": false,
    "scrolled": false
   },
   "outputs": [],
   "source": [
    "df_LS_res = pd.DataFrame({\"LS_RF_pred\": RF.predict(X_LS), \"LS_Metric_KNN_pred\": Bagged_metric.predict(X_LS), \n",
    "                        \"LS_BMI\": y_LS, \"sample_id\": LS_df[\"data.source\"]})\n",
    "df_LS_res.to_csv(\"LS_res.csv\", index = False)"
   ]
  },
  {
   "cell_type": "markdown",
   "metadata": {},
   "source": [
    "## Iterative weight learning (experimental!)"
   ]
  },
  {
   "cell_type": "code",
   "execution_count": 35,
   "metadata": {
    "collapsed": false,
    "scrolled": false
   },
   "outputs": [
    {
     "data": {
      "text/plain": [
       "FeatureWeightsRegressor(n_iter=50, num_sample_neighbors=10)"
      ]
     },
     "execution_count": 35,
     "metadata": {},
     "output_type": "execute_result"
    }
   ],
   "source": [
    "from FeatureWeightsRegressor import FeatureWeightsRegressor\n",
    "FWR = FeatureWeightsRegressor(num_sample_neighbors=10, n_iter = 50)\n",
    "FWR.fit(X_train, y_train)"
   ]
  },
  {
   "cell_type": "code",
   "execution_count": 36,
   "metadata": {
    "collapsed": false
   },
   "outputs": [
    {
     "name": "stdout",
     "output_type": "stream",
     "text": [
      "****************************************\n",
      "iter 0\n",
      "unique rows for X_nearest (50, 1914)\n",
      "optimal_inaccurate 0.7244\n",
      "****************************************\n",
      "iter 1\n",
      "unique rows for X_nearest (50, 1914)\n",
      "optimal_inaccurate 1.0942\n",
      "****************************************\n",
      "iter 2\n",
      "unique rows for X_nearest (50, 1914)\n",
      "optimal_inaccurate 2.2014\n",
      "****************************************\n",
      "iter 3\n",
      "unique rows for X_nearest (50, 1914)\n",
      "optimal_inaccurate 1.444\n",
      "****************************************\n",
      "iter 4\n",
      "unique rows for X_nearest (50, 1914)\n",
      "optimal_inaccurate 1.0738\n",
      "****************************************\n",
      "iter 5\n",
      "unique rows for X_nearest (50, 1914)\n",
      "optimal_inaccurate 2.3248\n",
      "****************************************\n",
      "iter 6\n",
      "unique rows for X_nearest (50, 1914)\n",
      "optimal_inaccurate 1.9068\n",
      "****************************************\n",
      "iter 7\n",
      "unique rows for X_nearest (50, 1914)\n",
      "optimal_inaccurate 0.6476\n",
      "****************************************\n",
      "iter 8\n",
      "unique rows for X_nearest (39, 1914)\n",
      "optimal_inaccurate 1.646\n",
      "****************************************\n",
      "iter 9\n",
      "unique rows for X_nearest (50, 1914)\n",
      "optimal_inaccurate 2.5904\n",
      "****************************************\n",
      "iter 10\n",
      "unique rows for X_nearest (50, 1914)\n",
      "optimal_inaccurate 1.187\n",
      "****************************************\n",
      "iter 11\n",
      "unique rows for X_nearest (50, 1914)\n",
      "optimal_inaccurate 1.6154\n",
      "****************************************\n",
      "iter 12\n",
      "unique rows for X_nearest (50, 1914)\n",
      "optimal_inaccurate 1.19733333333\n",
      "****************************************\n",
      "iter 13\n",
      "unique rows for X_nearest (50, 1914)\n",
      "optimal_inaccurate 3.1992\n",
      "****************************************\n",
      "iter 14\n",
      "unique rows for X_nearest (50, 1914)\n",
      "optimal_inaccurate 1.3874\n",
      "****************************************\n",
      "iter 15\n",
      "unique rows for X_nearest (50, 1914)\n",
      "optimal_inaccurate 1.29711111111\n",
      "****************************************\n",
      "iter 16\n",
      "unique rows for X_nearest (50, 1914)\n",
      "optimal_inaccurate 1.2812\n",
      "****************************************\n",
      "iter 17\n",
      "unique rows for X_nearest (50, 1914)\n",
      "optimal_inaccurate 2.0454\n",
      "****************************************\n",
      "iter 18\n",
      "unique rows for X_nearest (50, 1914)\n",
      "optimal_inaccurate 1.7648\n",
      "****************************************\n",
      "iter 19\n",
      "unique rows for X_nearest (50, 1914)\n",
      "optimal_inaccurate 1.1426\n",
      "****************************************\n",
      "iter 20\n",
      "unique rows for X_nearest (50, 1914)\n",
      "optimal 1.649\n",
      "****************************************\n",
      "iter 21\n",
      "unique rows for X_nearest (50, 1914)\n",
      "optimal 2.5096\n",
      "****************************************\n",
      "iter 22\n",
      "unique rows for X_nearest (50, 1914)\n",
      "optimal_inaccurate 0.792\n",
      "****************************************\n",
      "iter 23\n",
      "unique rows for X_nearest (50, 1914)\n",
      "optimal_inaccurate 2.1872\n",
      "****************************************\n",
      "iter 24\n",
      "unique rows for X_nearest (50, 1914)\n",
      "optimal_inaccurate 1.866\n",
      "****************************************\n",
      "iter 25\n",
      "unique rows for X_nearest (50, 1914)\n",
      "optimal_inaccurate 1.481\n",
      "****************************************\n",
      "iter 26\n",
      "unique rows for X_nearest (50, 1914)\n",
      "optimal_inaccurate 1.1388\n",
      "****************************************\n",
      "iter 27\n",
      "unique rows for X_nearest (50, 1914)\n",
      "optimal_inaccurate 1.3878\n",
      "****************************************\n",
      "iter 28\n",
      "unique rows for X_nearest (50, 1914)\n",
      "optimal_inaccurate 1.677\n",
      "****************************************\n",
      "iter 29\n",
      "unique rows for X_nearest (50, 1914)\n",
      "optimal_inaccurate 1.3094\n",
      "****************************************\n",
      "iter 30\n",
      "unique rows for X_nearest (50, 1914)\n",
      "optimal_inaccurate 2.368\n",
      "****************************************\n",
      "iter 31\n",
      "unique rows for X_nearest (50, 1914)\n",
      "optimal 1.6534\n",
      "****************************************\n",
      "iter 32\n",
      "unique rows for X_nearest (50, 1914)\n",
      "optimal_inaccurate 1.541\n",
      "****************************************\n",
      "iter 33\n",
      "unique rows for X_nearest (50, 1914)\n",
      "optimal_inaccurate 1.387\n",
      "****************************************\n",
      "iter 34\n",
      "unique rows for X_nearest (50, 1914)\n",
      "optimal_inaccurate 2.061\n",
      "****************************************\n",
      "iter 35\n",
      "unique rows for X_nearest (50, 1914)\n",
      "optimal 1.2634\n",
      "****************************************\n",
      "iter 36\n",
      "unique rows for X_nearest (50, 1914)\n",
      "optimal 1.3462\n",
      "****************************************\n",
      "iter 37\n",
      "unique rows for X_nearest (50, 1914)\n",
      "optimal_inaccurate 1.9592\n",
      "****************************************\n",
      "iter 38\n",
      "unique rows for X_nearest (50, 1914)\n",
      "optimal_inaccurate 1.4008\n",
      "****************************************\n",
      "iter 39\n",
      "unique rows for X_nearest (50, 1914)\n",
      "optimal 1.39466666667\n",
      "****************************************\n",
      "iter 40\n",
      "unique rows for X_nearest (50, 1914)\n",
      "optimal_inaccurate 2.7028\n",
      "****************************************\n",
      "iter 41\n",
      "unique rows for X_nearest (50, 1914)\n",
      "optimal_inaccurate 1.9686\n",
      "****************************************\n",
      "iter 42\n",
      "unique rows for X_nearest (50, 1914)\n",
      "optimal_inaccurate 1.6886\n",
      "****************************************\n",
      "iter 43\n",
      "unique rows for X_nearest (50, 1914)\n",
      "optimal_inaccurate 2.0314\n",
      "****************************************\n",
      "iter 44\n",
      "unique rows for X_nearest (50, 1914)\n",
      "optimal_inaccurate 1.3492\n",
      "****************************************\n",
      "iter 45\n",
      "unique rows for X_nearest (50, 1914)\n",
      "optimal_inaccurate 1.6496\n",
      "****************************************\n",
      "iter 46\n",
      "unique rows for X_nearest (50, 1914)\n",
      "optimal_inaccurate 2.01775\n",
      "****************************************\n",
      "iter 47\n",
      "unique rows for X_nearest (50, 1914)\n",
      "optimal_inaccurate 1.2076\n",
      "****************************************\n",
      "iter 48\n",
      "unique rows for X_nearest (50, 1914)\n",
      "optimal_inaccurate 1.6866\n",
      "****************************************\n",
      "iter 49\n",
      "unique rows for X_nearest (50, 1914)\n",
      "optimal 1.76088888889\n"
     ]
    }
   ],
   "source": [
    "FWR.predict_tester(X_LS[:5,:], y_LS[:5])"
   ]
  },
  {
   "cell_type": "code",
   "execution_count": 37,
   "metadata": {
    "collapsed": false
   },
   "outputs": [
    {
     "data": {
      "text/plain": [
       "[<matplotlib.lines.Line2D at 0x13cff4190>]"
      ]
     },
     "execution_count": 37,
     "metadata": {},
     "output_type": "execute_result"
    },
    {
     "data": {
      "image/png": "[encoded data removed]",
      "text/plain": [
       "<matplotlib.figure.Figure at 0x12536db90>"
      ]
     },
     "metadata": {},
     "output_type": "display_data"
    }
   ],
   "source": [
    "plt.plot(FWR.errs, \".\")"
   ]
  },
  {
   "cell_type": "code",
   "execution_count": 43,
   "metadata": {
    "collapsed": false
   },
   "outputs": [
    {
     "data": {
      "text/plain": [
       "1.5960666666666661"
      ]
     },
     "execution_count": 43,
     "metadata": {},
     "output_type": "execute_result"
    }
   ],
   "source": [
    "np.mean(abs(np.median(np.array(FWR.iter_preds[-10:]).squeeze(), axis = 0) - y_LS[:5]))"
   ]
  },
  {
   "cell_type": "code",
   "execution_count": 44,
   "metadata": {
    "collapsed": false,
    "scrolled": false
   },
   "outputs": [
    {
     "name": "stdout",
     "output_type": "stream",
     "text": [
      "(50, 1914)\n"
     ]
    }
   ],
   "source": [
    "weights = np.array(FWR.weights).squeeze()\n",
    "print weights.shape"
   ]
  },
  {
   "cell_type": "code",
   "execution_count": 47,
   "metadata": {
    "collapsed": false,
    "scrolled": false
   },
   "outputs": [
    {
     "data": {
      "text/plain": [
       "[<matplotlib.lines.Line2D at 0x11a78ff10>]"
      ]
     },
     "execution_count": 47,
     "metadata": {},
     "output_type": "execute_result"
    },
    {
     "data": {
      "image/png": "[encoded data removed]",
      "text/plain": [
       "<matplotlib.figure.Figure at 0x11791ee90>"
      ]
     },
     "metadata": {},
     "output_type": "display_data"
    }
   ],
   "source": [
    "plt.plot(weights[-2,:], \".\")"
   ]
  },
  {
   "cell_type": "code",
   "execution_count": 48,
   "metadata": {
    "collapsed": false,
    "scrolled": false
   },
   "outputs": [
    {
     "data": {
      "text/plain": [
       "[<matplotlib.lines.Line2D at 0x11bfb1290>]"
      ]
     },
     "execution_count": 48,
     "metadata": {},
     "output_type": "execute_result"
    },
    {
     "data": {
      "image/png": "[encoded data removed]",
      "text/plain": [
       "<matplotlib.figure.Figure at 0x117a71190>"
      ]
     },
     "metadata": {},
     "output_type": "display_data"
    }
   ],
   "source": [
    "plt.plot(weights[-3,:], \".\")"
   ]
  },
  {
   "cell_type": "code",
   "execution_count": 51,
   "metadata": {
    "collapsed": false,
    "scrolled": false
   },
   "outputs": [
    {
     "data": {
      "text/plain": [
       "289"
      ]
     },
     "execution_count": 51,
     "metadata": {},
     "output_type": "execute_result"
    }
   ],
   "source": [
    "found_weights = weights[-2,:]\n",
    "\n",
    "non_zero_weights = found_weights[found_weights> 0]\n",
    "\n",
    "len(non_zero_weights)"
   ]
  },
  {
   "cell_type": "code",
   "execution_count": 53,
   "metadata": {
    "collapsed": false,
    "scrolled": false
   },
   "outputs": [
    {
     "name": "stdout",
     "output_type": "stream",
     "text": [
      "(50, 3)\n"
     ]
    }
   ],
   "source": [
    "from sklearn.decomposition import RandomizedPCA\n",
    "pca = RandomizedPCA(n_components=3)\n",
    "weights_pc = pca.fit_transform(weights)    \n",
    "print weights_pc.shape"
   ]
  },
  {
   "cell_type": "code",
   "execution_count": 58,
   "metadata": {
    "collapsed": false,
    "scrolled": false
   },
   "outputs": [
    {
     "data": {
      "text/plain": [
       "[<matplotlib.lines.Line2D at 0x124f96e90>]"
      ]
     },
     "execution_count": 58,
     "metadata": {},
     "output_type": "execute_result"
    },
    {
     "data": {
      "image/png": "[encoded data removed]",
      "text/plain": [
       "<matplotlib.figure.Figure at 0x124e98750>"
      ]
     },
     "metadata": {},
     "output_type": "display_data"
    }
   ],
   "source": [
    "plt.plot(weights_pc[0:,2], \".\")"
   ]
  },
  {
   "cell_type": "code",
   "execution_count": null,
   "metadata": {
    "collapsed": true
   },
   "outputs": [],
   "source": []
  }
 ],
 "metadata": {
  "kernelspec": {
   "display_name": "Python 2",
   "language": "python",
   "name": "python2"
  },
  "language_info": {
   "codemirror_mode": {
    "name": "ipython",
    "version": 2
   },
   "file_extension": ".py",
   "mimetype": "text/x-python",
   "name": "python",
   "nbconvert_exporter": "python",
   "pygments_lexer": "ipython2",
   "version": "2.7.12"
  }
 },
 "nbformat": 4,
 "nbformat_minor": 0
}
