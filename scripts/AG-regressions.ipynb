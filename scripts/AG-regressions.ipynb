{
 "cells": [
  {
   "cell_type": "code",
   "execution_count": 1,
   "metadata": {
    "collapsed": false,
    "scrolled": false
   },
   "outputs": [
    {
     "name": "stderr",
     "output_type": "stream",
     "text": [
      "Vendor:  Continuum Analytics, Inc.\n",
      "Package: mkl\n",
      "Message: trial mode expires in 29 days\n"
     ]
    }
   ],
   "source": [
    "import pandas as pd\n",
    "from sklearn.ensemble import RandomForestRegressor, BaggingRegressor\n",
    "from sklearn.neighbors import KNeighborsRegressor\n",
    "from sklearn.cross_validation import train_test_split\n",
    "from sklearn.grid_search import GridSearchCV\n",
    "from sklearn.linear_model import ElasticNetCV\n",
    "from sklearn import cross_validation\n",
    "import numpy as np\n",
    "from sklearn import metrics\n",
    "from FeatureWeights import FeatureWeights\n",
    "from sklearn.pipeline import Pipeline\n",
    "import os\n",
    "import cvxpy as cvx"
   ]
  },
  {
   "cell_type": "code",
   "execution_count": 2,
   "metadata": {
    "collapsed": false,
    "scrolled": false
   },
   "outputs": [
    {
     "name": "stdout",
     "output_type": "stream",
     "text": [
      "(9792, 2381)\n"
     ]
    },
    {
     "name": "stderr",
     "output_type": "stream",
     "text": [
      "/Users/myazdaniUCSD/anaconda/lib/python2.7/site-packages/IPython/core/interactiveshell.py:2871: DtypeWarning: Columns (0,71,116,159,250) have mixed types. Specify dtype option on import or set low_memory=False.\n",
      "  interactivity=interactivity, compiler=compiler, result=result)\n"
     ]
    }
   ],
   "source": [
    "df = pd.read_table(\"../data/AG/notrim/ag-cleaned_L6.txt\")\n",
    "print df.shape"
   ]
  },
  {
   "cell_type": "code",
   "execution_count": 3,
   "metadata": {
    "collapsed": false,
    "scrolled": false
   },
   "outputs": [
    {
     "data": {
      "text/html": [
       "<div>\n",
       "<table border=\"1\" class=\"dataframe\">\n",
       "  <thead>\n",
       "    <tr style=\"text-align: right;\">\n",
       "      <th></th>\n",
       "      <th>HMP_SITE</th>\n",
       "      <th>k__Archaea;p__Crenarchaeota</th>\n",
       "      <th>k__Archaea;p__Euryarchaeota</th>\n",
       "      <th>k__Archaea;p__[Parvarchaeota]</th>\n",
       "      <th>k__Bacteria;p__</th>\n",
       "      <th>k__Bacteria;p__AD3</th>\n",
       "      <th>k__Bacteria;p__Acidobacteria</th>\n",
       "      <th>k__Bacteria;p__Actinobacteria</th>\n",
       "      <th>k__Bacteria;p__AncK6</th>\n",
       "      <th>k__Bacteria;p__Aquificae</th>\n",
       "      <th>...</th>\n",
       "      <th>k__Bacteria;p__WS3;c__PRR-12;o__Sediment-1;f__PRR-10;g__</th>\n",
       "      <th>k__Bacteria;p__WS4;c__;o__;f__;g__</th>\n",
       "      <th>k__Bacteria;p__ZB3;c__;o__;f__;g__</th>\n",
       "      <th>k__Bacteria;p__[Thermi];c__Deinococci;o__Deinococcales;f__Deinococcaceae;g__CM44</th>\n",
       "      <th>k__Bacteria;p__[Thermi];c__Deinococci;o__Deinococcales;f__Deinococcaceae;g__Deinococcus</th>\n",
       "      <th>k__Bacteria;p__[Thermi];c__Deinococci;o__Deinococcales;f__Trueperaceae;g__</th>\n",
       "      <th>k__Bacteria;p__[Thermi];c__Deinococci;o__Deinococcales;f__Trueperaceae;g__B-42</th>\n",
       "      <th>k__Bacteria;p__[Thermi];c__Deinococci;o__Deinococcales;f__Trueperaceae;g__Truepera</th>\n",
       "      <th>k__Bacteria;p__[Thermi];c__Deinococci;o__Thermales;f__Thermaceae;g__Meiothermus</th>\n",
       "      <th>k__Bacteria;p__[Thermi];c__Deinococci;o__Thermales;f__Thermaceae;g__Thermus</th>\n",
       "    </tr>\n",
       "  </thead>\n",
       "  <tbody>\n",
       "    <tr>\n",
       "      <th>0</th>\n",
       "      <td>FECAL</td>\n",
       "      <td>0.0</td>\n",
       "      <td>0.000000</td>\n",
       "      <td>0.0</td>\n",
       "      <td>0.0</td>\n",
       "      <td>0.0</td>\n",
       "      <td>0.000000</td>\n",
       "      <td>0.001755</td>\n",
       "      <td>0.0</td>\n",
       "      <td>0.0</td>\n",
       "      <td>...</td>\n",
       "      <td>0.0</td>\n",
       "      <td>0.0</td>\n",
       "      <td>0.0</td>\n",
       "      <td>0.0</td>\n",
       "      <td>0.0</td>\n",
       "      <td>0.0</td>\n",
       "      <td>0.0</td>\n",
       "      <td>0.0</td>\n",
       "      <td>0.0</td>\n",
       "      <td>0.0</td>\n",
       "    </tr>\n",
       "    <tr>\n",
       "      <th>1</th>\n",
       "      <td>FECAL</td>\n",
       "      <td>0.0</td>\n",
       "      <td>0.000000</td>\n",
       "      <td>0.0</td>\n",
       "      <td>0.0</td>\n",
       "      <td>0.0</td>\n",
       "      <td>0.000000</td>\n",
       "      <td>0.001911</td>\n",
       "      <td>0.0</td>\n",
       "      <td>0.0</td>\n",
       "      <td>...</td>\n",
       "      <td>0.0</td>\n",
       "      <td>0.0</td>\n",
       "      <td>0.0</td>\n",
       "      <td>0.0</td>\n",
       "      <td>0.0</td>\n",
       "      <td>0.0</td>\n",
       "      <td>0.0</td>\n",
       "      <td>0.0</td>\n",
       "      <td>0.0</td>\n",
       "      <td>0.0</td>\n",
       "    </tr>\n",
       "    <tr>\n",
       "      <th>2</th>\n",
       "      <td>FECAL</td>\n",
       "      <td>0.0</td>\n",
       "      <td>0.000000</td>\n",
       "      <td>0.0</td>\n",
       "      <td>0.0</td>\n",
       "      <td>0.0</td>\n",
       "      <td>0.000000</td>\n",
       "      <td>0.218124</td>\n",
       "      <td>0.0</td>\n",
       "      <td>0.0</td>\n",
       "      <td>...</td>\n",
       "      <td>0.0</td>\n",
       "      <td>0.0</td>\n",
       "      <td>0.0</td>\n",
       "      <td>0.0</td>\n",
       "      <td>0.0</td>\n",
       "      <td>0.0</td>\n",
       "      <td>0.0</td>\n",
       "      <td>0.0</td>\n",
       "      <td>0.0</td>\n",
       "      <td>0.0</td>\n",
       "    </tr>\n",
       "    <tr>\n",
       "      <th>3</th>\n",
       "      <td>SKIN</td>\n",
       "      <td>0.0</td>\n",
       "      <td>0.000000</td>\n",
       "      <td>0.0</td>\n",
       "      <td>0.0</td>\n",
       "      <td>0.0</td>\n",
       "      <td>0.000781</td>\n",
       "      <td>0.642207</td>\n",
       "      <td>0.0</td>\n",
       "      <td>0.0</td>\n",
       "      <td>...</td>\n",
       "      <td>0.0</td>\n",
       "      <td>0.0</td>\n",
       "      <td>0.0</td>\n",
       "      <td>0.0</td>\n",
       "      <td>0.0</td>\n",
       "      <td>0.0</td>\n",
       "      <td>0.0</td>\n",
       "      <td>0.0</td>\n",
       "      <td>0.0</td>\n",
       "      <td>0.0</td>\n",
       "    </tr>\n",
       "    <tr>\n",
       "      <th>4</th>\n",
       "      <td>FECAL</td>\n",
       "      <td>0.0</td>\n",
       "      <td>0.000066</td>\n",
       "      <td>0.0</td>\n",
       "      <td>0.0</td>\n",
       "      <td>0.0</td>\n",
       "      <td>0.000000</td>\n",
       "      <td>0.051438</td>\n",
       "      <td>0.0</td>\n",
       "      <td>0.0</td>\n",
       "      <td>...</td>\n",
       "      <td>0.0</td>\n",
       "      <td>0.0</td>\n",
       "      <td>0.0</td>\n",
       "      <td>0.0</td>\n",
       "      <td>0.0</td>\n",
       "      <td>0.0</td>\n",
       "      <td>0.0</td>\n",
       "      <td>0.0</td>\n",
       "      <td>0.0</td>\n",
       "      <td>0.0</td>\n",
       "    </tr>\n",
       "  </tbody>\n",
       "</table>\n",
       "<p>5 rows × 1915 columns</p>\n",
       "</div>"
      ],
      "text/plain": [
       "  HMP_SITE  k__Archaea;p__Crenarchaeota  k__Archaea;p__Euryarchaeota  \\\n",
       "0    FECAL                          0.0                     0.000000   \n",
       "1    FECAL                          0.0                     0.000000   \n",
       "2    FECAL                          0.0                     0.000000   \n",
       "3     SKIN                          0.0                     0.000000   \n",
       "4    FECAL                          0.0                     0.000066   \n",
       "\n",
       "   k__Archaea;p__[Parvarchaeota]  k__Bacteria;p__  k__Bacteria;p__AD3  \\\n",
       "0                            0.0              0.0                 0.0   \n",
       "1                            0.0              0.0                 0.0   \n",
       "2                            0.0              0.0                 0.0   \n",
       "3                            0.0              0.0                 0.0   \n",
       "4                            0.0              0.0                 0.0   \n",
       "\n",
       "   k__Bacteria;p__Acidobacteria  k__Bacteria;p__Actinobacteria  \\\n",
       "0                      0.000000                       0.001755   \n",
       "1                      0.000000                       0.001911   \n",
       "2                      0.000000                       0.218124   \n",
       "3                      0.000781                       0.642207   \n",
       "4                      0.000000                       0.051438   \n",
       "\n",
       "   k__Bacteria;p__AncK6  k__Bacteria;p__Aquificae  \\\n",
       "0                   0.0                       0.0   \n",
       "1                   0.0                       0.0   \n",
       "2                   0.0                       0.0   \n",
       "3                   0.0                       0.0   \n",
       "4                   0.0                       0.0   \n",
       "\n",
       "                                      ...                                       \\\n",
       "0                                     ...                                        \n",
       "1                                     ...                                        \n",
       "2                                     ...                                        \n",
       "3                                     ...                                        \n",
       "4                                     ...                                        \n",
       "\n",
       "   k__Bacteria;p__WS3;c__PRR-12;o__Sediment-1;f__PRR-10;g__  \\\n",
       "0                                                0.0          \n",
       "1                                                0.0          \n",
       "2                                                0.0          \n",
       "3                                                0.0          \n",
       "4                                                0.0          \n",
       "\n",
       "   k__Bacteria;p__WS4;c__;o__;f__;g__  k__Bacteria;p__ZB3;c__;o__;f__;g__  \\\n",
       "0                                 0.0                                 0.0   \n",
       "1                                 0.0                                 0.0   \n",
       "2                                 0.0                                 0.0   \n",
       "3                                 0.0                                 0.0   \n",
       "4                                 0.0                                 0.0   \n",
       "\n",
       "   k__Bacteria;p__[Thermi];c__Deinococci;o__Deinococcales;f__Deinococcaceae;g__CM44  \\\n",
       "0                                                0.0                                  \n",
       "1                                                0.0                                  \n",
       "2                                                0.0                                  \n",
       "3                                                0.0                                  \n",
       "4                                                0.0                                  \n",
       "\n",
       "   k__Bacteria;p__[Thermi];c__Deinococci;o__Deinococcales;f__Deinococcaceae;g__Deinococcus  \\\n",
       "0                                                0.0                                         \n",
       "1                                                0.0                                         \n",
       "2                                                0.0                                         \n",
       "3                                                0.0                                         \n",
       "4                                                0.0                                         \n",
       "\n",
       "   k__Bacteria;p__[Thermi];c__Deinococci;o__Deinococcales;f__Trueperaceae;g__  \\\n",
       "0                                                0.0                            \n",
       "1                                                0.0                            \n",
       "2                                                0.0                            \n",
       "3                                                0.0                            \n",
       "4                                                0.0                            \n",
       "\n",
       "   k__Bacteria;p__[Thermi];c__Deinococci;o__Deinococcales;f__Trueperaceae;g__B-42  \\\n",
       "0                                                0.0                                \n",
       "1                                                0.0                                \n",
       "2                                                0.0                                \n",
       "3                                                0.0                                \n",
       "4                                                0.0                                \n",
       "\n",
       "   k__Bacteria;p__[Thermi];c__Deinococci;o__Deinococcales;f__Trueperaceae;g__Truepera  \\\n",
       "0                                                0.0                                    \n",
       "1                                                0.0                                    \n",
       "2                                                0.0                                    \n",
       "3                                                0.0                                    \n",
       "4                                                0.0                                    \n",
       "\n",
       "   k__Bacteria;p__[Thermi];c__Deinococci;o__Thermales;f__Thermaceae;g__Meiothermus  \\\n",
       "0                                                0.0                                 \n",
       "1                                                0.0                                 \n",
       "2                                                0.0                                 \n",
       "3                                                0.0                                 \n",
       "4                                                0.0                                 \n",
       "\n",
       "   k__Bacteria;p__[Thermi];c__Deinococci;o__Thermales;f__Thermaceae;g__Thermus  \n",
       "0                                                0.0                            \n",
       "1                                                0.0                            \n",
       "2                                                0.0                            \n",
       "3                                                0.0                            \n",
       "4                                                0.0                            \n",
       "\n",
       "[5 rows x 1915 columns]"
      ]
     },
     "execution_count": 3,
     "metadata": {},
     "output_type": "execute_result"
    }
   ],
   "source": [
    "df.iloc[:,466:].head()"
   ]
  },
  {
   "cell_type": "code",
   "execution_count": 4,
   "metadata": {
    "collapsed": false,
    "scrolled": false
   },
   "outputs": [
    {
     "name": "stdout",
     "output_type": "stream",
     "text": [
      "(8724, 2381)\n"
     ]
    }
   ],
   "source": [
    "df_rel = df[df[\"HMP_SITE\"] == \"FECAL\"]\n",
    "print df_rel.shape"
   ]
  },
  {
   "cell_type": "code",
   "execution_count": 5,
   "metadata": {
    "collapsed": false,
    "scrolled": false
   },
   "outputs": [
    {
     "data": {
      "text/html": [
       "<div>\n",
       "<table border=\"1\" class=\"dataframe\">\n",
       "  <thead>\n",
       "    <tr style=\"text-align: right;\">\n",
       "      <th></th>\n",
       "      <th>HMP_SITE</th>\n",
       "      <th>k__Archaea;p__Crenarchaeota</th>\n",
       "      <th>k__Archaea;p__Euryarchaeota</th>\n",
       "      <th>k__Archaea;p__[Parvarchaeota]</th>\n",
       "      <th>k__Bacteria;p__</th>\n",
       "      <th>k__Bacteria;p__AD3</th>\n",
       "      <th>k__Bacteria;p__Acidobacteria</th>\n",
       "      <th>k__Bacteria;p__Actinobacteria</th>\n",
       "      <th>k__Bacteria;p__AncK6</th>\n",
       "      <th>k__Bacteria;p__Aquificae</th>\n",
       "      <th>...</th>\n",
       "      <th>k__Bacteria;p__WS3;c__PRR-12;o__Sediment-1;f__PRR-10;g__</th>\n",
       "      <th>k__Bacteria;p__WS4;c__;o__;f__;g__</th>\n",
       "      <th>k__Bacteria;p__ZB3;c__;o__;f__;g__</th>\n",
       "      <th>k__Bacteria;p__[Thermi];c__Deinococci;o__Deinococcales;f__Deinococcaceae;g__CM44</th>\n",
       "      <th>k__Bacteria;p__[Thermi];c__Deinococci;o__Deinococcales;f__Deinococcaceae;g__Deinococcus</th>\n",
       "      <th>k__Bacteria;p__[Thermi];c__Deinococci;o__Deinococcales;f__Trueperaceae;g__</th>\n",
       "      <th>k__Bacteria;p__[Thermi];c__Deinococci;o__Deinococcales;f__Trueperaceae;g__B-42</th>\n",
       "      <th>k__Bacteria;p__[Thermi];c__Deinococci;o__Deinococcales;f__Trueperaceae;g__Truepera</th>\n",
       "      <th>k__Bacteria;p__[Thermi];c__Deinococci;o__Thermales;f__Thermaceae;g__Meiothermus</th>\n",
       "      <th>k__Bacteria;p__[Thermi];c__Deinococci;o__Thermales;f__Thermaceae;g__Thermus</th>\n",
       "    </tr>\n",
       "  </thead>\n",
       "  <tbody>\n",
       "    <tr>\n",
       "      <th>0</th>\n",
       "      <td>FECAL</td>\n",
       "      <td>0.0</td>\n",
       "      <td>0.000000</td>\n",
       "      <td>0.0</td>\n",
       "      <td>0.0</td>\n",
       "      <td>0.0</td>\n",
       "      <td>0.0</td>\n",
       "      <td>0.001755</td>\n",
       "      <td>0.0</td>\n",
       "      <td>0.0</td>\n",
       "      <td>...</td>\n",
       "      <td>0.0</td>\n",
       "      <td>0.0</td>\n",
       "      <td>0.0</td>\n",
       "      <td>0.0</td>\n",
       "      <td>0.0</td>\n",
       "      <td>0.0</td>\n",
       "      <td>0.0</td>\n",
       "      <td>0.0</td>\n",
       "      <td>0.0</td>\n",
       "      <td>0.0</td>\n",
       "    </tr>\n",
       "    <tr>\n",
       "      <th>1</th>\n",
       "      <td>FECAL</td>\n",
       "      <td>0.0</td>\n",
       "      <td>0.000000</td>\n",
       "      <td>0.0</td>\n",
       "      <td>0.0</td>\n",
       "      <td>0.0</td>\n",
       "      <td>0.0</td>\n",
       "      <td>0.001911</td>\n",
       "      <td>0.0</td>\n",
       "      <td>0.0</td>\n",
       "      <td>...</td>\n",
       "      <td>0.0</td>\n",
       "      <td>0.0</td>\n",
       "      <td>0.0</td>\n",
       "      <td>0.0</td>\n",
       "      <td>0.0</td>\n",
       "      <td>0.0</td>\n",
       "      <td>0.0</td>\n",
       "      <td>0.0</td>\n",
       "      <td>0.0</td>\n",
       "      <td>0.0</td>\n",
       "    </tr>\n",
       "    <tr>\n",
       "      <th>2</th>\n",
       "      <td>FECAL</td>\n",
       "      <td>0.0</td>\n",
       "      <td>0.000000</td>\n",
       "      <td>0.0</td>\n",
       "      <td>0.0</td>\n",
       "      <td>0.0</td>\n",
       "      <td>0.0</td>\n",
       "      <td>0.218124</td>\n",
       "      <td>0.0</td>\n",
       "      <td>0.0</td>\n",
       "      <td>...</td>\n",
       "      <td>0.0</td>\n",
       "      <td>0.0</td>\n",
       "      <td>0.0</td>\n",
       "      <td>0.0</td>\n",
       "      <td>0.0</td>\n",
       "      <td>0.0</td>\n",
       "      <td>0.0</td>\n",
       "      <td>0.0</td>\n",
       "      <td>0.0</td>\n",
       "      <td>0.0</td>\n",
       "    </tr>\n",
       "    <tr>\n",
       "      <th>4</th>\n",
       "      <td>FECAL</td>\n",
       "      <td>0.0</td>\n",
       "      <td>0.000066</td>\n",
       "      <td>0.0</td>\n",
       "      <td>0.0</td>\n",
       "      <td>0.0</td>\n",
       "      <td>0.0</td>\n",
       "      <td>0.051438</td>\n",
       "      <td>0.0</td>\n",
       "      <td>0.0</td>\n",
       "      <td>...</td>\n",
       "      <td>0.0</td>\n",
       "      <td>0.0</td>\n",
       "      <td>0.0</td>\n",
       "      <td>0.0</td>\n",
       "      <td>0.0</td>\n",
       "      <td>0.0</td>\n",
       "      <td>0.0</td>\n",
       "      <td>0.0</td>\n",
       "      <td>0.0</td>\n",
       "      <td>0.0</td>\n",
       "    </tr>\n",
       "    <tr>\n",
       "      <th>6</th>\n",
       "      <td>FECAL</td>\n",
       "      <td>0.0</td>\n",
       "      <td>0.000000</td>\n",
       "      <td>0.0</td>\n",
       "      <td>0.0</td>\n",
       "      <td>0.0</td>\n",
       "      <td>0.0</td>\n",
       "      <td>0.021382</td>\n",
       "      <td>0.0</td>\n",
       "      <td>0.0</td>\n",
       "      <td>...</td>\n",
       "      <td>0.0</td>\n",
       "      <td>0.0</td>\n",
       "      <td>0.0</td>\n",
       "      <td>0.0</td>\n",
       "      <td>0.0</td>\n",
       "      <td>0.0</td>\n",
       "      <td>0.0</td>\n",
       "      <td>0.0</td>\n",
       "      <td>0.0</td>\n",
       "      <td>0.0</td>\n",
       "    </tr>\n",
       "  </tbody>\n",
       "</table>\n",
       "<p>5 rows × 1915 columns</p>\n",
       "</div>"
      ],
      "text/plain": [
       "  HMP_SITE  k__Archaea;p__Crenarchaeota  k__Archaea;p__Euryarchaeota  \\\n",
       "0    FECAL                          0.0                     0.000000   \n",
       "1    FECAL                          0.0                     0.000000   \n",
       "2    FECAL                          0.0                     0.000000   \n",
       "4    FECAL                          0.0                     0.000066   \n",
       "6    FECAL                          0.0                     0.000000   \n",
       "\n",
       "   k__Archaea;p__[Parvarchaeota]  k__Bacteria;p__  k__Bacteria;p__AD3  \\\n",
       "0                            0.0              0.0                 0.0   \n",
       "1                            0.0              0.0                 0.0   \n",
       "2                            0.0              0.0                 0.0   \n",
       "4                            0.0              0.0                 0.0   \n",
       "6                            0.0              0.0                 0.0   \n",
       "\n",
       "   k__Bacteria;p__Acidobacteria  k__Bacteria;p__Actinobacteria  \\\n",
       "0                           0.0                       0.001755   \n",
       "1                           0.0                       0.001911   \n",
       "2                           0.0                       0.218124   \n",
       "4                           0.0                       0.051438   \n",
       "6                           0.0                       0.021382   \n",
       "\n",
       "   k__Bacteria;p__AncK6  k__Bacteria;p__Aquificae  \\\n",
       "0                   0.0                       0.0   \n",
       "1                   0.0                       0.0   \n",
       "2                   0.0                       0.0   \n",
       "4                   0.0                       0.0   \n",
       "6                   0.0                       0.0   \n",
       "\n",
       "                                      ...                                       \\\n",
       "0                                     ...                                        \n",
       "1                                     ...                                        \n",
       "2                                     ...                                        \n",
       "4                                     ...                                        \n",
       "6                                     ...                                        \n",
       "\n",
       "   k__Bacteria;p__WS3;c__PRR-12;o__Sediment-1;f__PRR-10;g__  \\\n",
       "0                                                0.0          \n",
       "1                                                0.0          \n",
       "2                                                0.0          \n",
       "4                                                0.0          \n",
       "6                                                0.0          \n",
       "\n",
       "   k__Bacteria;p__WS4;c__;o__;f__;g__  k__Bacteria;p__ZB3;c__;o__;f__;g__  \\\n",
       "0                                 0.0                                 0.0   \n",
       "1                                 0.0                                 0.0   \n",
       "2                                 0.0                                 0.0   \n",
       "4                                 0.0                                 0.0   \n",
       "6                                 0.0                                 0.0   \n",
       "\n",
       "   k__Bacteria;p__[Thermi];c__Deinococci;o__Deinococcales;f__Deinococcaceae;g__CM44  \\\n",
       "0                                                0.0                                  \n",
       "1                                                0.0                                  \n",
       "2                                                0.0                                  \n",
       "4                                                0.0                                  \n",
       "6                                                0.0                                  \n",
       "\n",
       "   k__Bacteria;p__[Thermi];c__Deinococci;o__Deinococcales;f__Deinococcaceae;g__Deinococcus  \\\n",
       "0                                                0.0                                         \n",
       "1                                                0.0                                         \n",
       "2                                                0.0                                         \n",
       "4                                                0.0                                         \n",
       "6                                                0.0                                         \n",
       "\n",
       "   k__Bacteria;p__[Thermi];c__Deinococci;o__Deinococcales;f__Trueperaceae;g__  \\\n",
       "0                                                0.0                            \n",
       "1                                                0.0                            \n",
       "2                                                0.0                            \n",
       "4                                                0.0                            \n",
       "6                                                0.0                            \n",
       "\n",
       "   k__Bacteria;p__[Thermi];c__Deinococci;o__Deinococcales;f__Trueperaceae;g__B-42  \\\n",
       "0                                                0.0                                \n",
       "1                                                0.0                                \n",
       "2                                                0.0                                \n",
       "4                                                0.0                                \n",
       "6                                                0.0                                \n",
       "\n",
       "   k__Bacteria;p__[Thermi];c__Deinococci;o__Deinococcales;f__Trueperaceae;g__Truepera  \\\n",
       "0                                                0.0                                    \n",
       "1                                                0.0                                    \n",
       "2                                                0.0                                    \n",
       "4                                                0.0                                    \n",
       "6                                                0.0                                    \n",
       "\n",
       "   k__Bacteria;p__[Thermi];c__Deinococci;o__Thermales;f__Thermaceae;g__Meiothermus  \\\n",
       "0                                                0.0                                 \n",
       "1                                                0.0                                 \n",
       "2                                                0.0                                 \n",
       "4                                                0.0                                 \n",
       "6                                                0.0                                 \n",
       "\n",
       "   k__Bacteria;p__[Thermi];c__Deinococci;o__Thermales;f__Thermaceae;g__Thermus  \n",
       "0                                                0.0                            \n",
       "1                                                0.0                            \n",
       "2                                                0.0                            \n",
       "4                                                0.0                            \n",
       "6                                                0.0                            \n",
       "\n",
       "[5 rows x 1915 columns]"
      ]
     },
     "execution_count": 5,
     "metadata": {},
     "output_type": "execute_result"
    }
   ],
   "source": [
    "df_rel.iloc[:,466:].head()"
   ]
  },
  {
   "cell_type": "markdown",
   "metadata": {},
   "source": [
    "# BMI regression"
   ]
  },
  {
   "cell_type": "code",
   "execution_count": 6,
   "metadata": {
    "collapsed": false,
    "scrolled": false
   },
   "outputs": [
    {
     "name": "stderr",
     "output_type": "stream",
     "text": [
      "/Users/myazdaniUCSD/anaconda/lib/python2.7/site-packages/pandas/core/frame.py:2378: SettingWithCopyWarning: \n",
      "A value is trying to be set on a copy of a slice from a DataFrame.\n",
      "Try using .loc[row_indexer,col_indexer] = value instead\n",
      "\n",
      "See the caveats in the documentation: http://pandas.pydata.org/pandas-docs/stable/indexing.html#indexing-view-versus-copy\n",
      "  self[k1] = value[k2]\n"
     ]
    }
   ],
   "source": [
    "df_rel[[\"BMI_CORRECTED\"]] = df_rel[[\"BMI_CORRECTED\"]].apply(lambda x: pd.to_numeric(x, errors = \"coerce\"))"
   ]
  },
  {
   "cell_type": "code",
   "execution_count": 7,
   "metadata": {
    "collapsed": false,
    "scrolled": false
   },
   "outputs": [
    {
     "name": "stdout",
     "output_type": "stream",
     "text": [
      "(1772, 2381)\n"
     ]
    }
   ],
   "source": [
    "df_clean = df_rel.dropna()\n",
    "print df_clean.shape"
   ]
  },
  {
   "cell_type": "code",
   "execution_count": 8,
   "metadata": {
    "collapsed": false,
    "scrolled": false
   },
   "outputs": [
    {
     "data": {
      "text/plain": [
       "count    1772.000000\n",
       "mean       23.284814\n",
       "std         5.347557\n",
       "min         9.630000\n",
       "25%        20.180000\n",
       "50%        22.820000\n",
       "75%        25.830000\n",
       "max        59.880000\n",
       "Name: BMI_CORRECTED, dtype: float64"
      ]
     },
     "execution_count": 8,
     "metadata": {},
     "output_type": "execute_result"
    }
   ],
   "source": [
    "df_clean[\"BMI_CORRECTED\"].describe()"
   ]
  },
  {
   "cell_type": "code",
   "execution_count": 10,
   "metadata": {
    "collapsed": false,
    "scrolled": false
   },
   "outputs": [
    {
     "name": "stdout",
     "output_type": "stream",
     "text": [
      "shape of data: (1606, 2381)\n"
     ]
    },
    {
     "data": {
      "text/plain": [
       "[<matplotlib.lines.Line2D at 0x11c6c2ad0>]"
      ]
     },
     "execution_count": 10,
     "metadata": {},
     "output_type": "execute_result"
    },
    {
     "data": {
      "image/png": "[encoded data removed]",
      "text/plain": [
       "<matplotlib.figure.Figure at 0x1225e2950>"
      ]
     },
     "metadata": {},
     "output_type": "display_data"
    }
   ],
   "source": [
    "import matplotlib.pyplot as plt\n",
    "\n",
    "%matplotlib inline\n",
    "df_rel[[\"AGE_CORRECTED\"]] = df_rel[[\"AGE_CORRECTED\"]].apply(lambda x: pd.to_numeric(x, errors = \"coerce\"))\n",
    "df_clean = df_rel.dropna()\n",
    "print \"shape of data:\", df_clean.shape\n",
    "plt.plot(df_clean.AGE_CORRECTED, df_clean.BMI_CORRECTED, '.')"
   ]
  },
  {
   "cell_type": "code",
   "execution_count": 11,
   "metadata": {
    "collapsed": false,
    "scrolled": false
   },
   "outputs": [],
   "source": [
    "## Keep only subset of age (say greater than 20 years old)\n",
    "\n",
    "df_age_20 = df_clean[df_clean.AGE_CORRECTED>20]"
   ]
  },
  {
   "cell_type": "code",
   "execution_count": 12,
   "metadata": {
    "collapsed": false,
    "scrolled": false
   },
   "outputs": [
    {
     "name": "stdout",
     "output_type": "stream",
     "text": [
      "y shape (1436,)\n",
      "X shape (1436, 1914)\n"
     ]
    }
   ],
   "source": [
    "y = np.array(df_age_20[\"BMI_CORRECTED\"])\n",
    "X = np.array(df_age_20.iloc[:,467:])\n",
    "print \"y shape\", y.shape\n",
    "print \"X shape\", X.shape"
   ]
  },
  {
   "cell_type": "code",
   "execution_count": 13,
   "metadata": {
    "collapsed": false,
    "scrolled": false
   },
   "outputs": [
    {
     "name": "stdout",
     "output_type": "stream",
     "text": [
      "(1292, 1914)\n",
      "(1292,)\n"
     ]
    }
   ],
   "source": [
    "X_train, X_test, y_train, y_test = train_test_split(X, y, test_size=0.1, random_state=42)\n",
    "print X_train.shape\n",
    "print y_train.shape"
   ]
  },
  {
   "cell_type": "code",
   "execution_count": 16,
   "metadata": {
    "collapsed": false,
    "scrolled": false
   },
   "outputs": [
    {
     "name": "stdout",
     "output_type": "stream",
     "text": [
      "3.41460732621 0.22166670894\n"
     ]
    }
   ],
   "source": [
    "ENet = ElasticNetCV(l1_ratio=[.1, .5, .7, .9, .95, .99, 1], eps=0.001, n_alphas=10, normalize=False, \n",
    "                            max_iter=3000, tol=0.0001, cv=3, copy_X=True, n_jobs=-1)\n",
    "\n",
    "ENET_scores =-1*cross_validation.cross_val_score(ENet, X_train, y_train, cv=10, scoring = 'mean_absolute_error')\n",
    "print np.mean(ENET_scores), np.std(ENET_scores)"
   ]
  },
  {
   "cell_type": "code",
   "execution_count": 15,
   "metadata": {
    "collapsed": false,
    "scrolled": false
   },
   "outputs": [
    {
     "name": "stdout",
     "output_type": "stream",
     "text": [
      "3.34934652055 0.259415996966\n"
     ]
    }
   ],
   "source": [
    "RF = RandomForestRegressor(n_estimators=1000, n_jobs=-1)\n",
    "RF_scores = -1*cross_validation.cross_val_score(RF, X_train, y_train, cv=10, scoring = 'mean_absolute_error')\n",
    "print np.mean(RF_scores), np.std(RF_scores)"
   ]
  },
  {
   "cell_type": "code",
   "execution_count": 17,
   "metadata": {
    "collapsed": false,
    "scrolled": false
   },
   "outputs": [
    {
     "name": "stdout",
     "output_type": "stream",
     "text": [
      "3.56851981614 0.246206957151\n"
     ]
    }
   ],
   "source": [
    "KNN = GridSearchCV(estimator=KNeighborsRegressor(), param_grid=dict(n_neighbors=range(1,11)), n_jobs = -1, scoring = 'mean_absolute_error')\n",
    "KNN_scores = -1*cross_validation.cross_val_score(KNN, X_train, y_train, cv=10, scoring = 'mean_absolute_error')\n",
    "print np.mean(KNN_scores), np.std(KNN_scores)"
   ]
  },
  {
   "cell_type": "code",
   "execution_count": 19,
   "metadata": {
    "collapsed": false,
    "scrolled": false
   },
   "outputs": [
    {
     "name": "stdout",
     "output_type": "stream",
     "text": [
      "3.30961731143 0.21642354793\n"
     ]
    }
   ],
   "source": [
    "FW = FeatureWeights(upper_bound=False, cvx_solver=cvx.SCS, obj_norm=2, bagged_estimate=False)\n",
    "\n",
    "KNN = GridSearchCV(estimator=KNeighborsRegressor(), \n",
    "                   param_grid=dict(n_neighbors=range(1,11), p=[1,2]), \n",
    "                   n_jobs = 1, scoring = 'mean_absolute_error')        \n",
    "\n",
    "metric_KNN = Pipeline([('metric', FW), ('knn', KNN)])\n",
    "\n",
    "metric_KNN_scores =-1*cross_validation.cross_val_score(BaggingRegressor(metric_KNN,max_samples=50, bootstrap = False, \n",
    "                                                                     n_estimators=100, n_jobs = -1), \n",
    "                                                     X_train, y_train, cv=10, scoring = 'mean_absolute_error', )\n",
    "print np.mean(metric_KNN_scores), np.std(metric_KNN_scores)"
   ]
  },
  {
   "cell_type": "code",
   "execution_count": 20,
   "metadata": {
    "collapsed": false,
    "scrolled": false
   },
   "outputs": [
    {
     "name": "stdout",
     "output_type": "stream",
     "text": [
      "3.4048393477 0.232802429247\n"
     ]
    }
   ],
   "source": [
    "KNN = GridSearchCV(estimator=KNeighborsRegressor(), param_grid=dict(n_neighbors=range(1,11)), n_jobs = 1, scoring = 'mean_absolute_error')\n",
    "bagged_KNN_scores = -1*cross_validation.cross_val_score(BaggingRegressor(KNN,max_samples=50, bootstrap = True, \n",
    "                                                                     n_estimators=100, n_jobs = -1), X_train, y_train, cv=10, scoring = 'mean_absolute_error')\n",
    "print np.mean(bagged_KNN_scores), np.std(bagged_KNN_scores)"
   ]
  },
  {
   "cell_type": "code",
   "execution_count": null,
   "metadata": {
    "collapsed": false,
    "scrolled": false
   },
   "outputs": [],
   "source": [
    "FW = FeatureWeights(upper_bound=False, cvx_solver=cvx.SCS, obj_norm=2, bagged_estimate=True, num_samples=2000, niter=50)\n",
    "\n",
    "\n",
    "ENet = ElasticNetCV(l1_ratio=[.1, .5, .7, .9, .95, .99, 1], eps=0.001, n_alphas=10, normalize=False, \n",
    "                            max_iter=1000, tol=0.0001, cv=3, copy_X=True, n_jobs=-1)\n",
    "\n",
    "metric_ENET = Pipeline([('metric', FW), ('knn', ENet)])\n",
    "\n",
    "metric_ENET_scores =-1*cross_validation.cross_val_score(metric_ENET, \n",
    "                                                     X_train, y_train, cv=10, scoring = 'mean_absolute_error', )\n",
    "print np.mean(metric_ENET_scores), np.std(metric_ENET_scores)"
   ]
  },
  {
   "cell_type": "code",
   "execution_count": null,
   "metadata": {
    "collapsed": false,
    "scrolled": false
   },
   "outputs": [],
   "source": [
    "ENet = ElasticNetCV(l1_ratio=[.1, .5, .7, .9, .95, .99, 1], eps=0.001, n_alphas=10, normalize=True, \n",
    "                            max_iter=1000, tol=0.0001, cv=3, copy_X=True, n_jobs=-1)\n",
    "\n",
    "bagged_ENET_scores =-1*cross_validation.cross_val_score(BaggingRegressor(ENet,max_samples=50, bootstrap = False, \n",
    "                                                                     n_estimators=10), \n",
    "                                                     X_train, y_train, cv=10, scoring = 'mean_absolute_error', )\n",
    "\n",
    "print np.mean(bagged_ENET_scores), np.std(bagged_ENET_scores)"
   ]
  },
  {
   "cell_type": "markdown",
   "metadata": {},
   "source": [
    "##Test on LS"
   ]
  },
  {
   "cell_type": "code",
   "execution_count": 21,
   "metadata": {
    "collapsed": false,
    "scrolled": false
   },
   "outputs": [
    {
     "data": {
      "text/html": [
       "<div>\n",
       "<table border=\"1\" class=\"dataframe\">\n",
       "  <thead>\n",
       "    <tr style=\"text-align: right;\">\n",
       "      <th></th>\n",
       "      <th>BMI_CORRECTED</th>\n",
       "      <th>k__Archaea.p__Crenarchaeota</th>\n",
       "      <th>k__Archaea.p__Euryarchaeota</th>\n",
       "      <th>k__Archaea.p__.Parvarchaeota.</th>\n",
       "      <th>k__Bacteria.p__</th>\n",
       "      <th>k__Bacteria.p__AD3</th>\n",
       "      <th>k__Bacteria.p__Acidobacteria</th>\n",
       "      <th>k__Bacteria.p__Actinobacteria</th>\n",
       "      <th>k__Bacteria.p__AncK6</th>\n",
       "      <th>k__Bacteria.p__Aquificae</th>\n",
       "      <th>...</th>\n",
       "      <th>k__Bacteria.p__WS4.c__.o__.f__.g__</th>\n",
       "      <th>k__Bacteria.p__ZB3.c__.o__.f__.g__</th>\n",
       "      <th>k__Bacteria.p__.Thermi..c__Deinococci.o__Deinococcales.f__Deinococcaceae.g__CM44</th>\n",
       "      <th>k__Bacteria.p__.Thermi..c__Deinococci.o__Deinococcales.f__Deinococcaceae.g__Deinococcus</th>\n",
       "      <th>k__Bacteria.p__.Thermi..c__Deinococci.o__Deinococcales.f__Trueperaceae.g__</th>\n",
       "      <th>k__Bacteria.p__.Thermi..c__Deinococci.o__Deinococcales.f__Trueperaceae.g__B.42</th>\n",
       "      <th>k__Bacteria.p__.Thermi..c__Deinococci.o__Deinococcales.f__Trueperaceae.g__Truepera</th>\n",
       "      <th>k__Bacteria.p__.Thermi..c__Deinococci.o__Thermales.f__Thermaceae.g__Meiothermus</th>\n",
       "      <th>k__Bacteria.p__.Thermi..c__Deinococci.o__Thermales.f__Thermaceae.g__Thermus</th>\n",
       "      <th>data.source</th>\n",
       "    </tr>\n",
       "  </thead>\n",
       "  <tbody>\n",
       "    <tr>\n",
       "      <th>0</th>\n",
       "      <td>24.07</td>\n",
       "      <td>0.0</td>\n",
       "      <td>0.0</td>\n",
       "      <td>0</td>\n",
       "      <td>0.0</td>\n",
       "      <td>0</td>\n",
       "      <td>0.0</td>\n",
       "      <td>0.041194</td>\n",
       "      <td>0</td>\n",
       "      <td>0</td>\n",
       "      <td>...</td>\n",
       "      <td>0</td>\n",
       "      <td>0</td>\n",
       "      <td>0</td>\n",
       "      <td>0.0</td>\n",
       "      <td>0</td>\n",
       "      <td>0</td>\n",
       "      <td>0.0</td>\n",
       "      <td>0</td>\n",
       "      <td>0.0</td>\n",
       "      <td>AG</td>\n",
       "    </tr>\n",
       "    <tr>\n",
       "      <th>1</th>\n",
       "      <td>21.93</td>\n",
       "      <td>0.0</td>\n",
       "      <td>0.0</td>\n",
       "      <td>0</td>\n",
       "      <td>0.0</td>\n",
       "      <td>0</td>\n",
       "      <td>0.0</td>\n",
       "      <td>0.001482</td>\n",
       "      <td>0</td>\n",
       "      <td>0</td>\n",
       "      <td>...</td>\n",
       "      <td>0</td>\n",
       "      <td>0</td>\n",
       "      <td>0</td>\n",
       "      <td>0.0</td>\n",
       "      <td>0</td>\n",
       "      <td>0</td>\n",
       "      <td>0.0</td>\n",
       "      <td>0</td>\n",
       "      <td>0.0</td>\n",
       "      <td>AG</td>\n",
       "    </tr>\n",
       "    <tr>\n",
       "      <th>2</th>\n",
       "      <td>22.22</td>\n",
       "      <td>0.0</td>\n",
       "      <td>0.0</td>\n",
       "      <td>0</td>\n",
       "      <td>0.0</td>\n",
       "      <td>0</td>\n",
       "      <td>0.0</td>\n",
       "      <td>0.000000</td>\n",
       "      <td>0</td>\n",
       "      <td>0</td>\n",
       "      <td>...</td>\n",
       "      <td>0</td>\n",
       "      <td>0</td>\n",
       "      <td>0</td>\n",
       "      <td>0.0</td>\n",
       "      <td>0</td>\n",
       "      <td>0</td>\n",
       "      <td>0.0</td>\n",
       "      <td>0</td>\n",
       "      <td>0.0</td>\n",
       "      <td>AG</td>\n",
       "    </tr>\n",
       "    <tr>\n",
       "      <th>3</th>\n",
       "      <td>14.96</td>\n",
       "      <td>0.0</td>\n",
       "      <td>0.0</td>\n",
       "      <td>0</td>\n",
       "      <td>0.0</td>\n",
       "      <td>0</td>\n",
       "      <td>0.0</td>\n",
       "      <td>0.146594</td>\n",
       "      <td>0</td>\n",
       "      <td>0</td>\n",
       "      <td>...</td>\n",
       "      <td>0</td>\n",
       "      <td>0</td>\n",
       "      <td>0</td>\n",
       "      <td>0.0</td>\n",
       "      <td>0</td>\n",
       "      <td>0</td>\n",
       "      <td>0.0</td>\n",
       "      <td>0</td>\n",
       "      <td>0.0</td>\n",
       "      <td>AG</td>\n",
       "    </tr>\n",
       "    <tr>\n",
       "      <th>4</th>\n",
       "      <td>24.96</td>\n",
       "      <td>0.0</td>\n",
       "      <td>0.0</td>\n",
       "      <td>0</td>\n",
       "      <td>0.0</td>\n",
       "      <td>0</td>\n",
       "      <td>0.0</td>\n",
       "      <td>0.003996</td>\n",
       "      <td>0</td>\n",
       "      <td>0</td>\n",
       "      <td>...</td>\n",
       "      <td>0</td>\n",
       "      <td>0</td>\n",
       "      <td>0</td>\n",
       "      <td>0.0</td>\n",
       "      <td>0</td>\n",
       "      <td>0</td>\n",
       "      <td>0.0</td>\n",
       "      <td>0</td>\n",
       "      <td>0.0</td>\n",
       "      <td>AG</td>\n",
       "    </tr>\n",
       "  </tbody>\n",
       "</table>\n",
       "<p>5 rows × 1916 columns</p>\n",
       "</div>"
      ],
      "text/plain": [
       "   BMI_CORRECTED  k__Archaea.p__Crenarchaeota  k__Archaea.p__Euryarchaeota  \\\n",
       "0          24.07                          0.0                          0.0   \n",
       "1          21.93                          0.0                          0.0   \n",
       "2          22.22                          0.0                          0.0   \n",
       "3          14.96                          0.0                          0.0   \n",
       "4          24.96                          0.0                          0.0   \n",
       "\n",
       "   k__Archaea.p__.Parvarchaeota.  k__Bacteria.p__  k__Bacteria.p__AD3  \\\n",
       "0                              0              0.0                   0   \n",
       "1                              0              0.0                   0   \n",
       "2                              0              0.0                   0   \n",
       "3                              0              0.0                   0   \n",
       "4                              0              0.0                   0   \n",
       "\n",
       "   k__Bacteria.p__Acidobacteria  k__Bacteria.p__Actinobacteria  \\\n",
       "0                           0.0                       0.041194   \n",
       "1                           0.0                       0.001482   \n",
       "2                           0.0                       0.000000   \n",
       "3                           0.0                       0.146594   \n",
       "4                           0.0                       0.003996   \n",
       "\n",
       "   k__Bacteria.p__AncK6  k__Bacteria.p__Aquificae     ...       \\\n",
       "0                     0                         0     ...        \n",
       "1                     0                         0     ...        \n",
       "2                     0                         0     ...        \n",
       "3                     0                         0     ...        \n",
       "4                     0                         0     ...        \n",
       "\n",
       "   k__Bacteria.p__WS4.c__.o__.f__.g__  k__Bacteria.p__ZB3.c__.o__.f__.g__  \\\n",
       "0                                   0                                   0   \n",
       "1                                   0                                   0   \n",
       "2                                   0                                   0   \n",
       "3                                   0                                   0   \n",
       "4                                   0                                   0   \n",
       "\n",
       "   k__Bacteria.p__.Thermi..c__Deinococci.o__Deinococcales.f__Deinococcaceae.g__CM44  \\\n",
       "0                                                  0                                  \n",
       "1                                                  0                                  \n",
       "2                                                  0                                  \n",
       "3                                                  0                                  \n",
       "4                                                  0                                  \n",
       "\n",
       "   k__Bacteria.p__.Thermi..c__Deinococci.o__Deinococcales.f__Deinococcaceae.g__Deinococcus  \\\n",
       "0                                                0.0                                         \n",
       "1                                                0.0                                         \n",
       "2                                                0.0                                         \n",
       "3                                                0.0                                         \n",
       "4                                                0.0                                         \n",
       "\n",
       "   k__Bacteria.p__.Thermi..c__Deinococci.o__Deinococcales.f__Trueperaceae.g__  \\\n",
       "0                                                  0                            \n",
       "1                                                  0                            \n",
       "2                                                  0                            \n",
       "3                                                  0                            \n",
       "4                                                  0                            \n",
       "\n",
       "   k__Bacteria.p__.Thermi..c__Deinococci.o__Deinococcales.f__Trueperaceae.g__B.42  \\\n",
       "0                                                  0                                \n",
       "1                                                  0                                \n",
       "2                                                  0                                \n",
       "3                                                  0                                \n",
       "4                                                  0                                \n",
       "\n",
       "   k__Bacteria.p__.Thermi..c__Deinococci.o__Deinococcales.f__Trueperaceae.g__Truepera  \\\n",
       "0                                                0.0                                    \n",
       "1                                                0.0                                    \n",
       "2                                                0.0                                    \n",
       "3                                                0.0                                    \n",
       "4                                                0.0                                    \n",
       "\n",
       "   k__Bacteria.p__.Thermi..c__Deinococci.o__Thermales.f__Thermaceae.g__Meiothermus  \\\n",
       "0                                                  0                                 \n",
       "1                                                  0                                 \n",
       "2                                                  0                                 \n",
       "3                                                  0                                 \n",
       "4                                                  0                                 \n",
       "\n",
       "   k__Bacteria.p__.Thermi..c__Deinococci.o__Thermales.f__Thermaceae.g__Thermus  \\\n",
       "0                                                0.0                             \n",
       "1                                                0.0                             \n",
       "2                                                0.0                             \n",
       "3                                                0.0                             \n",
       "4                                                0.0                             \n",
       "\n",
       "   data.source  \n",
       "0           AG  \n",
       "1           AG  \n",
       "2           AG  \n",
       "3           AG  \n",
       "4           AG  \n",
       "\n",
       "[5 rows x 1916 columns]"
      ]
     },
     "execution_count": 21,
     "metadata": {},
     "output_type": "execute_result"
    }
   ],
   "source": [
    "LS_AG_df = pd.read_csv(\"../data/AG-LS-BMI.csv\")\n",
    "LS_AG_df.head()"
   ]
  },
  {
   "cell_type": "code",
   "execution_count": 22,
   "metadata": {
    "collapsed": false,
    "scrolled": false
   },
   "outputs": [
    {
     "name": "stdout",
     "output_type": "stream",
     "text": [
      "(81, 1916)\n"
     ]
    }
   ],
   "source": [
    "LS_df = LS_AG_df[LS_AG_df[\"data.source\"] != \"AG\"]\n",
    "print LS_df.shape"
   ]
  },
  {
   "cell_type": "code",
   "execution_count": 17,
   "metadata": {
    "collapsed": false,
    "scrolled": false
   },
   "outputs": [
    {
     "data": {
      "text/plain": [
       "(1436, 1914)"
      ]
     },
     "execution_count": 17,
     "metadata": {},
     "output_type": "execute_result"
    }
   ],
   "source": [
    "X.shape"
   ]
  },
  {
   "cell_type": "code",
   "execution_count": 23,
   "metadata": {
    "collapsed": false,
    "scrolled": false
   },
   "outputs": [],
   "source": [
    "X_LS = np.array(LS_df.iloc[:,1:-1])\n",
    "y_LS = np.array(LS_df.BMI_CORRECTED)"
   ]
  },
  {
   "cell_type": "code",
   "execution_count": 24,
   "metadata": {
    "collapsed": false,
    "scrolled": true
   },
   "outputs": [
    {
     "data": {
      "text/plain": [
       "RandomForestRegressor(bootstrap=True, criterion='mse', max_depth=None,\n",
       "           max_features='auto', max_leaf_nodes=None, min_samples_leaf=1,\n",
       "           min_samples_split=2, min_weight_fraction_leaf=0.0,\n",
       "           n_estimators=1000, n_jobs=-1, oob_score=False,\n",
       "           random_state=None, verbose=0, warm_start=False)"
      ]
     },
     "execution_count": 24,
     "metadata": {},
     "output_type": "execute_result"
    }
   ],
   "source": [
    "RF = RandomForestRegressor(n_estimators=1000, n_jobs=-1)\n",
    "RF.fit(X_train, y_train)"
   ]
  },
  {
   "cell_type": "code",
   "execution_count": 25,
   "metadata": {
    "collapsed": false,
    "scrolled": false
   },
   "outputs": [
    {
     "data": {
      "text/plain": [
       "3.0548878350168529"
      ]
     },
     "execution_count": 25,
     "metadata": {},
     "output_type": "execute_result"
    }
   ],
   "source": [
    "np.mean(abs(RF.predict(X_LS)-y_LS))"
   ]
  },
  {
   "cell_type": "code",
   "execution_count": 26,
   "metadata": {
    "collapsed": false,
    "scrolled": false
   },
   "outputs": [
    {
     "data": {
      "text/plain": [
       "4.0713577892578119"
      ]
     },
     "execution_count": 26,
     "metadata": {},
     "output_type": "execute_result"
    }
   ],
   "source": [
    "np.mean(abs(RF.predict(X_test)-y_test))"
   ]
  },
  {
   "cell_type": "code",
   "execution_count": 27,
   "metadata": {
    "collapsed": false,
    "scrolled": false
   },
   "outputs": [
    {
     "data": {
      "text/plain": [
       "GridSearchCV(cv=None, error_score='raise',\n",
       "       estimator=KNeighborsRegressor(algorithm='auto', leaf_size=30, metric='minkowski',\n",
       "          metric_params=None, n_jobs=1, n_neighbors=5, p=2,\n",
       "          weights='uniform'),\n",
       "       fit_params={}, iid=True, n_jobs=-1,\n",
       "       param_grid={'n_neighbors': [1, 2, 3, 4, 5, 6, 7, 8, 9, 10]},\n",
       "       pre_dispatch='2*n_jobs', refit=True, scoring='mean_absolute_error',\n",
       "       verbose=0)"
      ]
     },
     "execution_count": 27,
     "metadata": {},
     "output_type": "execute_result"
    }
   ],
   "source": [
    "KNN = GridSearchCV(estimator=KNeighborsRegressor(), param_grid=dict(n_neighbors=range(1,11)), n_jobs = -1, \n",
    "                   scoring = 'mean_absolute_error')\n",
    "KNN.fit(X_train, y_train)"
   ]
  },
  {
   "cell_type": "code",
   "execution_count": 28,
   "metadata": {
    "collapsed": false,
    "scrolled": false
   },
   "outputs": [
    {
     "data": {
      "text/plain": [
       "2.176037037037037"
      ]
     },
     "execution_count": 28,
     "metadata": {},
     "output_type": "execute_result"
    }
   ],
   "source": [
    "np.mean(abs(KNN.predict(X_LS) - y_LS))"
   ]
  },
  {
   "cell_type": "code",
   "execution_count": 29,
   "metadata": {
    "collapsed": false,
    "scrolled": false
   },
   "outputs": [
    {
     "data": {
      "text/plain": [
       "4.1722430555555565"
      ]
     },
     "execution_count": 29,
     "metadata": {},
     "output_type": "execute_result"
    }
   ],
   "source": [
    "np.mean(abs(KNN.predict(X_test) - y_test))"
   ]
  },
  {
   "cell_type": "code",
   "execution_count": null,
   "metadata": {
    "collapsed": false,
    "scrolled": false
   },
   "outputs": [],
   "source": [
    "FW = FeatureWeights(upper_bound=False, cvx_solver=cvx.CVXOPT, obj_norm=2, bagged_estimate=False)\n",
    "\n",
    "KNN = GridSearchCV(estimator=KNeighborsRegressor(), \n",
    "                   param_grid=dict(n_neighbors=range(1,11), p=[1,2]), \n",
    "                   n_jobs = 1, scoring = 'mean_absolute_error')        \n",
    "\n",
    "metric_KNN = Pipeline([('metric', FW), ('knn', KNN)])\n",
    "\n",
    "Bagged_metric = BaggingRegressor(metric_KNN,max_samples=100, bootstrap = False, n_estimators=50, n_jobs= -1)\n",
    "Bagged_metric.fit(X_train, y_train)"
   ]
  },
  {
   "cell_type": "code",
   "execution_count": null,
   "metadata": {
    "collapsed": false,
    "scrolled": true
   },
   "outputs": [],
   "source": [
    "np.mean(abs(y_LS-Bagged_metric.predict(X_LS)))"
   ]
  },
  {
   "cell_type": "code",
   "execution_count": null,
   "metadata": {
    "collapsed": false,
    "scrolled": false
   },
   "outputs": [],
   "source": [
    "np.mean(abs(y_test-Bagged_metric.predict(X_test)))"
   ]
  },
  {
   "cell_type": "code",
   "execution_count": null,
   "metadata": {
    "collapsed": false,
    "scrolled": false
   },
   "outputs": [],
   "source": [
    "X_train.shape"
   ]
  },
  {
   "cell_type": "code",
   "execution_count": null,
   "metadata": {
    "collapsed": false,
    "scrolled": false
   },
   "outputs": [],
   "source": [
    "df_LS_res = pd.DataFrame({\"LS_RF_pred\": RF.predict(X_LS), \"LS_BMI\": y_LS, \"sample_id\": LS_df[\"data.source\"]})\n",
    "df_LS_res.to_csv(\"meh.csv\", index = False)"
   ]
  },
  {
   "cell_type": "code",
   "execution_count": 27,
   "metadata": {
    "collapsed": false,
    "scrolled": false
   },
   "outputs": [
    {
     "data": {
      "text/plain": [
       "FeatureWeightsRegressor(n_iter=100, num_sample_neighbors=10)"
      ]
     },
     "execution_count": 27,
     "metadata": {},
     "output_type": "execute_result"
    }
   ],
   "source": [
    "from FeatureWeightsRegressor import FeatureWeightsRegressor\n",
    "FWR = FeatureWeightsRegressor(num_sample_neighbors=10, n_iter = 100)\n",
    "FWR.fit(X_train, y_train)"
   ]
  },
  {
   "cell_type": "code",
   "execution_count": 28,
   "metadata": {
    "collapsed": true
   },
   "outputs": [
    {
     "name": "stdout",
     "output_type": "stream",
     "text": [
      "****************************************\n",
      "iter 0\n",
      "unique rows for X_nearest (49, 1914)\n",
      "optimal 1.47911111111\n",
      "****************************************\n",
      "iter 1\n",
      "unique rows for X_nearest (49, 1914)\n",
      "optimal_inaccurate 2.15066666667\n",
      "****************************************\n",
      "iter 2\n",
      "unique rows for X_nearest (50, 1914)\n",
      "optimal 2.726\n",
      "****************************************\n",
      "iter 3\n",
      "unique rows for X_nearest (49, 1914)\n",
      "optimal 1.9594\n",
      "****************************************\n",
      "iter 4\n",
      "unique rows for X_nearest (49, 1914)\n",
      "optimal 1.0994\n",
      "****************************************\n",
      "iter 5\n",
      "unique rows for X_nearest (49, 1914)\n",
      "optimal_inaccurate 2.0048\n",
      "****************************************\n",
      "iter 6\n",
      "unique rows for X_nearest (49, 1914)\n",
      "optimal_inaccurate 2.3652\n",
      "****************************************\n",
      "iter 7\n",
      "unique rows for X_nearest (50, 1914)\n",
      "optimal 2.3652\n",
      "****************************************\n",
      "iter 8\n",
      "unique rows for X_nearest (50, 1914)\n",
      "optimal 2.3652\n",
      "****************************************\n",
      "iter 9\n",
      "unique rows for X_nearest (50, 1914)\n",
      "optimal 2.3652\n",
      "****************************************\n",
      "iter 10\n",
      "unique rows for X_nearest (50, 1914)\n",
      "optimal 2.3652\n",
      "****************************************\n",
      "iter 11\n",
      "unique rows for X_nearest (50, 1914)\n",
      "optimal 2.3652\n",
      "****************************************\n",
      "iter 12\n",
      "unique rows for X_nearest (50, 1914)\n",
      "optimal 2.3652\n",
      "****************************************\n",
      "iter 13\n",
      "unique rows for X_nearest (50, 1914)\n",
      "optimal 2.3652\n",
      "****************************************\n",
      "iter 14\n",
      "unique rows for X_nearest (50, 1914)\n",
      "optimal 2.3652\n",
      "****************************************\n",
      "iter 15\n",
      "unique rows for X_nearest (50, 1914)\n",
      "optimal 2.3652\n",
      "****************************************\n",
      "iter 16\n",
      "unique rows for X_nearest (50, 1914)\n",
      "optimal 2.3652\n",
      "****************************************\n",
      "iter 17\n",
      "unique rows for X_nearest (50, 1914)\n",
      "optimal 2.3652\n",
      "****************************************\n",
      "iter 18\n",
      "unique rows for X_nearest (50, 1914)\n",
      "optimal 2.3652\n",
      "****************************************\n",
      "iter 19\n",
      "unique rows for X_nearest (50, 1914)\n",
      "optimal 2.3652\n",
      "****************************************\n",
      "iter 20\n",
      "unique rows for X_nearest (50, 1914)\n",
      "optimal 2.3652\n",
      "****************************************\n",
      "iter 21\n",
      "unique rows for X_nearest (50, 1914)\n",
      "optimal 2.3652\n",
      "****************************************\n",
      "iter 22\n",
      "unique rows for X_nearest (50, 1914)\n",
      "optimal 2.3652\n",
      "****************************************\n",
      "iter 23\n",
      "unique rows for X_nearest (50, 1914)\n",
      "optimal 2.3652\n",
      "****************************************\n",
      "iter 24\n",
      "unique rows for X_nearest (50, 1914)\n",
      "optimal 2.3652\n",
      "****************************************\n",
      "iter 25\n",
      "unique rows for X_nearest (50, 1914)\n",
      "optimal 2.3652\n",
      "****************************************\n",
      "iter 26\n",
      "unique rows for X_nearest (50, 1914)\n",
      "optimal 2.3652\n",
      "****************************************\n",
      "iter 27\n",
      "unique rows for X_nearest (50, 1914)\n",
      "optimal 2.3652\n",
      "****************************************\n",
      "iter 28\n",
      "unique rows for X_nearest (50, 1914)\n",
      "optimal 2.3652\n",
      "****************************************\n",
      "iter 29\n",
      "unique rows for X_nearest (50, 1914)\n",
      "optimal 2.3652\n",
      "****************************************\n",
      "iter 30\n",
      "unique rows for X_nearest (50, 1914)\n",
      "optimal 2.3652\n",
      "****************************************\n",
      "iter 31\n",
      "unique rows for X_nearest (50, 1914)\n",
      "optimal 2.3652\n",
      "****************************************\n",
      "iter 32\n",
      "unique rows for X_nearest (50, 1914)\n",
      "optimal 2.3652\n",
      "****************************************\n",
      "iter 33\n",
      "unique rows for X_nearest (50, 1914)\n",
      "optimal 2.3652\n",
      "****************************************\n",
      "iter 34\n",
      "unique rows for X_nearest (50, 1914)\n",
      "optimal 2.3652\n",
      "****************************************\n",
      "iter 35\n",
      "unique rows for X_nearest (50, 1914)\n",
      "optimal 2.3652\n",
      "****************************************\n",
      "iter 36\n",
      "unique rows for X_nearest (50, 1914)\n",
      "optimal 2.3652\n",
      "****************************************\n",
      "iter 37\n",
      "unique rows for X_nearest (50, 1914)\n",
      "optimal 2.3652\n",
      "****************************************\n",
      "iter 38\n",
      "unique rows for X_nearest (50, 1914)\n",
      "optimal 2.3652\n",
      "****************************************\n",
      "iter 39\n",
      "unique rows for X_nearest (50, 1914)\n",
      "optimal 2.3652\n",
      "****************************************\n",
      "iter 40\n",
      "unique rows for X_nearest (50, 1914)\n",
      "optimal 2.3652\n",
      "****************************************\n",
      "iter 41\n",
      "unique rows for X_nearest (50, 1914)\n",
      "optimal 2.3652\n",
      "****************************************\n",
      "iter 42\n",
      "unique rows for X_nearest (50, 1914)\n",
      "optimal 2.3652\n",
      "****************************************\n",
      "iter 43\n",
      "unique rows for X_nearest (50, 1914)\n",
      "optimal 2.3652\n",
      "****************************************\n",
      "iter 44\n",
      "unique rows for X_nearest (50, 1914)\n",
      "optimal 2.3652\n",
      "****************************************\n",
      "iter 45\n",
      "unique rows for X_nearest (50, 1914)\n",
      "optimal 2.3652\n",
      "****************************************\n",
      "iter 46\n",
      "unique rows for X_nearest (50, 1914)\n",
      "optimal 2.3652\n",
      "****************************************\n",
      "iter 47\n",
      "unique rows for X_nearest (50, 1914)\n",
      "optimal 2.3652\n",
      "****************************************\n",
      "iter 48\n",
      "unique rows for X_nearest (50, 1914)\n",
      "optimal 2.3652\n",
      "****************************************\n",
      "iter 49\n",
      "unique rows for X_nearest (50, 1914)\n",
      "optimal 2.3652\n",
      "****************************************\n",
      "iter 50\n",
      "unique rows for X_nearest (50, 1914)\n",
      "optimal 2.3652\n",
      "****************************************\n",
      "iter 51\n",
      "unique rows for X_nearest (50, 1914)\n",
      "optimal 2.3652\n",
      "****************************************\n",
      "iter 52\n",
      "unique rows for X_nearest (50, 1914)\n",
      "optimal 2.3652\n",
      "****************************************\n",
      "iter 53\n",
      "unique rows for X_nearest (50, 1914)\n",
      "optimal 2.3652\n",
      "****************************************\n",
      "iter 54\n",
      "unique rows for X_nearest (50, 1914)\n",
      "optimal 2.3652\n",
      "****************************************\n",
      "iter 55\n",
      "unique rows for X_nearest (50, 1914)\n",
      "optimal 2.3652\n",
      "****************************************\n",
      "iter 56\n",
      "unique rows for X_nearest (50, 1914)\n",
      "optimal 2.3652\n",
      "****************************************\n",
      "iter 57\n",
      "unique rows for X_nearest (50, 1914)\n",
      "optimal 2.3652\n",
      "****************************************\n",
      "iter 58\n",
      "unique rows for X_nearest (50, 1914)\n",
      "optimal 2.3652\n",
      "****************************************\n",
      "iter 59\n",
      "unique rows for X_nearest (50, 1914)\n",
      "optimal 2.3652\n",
      "****************************************\n",
      "iter 60\n",
      "unique rows for X_nearest (50, 1914)\n",
      "optimal 2.3652\n",
      "****************************************\n",
      "iter 61\n",
      "unique rows for X_nearest (50, 1914)\n",
      "optimal 2.3652\n",
      "****************************************\n",
      "iter 62\n",
      "unique rows for X_nearest (50, 1914)\n",
      "optimal 2.3652\n",
      "****************************************\n",
      "iter 63\n",
      "unique rows for X_nearest (50, 1914)\n",
      "optimal 2.3652\n",
      "****************************************\n",
      "iter 64\n",
      "unique rows for X_nearest (50, 1914)\n",
      "optimal 2.3652\n",
      "****************************************\n",
      "iter 65\n",
      "unique rows for X_nearest (50, 1914)\n",
      "optimal 2.3652\n",
      "****************************************\n",
      "iter 66\n",
      "unique rows for X_nearest (50, 1914)\n",
      "optimal 2.3652\n",
      "****************************************\n",
      "iter 67\n",
      "unique rows for X_nearest (50, 1914)\n",
      "optimal 2.3652\n",
      "****************************************\n",
      "iter 68\n",
      "unique rows for X_nearest (50, 1914)\n",
      "optimal 2.3652\n",
      "****************************************\n",
      "iter 69\n",
      "unique rows for X_nearest (50, 1914)\n",
      "optimal 2.3652\n",
      "****************************************\n",
      "iter 70\n",
      "unique rows for X_nearest (50, 1914)\n",
      "optimal 2.3652\n",
      "****************************************\n",
      "iter 71\n",
      "unique rows for X_nearest (50, 1914)\n",
      "optimal 2.3652\n",
      "****************************************\n",
      "iter 72\n",
      "unique rows for X_nearest (50, 1914)\n",
      "optimal 2.3652\n",
      "****************************************\n",
      "iter 73\n",
      "unique rows for X_nearest (50, 1914)\n",
      "optimal 2.3652\n",
      "****************************************\n",
      "iter 74\n",
      "unique rows for X_nearest (50, 1914)\n",
      "optimal 2.3652\n",
      "****************************************\n",
      "iter 75\n",
      "unique rows for X_nearest (50, 1914)\n",
      "optimal 2.3652\n",
      "****************************************\n",
      "iter 76\n",
      "unique rows for X_nearest (50, 1914)\n",
      "optimal 2.3652\n",
      "****************************************\n",
      "iter 77\n",
      "unique rows for X_nearest (50, 1914)\n",
      "optimal 2.3652\n",
      "****************************************\n",
      "iter 78\n",
      "unique rows for X_nearest (50, 1914)\n",
      "optimal 2.3652\n",
      "****************************************\n",
      "iter 79\n",
      "unique rows for X_nearest (50, 1914)\n",
      "optimal 2.3652\n",
      "****************************************\n",
      "iter 80\n",
      "unique rows for X_nearest (50, 1914)\n",
      "optimal 2.3652\n",
      "****************************************\n",
      "iter 81\n",
      "unique rows for X_nearest (50, 1914)\n",
      "optimal 2.3652\n",
      "****************************************\n",
      "iter 82\n",
      "unique rows for X_nearest (50, 1914)\n",
      "optimal 2.3652\n",
      "****************************************\n",
      "iter 83\n",
      "unique rows for X_nearest (50, 1914)\n",
      "optimal 2.3652\n",
      "****************************************\n",
      "iter 84\n",
      "unique rows for X_nearest (50, 1914)\n",
      "optimal 2.3652\n",
      "****************************************\n",
      "iter 85\n",
      "unique rows for X_nearest (50, 1914)\n",
      "optimal 2.3652\n",
      "****************************************\n",
      "iter 86\n",
      "unique rows for X_nearest (50, 1914)\n",
      "optimal 2.3652\n",
      "****************************************\n",
      "iter 87\n",
      "unique rows for X_nearest (50, 1914)\n",
      "optimal 2.3652\n",
      "****************************************\n",
      "iter 88\n",
      "unique rows for X_nearest (50, 1914)\n",
      "optimal 2.3652\n",
      "****************************************\n",
      "iter 89\n",
      "unique rows for X_nearest (50, 1914)\n",
      "optimal 2.3652\n",
      "****************************************\n",
      "iter 90\n",
      "unique rows for X_nearest (50, 1914)\n",
      "optimal 2.3652\n",
      "****************************************\n",
      "iter 91\n",
      "unique rows for X_nearest (50, 1914)\n",
      "optimal 2.3652\n",
      "****************************************\n",
      "iter 92\n",
      "unique rows for X_nearest (50, 1914)\n",
      "optimal 2.3652\n",
      "****************************************\n",
      "iter 93\n",
      "unique rows for X_nearest (50, 1914)\n",
      "optimal 2.3652\n",
      "****************************************\n",
      "iter 94\n",
      "unique rows for X_nearest (50, 1914)\n",
      "optimal 2.3652\n",
      "****************************************\n",
      "iter 95\n",
      "unique rows for X_nearest (50, 1914)\n",
      "optimal 1.6374\n",
      "****************************************\n",
      "iter 96\n",
      "unique rows for X_nearest (48, 1914)\n",
      "optimal 0.633111111111\n",
      "****************************************\n",
      "iter 97\n",
      "unique rows for X_nearest (41, 1914)\n",
      "optimal_inaccurate 0.86\n",
      "****************************************\n",
      "iter 98\n",
      "unique rows for X_nearest (38, 1914)\n",
      "optimal 0.86\n",
      "****************************************\n",
      "iter 99\n",
      "unique rows for X_nearest (38, 1914)\n",
      "optimal 0.86\n"
     ]
    }
   ],
   "source": [
    "FWR.predict_tester(X_LS[45:50,:], y_LS[45:50])"
   ]
  },
  {
   "cell_type": "code",
   "execution_count": 29,
   "metadata": {
    "collapsed": false
   },
   "outputs": [
    {
     "data": {
      "text/plain": [
       "[<matplotlib.lines.Line2D at 0x125ed0290>]"
      ]
     },
     "execution_count": 29,
     "metadata": {},
     "output_type": "execute_result"
    },
    {
     "data": {
      "image/png": "[encoded data removed]",
      "text/plain": [
       "<matplotlib.figure.Figure at 0x125e2ff90>"
      ]
     },
     "metadata": {},
     "output_type": "display_data"
    }
   ],
   "source": [
    "plt.plot(FWR.errs, \".\")"
   ]
  },
  {
   "cell_type": "code",
   "execution_count": null,
   "metadata": {
    "collapsed": false,
    "scrolled": false
   },
   "outputs": [],
   "source": [
    "FWR.X_train.shape"
   ]
  },
  {
   "cell_type": "code",
   "execution_count": null,
   "metadata": {
    "collapsed": true
   },
   "outputs": [],
   "source": [
    "meh_res = FWR.predict(X_LS[5:10,:])"
   ]
  },
  {
   "cell_type": "code",
   "execution_count": null,
   "metadata": {
    "collapsed": false,
    "scrolled": false
   },
   "outputs": [],
   "source": [
    "np.mean(abs(y_LS[:5]-meh_res))"
   ]
  },
  {
   "cell_type": "code",
   "execution_count": null,
   "metadata": {
    "collapsed": false
   },
   "outputs": [],
   "source": [
    "mean_errs = []\n",
    "for num_iters in range(1,110,10):\n",
    "    FWR = FeatureWeightsRegressor(num_sample_neighbors=10, n_iter = num_iters)\n",
    "    FWR.fit(X_train, y_train)\n",
    "    meh_res = FWR.predict(X_LS[10:15,:])\n",
    "    mean_errs.append(np.mean(abs(y_LS[10:15]-meh_res)))"
   ]
  },
  {
   "cell_type": "code",
   "execution_count": null,
   "metadata": {
    "collapsed": false
   },
   "outputs": [],
   "source": [
    "plt.plot(range(1,110,10), mean_errs)"
   ]
  },
  {
   "cell_type": "code",
   "execution_count": null,
   "metadata": {
    "collapsed": false
   },
   "outputs": [],
   "source": [
    "from FeatureWeightsRegressor import FeatureWeightsRegressor\n",
    "FWR = FeatureWeightsRegressor(num_sample_neighbors=10, n_iter = 100)\n",
    "FWR.fit(X_train, y_train)"
   ]
  },
  {
   "cell_type": "code",
   "execution_count": null,
   "metadata": {
    "collapsed": true
   },
   "outputs": [],
   "source": [
    "FWR.predict"
   ]
  },
  {
   "cell_type": "code",
   "execution_count": null,
   "metadata": {
    "collapsed": false
   },
   "outputs": [],
   "source": [
    "plt.plot(FWR.X_train_weighted[0,:], \".\")"
   ]
  },
  {
   "cell_type": "code",
   "execution_count": null,
   "metadata": {
    "collapsed": false
   },
   "outputs": [],
   "source": [
    "plt.plot(FWR.X_train[0,:], \".\")"
   ]
  },
  {
   "cell_type": "code",
   "execution_count": null,
   "metadata": {
    "collapsed": false,
    "scrolled": false
   },
   "outputs": [],
   "source": [
    "FWR.cvx_status"
   ]
  },
  {
   "cell_type": "code",
   "execution_count": null,
   "metadata": {
    "collapsed": false,
    "scrolled": false
   },
   "outputs": [],
   "source": [
    "FWR.FW.statusprob"
   ]
  },
  {
   "cell_type": "code",
   "execution_count": null,
   "metadata": {
    "collapsed": false,
    "scrolled": false
   },
   "outputs": [],
   "source": [
    "meh_ag = FWR.predict(X_test[:5,:])\n",
    "np.mean(abs(y_test[:5]-meh_ag))"
   ]
  },
  {
   "cell_type": "code",
   "execution_count": null,
   "metadata": {
    "collapsed": false,
    "scrolled": false
   },
   "outputs": [],
   "source": [
    "weights = np.array(FWR.weights).squeeze()\n",
    "print weights.shape"
   ]
  },
  {
   "cell_type": "code",
   "execution_count": null,
   "metadata": {
    "collapsed": false,
    "scrolled": false
   },
   "outputs": [],
   "source": [
    "plt.plot(weights[-1,:], \".\")"
   ]
  },
  {
   "cell_type": "code",
   "execution_count": null,
   "metadata": {
    "collapsed": false,
    "scrolled": false
   },
   "outputs": [],
   "source": [
    "plt.plot(weights[-2,:], \".\")"
   ]
  },
  {
   "cell_type": "code",
   "execution_count": null,
   "metadata": {
    "collapsed": false,
    "scrolled": false
   },
   "outputs": [],
   "source": [
    "np.mean(weights[-5:-1,:], axis = 0).shape"
   ]
  },
  {
   "cell_type": "code",
   "execution_count": null,
   "metadata": {
    "collapsed": false,
    "scrolled": false
   },
   "outputs": [],
   "source": [
    "found_weights = weights[-20,:]\n",
    "\n",
    "non_zero_weights = found_weights[found_weights> 0]\n",
    "\n",
    "len(non_zero_weights)"
   ]
  },
  {
   "cell_type": "code",
   "execution_count": null,
   "metadata": {
    "collapsed": false,
    "scrolled": false
   },
   "outputs": [],
   "source": [
    "plt.plot(FWR.FW.weights)"
   ]
  },
  {
   "cell_type": "code",
   "execution_count": null,
   "metadata": {
    "collapsed": false,
    "scrolled": false
   },
   "outputs": [],
   "source": [
    "plt.plot(weights[-1,:],FWR.FW.weights, \".\")"
   ]
  },
  {
   "cell_type": "code",
   "execution_count": null,
   "metadata": {
    "collapsed": false,
    "scrolled": false
   },
   "outputs": [],
   "source": [
    "from sklearn.decomposition import RandomizedPCA\n",
    "pca = RandomizedPCA(n_components=3)\n",
    "weights_pc = pca.fit_transform(weights)    \n",
    "print weights_pc.shape"
   ]
  },
  {
   "cell_type": "code",
   "execution_count": null,
   "metadata": {
    "collapsed": false,
    "scrolled": false
   },
   "outputs": [],
   "source": [
    "plt.plot(weights_pc[3:,2], \".\")"
   ]
  },
  {
   "cell_type": "code",
   "execution_count": null,
   "metadata": {
    "collapsed": false,
    "scrolled": false
   },
   "outputs": [],
   "source": [
    "def find_nearest(X, X_train, y_train):\n",
    "        num_neighbors = 10\n",
    "        #X_train = self.X_train\n",
    "        #y_train = self.y_train\n",
    "        X_nearest = np.empty((0,X.shape[1]))\n",
    "        y_nearest = np.empty(0)\n",
    "        for i in range(X.shape[0]):\n",
    "            dists = np.sum((X[i,:] - X_train)**2, axis = 1)\n",
    "            print dists.shape\n",
    "            X_nearest = np.vstack((X_nearest, X_train[np.argsort(dists)[:num_neighbors],:]))\n",
    "            #X_nearest.append(X_train[np.argsort(dists)[:num_neighbors],:])\n",
    "            X_train = np.delete(X_train, np.argsort(dists)[:num_neighbors], axis = 0)\n",
    "            y_nearest = np.hstack((y_nearest, y_train[np.argsort(dists)[:num_neighbors]]))\n",
    "            #y_nearest.append(y_train[np.argsort(dists)[:num_neighbors]])\n",
    "            y_train = np.delete(y_train, np.argsort(dists)[:num_neighbors])\n",
    "        #print len(X_nearest)\n",
    "        return X_nearest, y_nearest\n",
    "        #return np.array(X_nearest).squeeze(), np.array(y_nearest).squeeze()"
   ]
  },
  {
   "cell_type": "markdown",
   "metadata": {},
   "source": [
    "## Age classification"
   ]
  },
  {
   "cell_type": "code",
   "execution_count": null,
   "metadata": {
    "collapsed": true,
    "scrolled": false
   },
   "outputs": [],
   "source": []
  },
  {
   "cell_type": "code",
   "execution_count": null,
   "metadata": {
    "collapsed": false,
    "scrolled": false
   },
   "outputs": [],
   "source": [
    "df_rel[[\"AGE_CORRECTED\"]] = df_rel[\"AGE_CORRECTED\"].apply(lambda x: pd.to_numeric(x, errors = \"coerce\"))\n",
    "df_rel[\"AGE_CORRECTED\"].describe()"
   ]
  },
  {
   "cell_type": "code",
   "execution_count": null,
   "metadata": {
    "collapsed": false,
    "scrolled": false
   },
   "outputs": [],
   "source": [
    "df_clean = df_rel.dropna()\n",
    "print df_clean.shape"
   ]
  },
  {
   "cell_type": "code",
   "execution_count": null,
   "metadata": {
    "collapsed": true,
    "scrolled": false
   },
   "outputs": [],
   "source": [
    "y = np.array(df_clean[\"AGE_CORRECTED\"])\n",
    "X = np.array(df_clean.iloc[:,467:])\n",
    "\n",
    "X_train, X_test, y_train, y_test = train_test_split(X, y, test_size=0.25, random_state=42)"
   ]
  },
  {
   "cell_type": "code",
   "execution_count": null,
   "metadata": {
    "collapsed": false,
    "scrolled": false
   },
   "outputs": [],
   "source": [
    "RF = RandomForestRegressor(n_estimators=1000, n_jobs=-1)\n",
    "RF.fit(X_train, y_train)"
   ]
  },
  {
   "cell_type": "code",
   "execution_count": null,
   "metadata": {
    "collapsed": false,
    "scrolled": false
   },
   "outputs": [],
   "source": [
    "RF.score(X_train, y_train)"
   ]
  },
  {
   "cell_type": "code",
   "execution_count": null,
   "metadata": {
    "collapsed": false,
    "scrolled": false
   },
   "outputs": [],
   "source": [
    "RF.score(X_test, y_test)"
   ]
  },
  {
   "cell_type": "code",
   "execution_count": null,
   "metadata": {
    "collapsed": true,
    "scrolled": false
   },
   "outputs": [],
   "source": [
    "scores = -1*cross_validation.cross_val_score(RF, X, y, cv=5, scoring = 'mean_absolute_error')"
   ]
  },
  {
   "cell_type": "code",
   "execution_count": null,
   "metadata": {
    "collapsed": false,
    "scrolled": false
   },
   "outputs": [],
   "source": [
    "scores"
   ]
  },
  {
   "cell_type": "code",
   "execution_count": null,
   "metadata": {
    "collapsed": false,
    "scrolled": false
   },
   "outputs": [],
   "source": [
    "np.mean(scores)"
   ]
  },
  {
   "cell_type": "code",
   "execution_count": null,
   "metadata": {
    "collapsed": false,
    "scrolled": false
   },
   "outputs": [],
   "source": [
    "KNN = GridSearchCV(estimator=KNeighborsRegressor(), param_grid=dict(n_neighbors=range(10,20)), n_jobs = -1, scoring = 'mean_absolute_error')\n",
    "scores = -1*cross_validation.cross_val_score(KNN, X, y, cv=10, scoring = 'mean_absolute_error')\n",
    "np.mean(scores)"
   ]
  },
  {
   "cell_type": "code",
   "execution_count": null,
   "metadata": {
    "collapsed": true,
    "scrolled": false
   },
   "outputs": [],
   "source": []
  }
 ],
 "metadata": {
  "kernelspec": {
   "display_name": "Python 2",
   "language": "python",
   "name": "python2"
  },
  "language_info": {
   "codemirror_mode": {
    "name": "ipython",
    "version": 2
   },
   "file_extension": ".py",
   "mimetype": "text/x-python",
   "name": "python",
   "nbconvert_exporter": "python",
   "pygments_lexer": "ipython2",
   "version": "2.7.12"
  }
 },
 "nbformat": 4,
 "nbformat_minor": 0
}
