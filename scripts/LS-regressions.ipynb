{
 "cells": [
  {
   "cell_type": "code",
   "execution_count": 319,
   "metadata": {
    "collapsed": false
   },
   "outputs": [],
   "source": [
    "import pandas as pd\n",
    "from sklearn.ensemble import RandomForestRegressor\n",
    "from sklearn import linear_model\n",
    "from sklearn.neighbors import KNeighborsRegressor\n",
    "from sklearn.cross_validation import train_test_split\n",
    "from sklearn.grid_search import GridSearchCV\n",
    "from sklearn import cross_validation\n",
    "import numpy as np\n",
    "from sklearn import metrics\n",
    "import matplotlib.pyplot as plt\n",
    "import os\n",
    "%matplotlib inline"
   ]
  },
  {
   "cell_type": "code",
   "execution_count": 302,
   "metadata": {
    "collapsed": false
   },
   "outputs": [
    {
     "name": "stdout",
     "output_type": "stream",
     "text": [
      "number of files is 5\n"
     ]
    }
   ],
   "source": [
    "src_path = '../data/'\n",
    "file_types = ('.csv')\n",
    " \n",
    "file_paths = []  \n",
    "for root, dirs, files in os.walk(src_path):\n",
    "    file_paths.extend([os.path.join(root, f) for f in files if f.endswith(file_types)])\n",
    "    \n",
    "print 'number of files is', len(file_paths)"
   ]
  },
  {
   "cell_type": "code",
   "execution_count": 303,
   "metadata": {
    "collapsed": false
   },
   "outputs": [
    {
     "data": {
      "text/plain": [
       "['../data/LS-L2-biomarkers.csv',\n",
       " '../data/LS-L3-biomarkers.csv',\n",
       " '../data/LS-L4-biomarkers.csv',\n",
       " '../data/LS-L5-biomarkers.csv',\n",
       " '../data/LS-L6-biomarkers.csv']"
      ]
     },
     "execution_count": 303,
     "metadata": {},
     "output_type": "execute_result"
    }
   ],
   "source": [
    "file_paths"
   ]
  },
  {
   "cell_type": "code",
   "execution_count": 331,
   "metadata": {
    "collapsed": false
   },
   "outputs": [],
   "source": [
    "biomarkers = [\"Stool.Lysozyme\",\n",
    "              \"Stool.Lactoferrin\", \n",
    "              \"Stool.SIgA\",\n",
    "              \"X..SCFA.Acetate\",\n",
    "              \"X..SCFA.Propionate\",\n",
    "              \"X..SCFA.Valerate\",\n",
    "              \"X..SCFA.Butyrate\",\n",
    "              \"Total.SCFA\",\n",
    "              \"Butyrate\",\n",
    "              \"Stool.pH\"]\n",
    "\n",
    "\n",
    "#biomarker = biomarkers[1]\n",
    "biomarker = \"Neutrophil.Count\""
   ]
  },
  {
   "cell_type": "code",
   "execution_count": 332,
   "metadata": {
    "collapsed": false
   },
   "outputs": [
    {
     "name": "stdout",
     "output_type": "stream",
     "text": [
      "average y is: 3.07\n",
      "std y is: 0.754387168502\n"
     ]
    }
   ],
   "source": [
    "RF_mean_scores = []\n",
    "RF_std_scores = []\n",
    "KNN_mean_scores = []\n",
    "KNN_std_scores = []\n",
    "\n",
    "for file_path in file_paths:\n",
    "    df = pd.read_csv(file_path)\n",
    "    fields = list(df.columns)\n",
    "    microbiome_indx = [i for i, field in enumerate(fields) if \"__\" in field]\n",
    "\n",
    "    column_names = list(df.columns)\n",
    "    target_indx = [i for i, column_name in enumerate(column_names) if column_name == biomarker]\n",
    "    df.iloc[:,target_indx + microbiome_indx].head()\n",
    "    df_rel = df.iloc[:,target_indx + range(microbiome_indx[0], df.shape[1])]\n",
    "\n",
    "    df_rel[[biomarker]] = df_rel[[biomarker]].apply(lambda x: pd.to_numeric(x, errors = \"coerce\"))\n",
    "    df_clean = df_rel.dropna()\n",
    "    y = np.array(df_clean[biomarker])\n",
    "    X = np.array(df_clean.iloc[:,1:])\n",
    "\n",
    "    X_train = X[:int(.8*X.shape[0]),:] # use FIRST 80% of data as training set to test on 'future'\n",
    "    y_train = y[:int(.8*X.shape[0])]\n",
    "    X_test = X[int(.8*X.shape[0])+1:,:]\n",
    "    y_test = y[int(.8*X.shape[0])+1:]\n",
    "\n",
    "\n",
    "    RF = RandomForestRegressor(n_estimators=1000)\n",
    "    scores = -1*cross_validation.cross_val_score(RF, X, y, cv=10, scoring = 'mean_absolute_error')\n",
    "    RF_mean_scores.append(np.mean(scores))\n",
    "    RF_std_scores.append(np.std(scores))\n",
    "    \n",
    "    #KNN =  KNeighborsRegressor(n_neighbors=5)\n",
    "    KNN = GridSearchCV(estimator=KNeighborsRegressor(), param_grid=dict(n_neighbors=range(1,11)), n_jobs = -1, scoring = 'mean_absolute_error')\n",
    "    scores = -1*cross_validation.cross_val_score(KNN, X, y, cv=10, scoring = 'mean_absolute_error')\n",
    "    KNN_mean_scores.append(np.mean(scores))\n",
    "    KNN_std_scores.append(np.std(scores))    \n",
    "    \n",
    "print \"average y is:\", np.mean(y)\n",
    "print \"std y is:\", np.std(y)"
   ]
  },
  {
   "cell_type": "code",
   "execution_count": 333,
   "metadata": {
    "collapsed": false
   },
   "outputs": [
    {
     "data": {
      "text/plain": [
       "([<matplotlib.axis.XTick at 0x12d5646d0>,\n",
       "  <matplotlib.axis.XTick at 0x12bb5d810>,\n",
       "  <matplotlib.axis.XTick at 0x12a80b250>,\n",
       "  <matplotlib.axis.XTick at 0x12d8016d0>,\n",
       "  <matplotlib.axis.XTick at 0x12a7fdf90>],\n",
       " <a list of 5 Text xticklabel objects>)"
      ]
     },
     "execution_count": 333,
     "metadata": {},
     "output_type": "execute_result"
    },
    {
     "data": {
      "image/png": "[encoded data removed]",
      "text/plain": [
       "<matplotlib.figure.Figure at 0x12d40c950>"
      ]
     },
     "metadata": {},
     "output_type": "display_data"
    }
   ],
   "source": [
    "width = 12\n",
    "height = 6\n",
    "fig = plt.figure(figsize=(width, height))\n",
    "ax = fig.add_subplot(111)\n",
    "ax.set_title(biomarker)\n",
    "ax.set_xlabel('Taxonomic classification level')\n",
    "ax.set_ylabel('Mean absolute error (lower is better)')\n",
    "\n",
    "plt.errorbar(range(5), RF_mean_scores, yerr=np.array(RF_std_scores)/5., marker='s', c = \"b\", label = \"RF\", fmt='o')\n",
    "plt.errorbar(range(5), KNN_mean_scores, yerr=np.array(KNN_std_scores)/5., marker='o', c = \"r\", label = \"KNN\", fmt='o')\n",
    "plt.legend(loc='upper left')\n",
    "plt.xticks(range(5), ['L2: Phylum', 'L3: Class', 'L4: Order', 'L5: Family', 'L6: Genus'])"
   ]
  },
  {
   "cell_type": "code",
   "execution_count": 335,
   "metadata": {
    "collapsed": false
   },
   "outputs": [
    {
     "data": {
      "text/plain": [
       "<matplotlib.collections.PathCollection at 0x12d8d7310>"
      ]
     },
     "execution_count": 335,
     "metadata": {},
     "output_type": "execute_result"
    },
    {
     "data": {
      "image/png": "[encoded data removed]",
      "text/plain": [
       "<matplotlib.figure.Figure at 0x12ae0b110>"
      ]
     },
     "metadata": {},
     "output_type": "display_data"
    }
   ],
   "source": [
    "RF.fit(X_train, y_train)\n",
    "y_pred = RF.predict(X)\n",
    "\n",
    "\n",
    "\n",
    "width = 12\n",
    "height = 6\n",
    "\n",
    "\n",
    "fig = plt.figure(figsize=(width, height))\n",
    "\n",
    "ax = fig.add_subplot(111)\n",
    "fig.subplots_adjust(top=0.85)\n",
    "ax.set_title(biomarker)\n",
    "\n",
    "ax.set_xlabel('prediction from model')\n",
    "ax.set_ylabel('actual values')\n",
    "plt.scatter(y_pred, y)\n"
   ]
  },
  {
   "cell_type": "code",
   "execution_count": 338,
   "metadata": {
    "collapsed": false
   },
   "outputs": [
    {
     "data": {
      "text/plain": [
       "<matplotlib.collections.PathCollection at 0x12e309a10>"
      ]
     },
     "execution_count": 338,
     "metadata": {},
     "output_type": "execute_result"
    },
    {
     "data": {
      "image/png": "[encoded data removed]",
      "text/plain": [
       "<matplotlib.figure.Figure at 0x12cb04610>"
      ]
     },
     "metadata": {},
     "output_type": "display_data"
    }
   ],
   "source": [
    "RF.fit(X_train, y_train)\n",
    "y_pred = RF.predict(X)\n",
    "\n",
    "\n",
    "\n",
    "width = 12\n",
    "height = 6\n",
    "\n",
    "\n",
    "fig = plt.figure(figsize=(width, height))\n",
    "\n",
    "ax = fig.add_subplot(111)\n",
    "fig.subplots_adjust(top=0.85)\n",
    "ax.set_title(biomarker)\n",
    "\n",
    "#ax.set_xlabel('prediction from model')\n",
    "ax.set_ylabel('error')\n",
    "plt.scatter(range(len(y_pred)), y_pred - y)\n",
    "\n"
   ]
  },
  {
   "cell_type": "code",
   "execution_count": 296,
   "metadata": {
    "collapsed": false
   },
   "outputs": [
    {
     "data": {
      "text/plain": [
       "<matplotlib.collections.PathCollection at 0x12ac70ed0>"
      ]
     },
     "execution_count": 296,
     "metadata": {},
     "output_type": "execute_result"
    },
    {
     "data": {
      "image/png": "[encoded data removed]",
      "text/plain": [
       "<matplotlib.figure.Figure at 0x12a8b7f90>"
      ]
     },
     "metadata": {},
     "output_type": "display_data"
    }
   ],
   "source": [
    "y_pred = RF.predict(X_test)\n",
    "\n",
    "\n",
    "width = 12\n",
    "height = 6\n",
    "\n",
    "\n",
    "fig = plt.figure(figsize=(width, height))\n",
    "\n",
    "ax = fig.add_subplot(111)\n",
    "fig.subplots_adjust(top=0.85)\n",
    "ax.set_title(biomarker)\n",
    "\n",
    "ax.set_xlabel('prediction from model')\n",
    "ax.set_ylabel('actual values')\n",
    "plt.scatter(y_pred, y_test)"
   ]
  },
  {
   "cell_type": "code",
   "execution_count": 297,
   "metadata": {
    "collapsed": false
   },
   "outputs": [
    {
     "data": {
      "text/plain": [
       "['Stool.Lysozyme',\n",
       " 'Stool.Lactoferrin',\n",
       " 'Stool.SIgA',\n",
       " 'X..SCFA.Acetate',\n",
       " 'X..SCFA.Propionate',\n",
       " 'X..SCFA.Valerate',\n",
       " 'X..SCFA.Butyrate',\n",
       " 'Total.SCFA',\n",
       " 'Butyrate',\n",
       " 'Stool.pH']"
      ]
     },
     "execution_count": 297,
     "metadata": {},
     "output_type": "execute_result"
    }
   ],
   "source": [
    "biomarkers"
   ]
  },
  {
   "cell_type": "code",
   "execution_count": 298,
   "metadata": {
    "collapsed": false
   },
   "outputs": [
    {
     "data": {
      "text/plain": [
       "(30, 187)"
      ]
     },
     "execution_count": 298,
     "metadata": {},
     "output_type": "execute_result"
    }
   ],
   "source": [
    "X.shape"
   ]
  },
  {
   "cell_type": "code",
   "execution_count": 300,
   "metadata": {
    "collapsed": false
   },
   "outputs": [
    {
     "data": {
      "text/plain": [
       "Index([u'microbiome.date', u'Date.collected', u'X',\n",
       "       u'LDL..Low.Density.Lipoprotein...bad.',\n",
       "       u'HDL..High.Density.Lipoprotein...good.', u'Total.Cholesterol',\n",
       "       u'Triglycerides', u'TG.HDL', u'Chol.HDL',\n",
       "       u'High.Sensitivity.CRP..mg.L.',\n",
       "       ...\n",
       "       u'g__Pseudomonas', u'g__.47', u'g__Pseudoxanthomonas',\n",
       "       u'g__Stenotrophomonas', u'g__Pyramidobacter', u'g__Synergistes',\n",
       "       u'g__.48', u'g__.49', u'g__.50', u'g__Akkermansia'],\n",
       "      dtype='object', length=250)"
      ]
     },
     "execution_count": 300,
     "metadata": {},
     "output_type": "execute_result"
    }
   ],
   "source": [
    "df.columns"
   ]
  },
  {
   "cell_type": "code",
   "execution_count": null,
   "metadata": {
    "collapsed": true
   },
   "outputs": [],
   "source": []
  }
 ],
 "metadata": {
  "kernelspec": {
   "display_name": "Python 2",
   "language": "python",
   "name": "python2"
  },
  "language_info": {
   "codemirror_mode": {
    "name": "ipython",
    "version": 2
   },
   "file_extension": ".py",
   "mimetype": "text/x-python",
   "name": "python",
   "nbconvert_exporter": "python",
   "pygments_lexer": "ipython2",
   "version": "2.7.12"
  }
 },
 "nbformat": 4,
 "nbformat_minor": 0
}
