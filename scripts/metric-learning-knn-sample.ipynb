{
 "cells": [
  {
   "cell_type": "code",
   "execution_count": 1,
   "metadata": {
    "collapsed": false
   },
   "outputs": [
    {
     "name": "stderr",
     "output_type": "stream",
     "text": [
      "Vendor:  Continuum Analytics, Inc.\n",
      "Package: mkl\n",
      "Message: trial mode expires in 15 days\n"
     ]
    }
   ],
   "source": [
    "import cvxpy as cvx\n",
    "import pandas as pd\n",
    "from sklearn.ensemble import RandomForestRegressor\n",
    "from sklearn import linear_model\n",
    "from sklearn.linear_model import ElasticNetCV\n",
    "from sklearn.neighbors import KNeighborsRegressor\n",
    "from sklearn.svm import SVR\n",
    "from sklearn.cross_validation import train_test_split\n",
    "from sklearn.grid_search import GridSearchCV\n",
    "from sklearn import cross_validation\n",
    "from sklearn.cross_validation import KFold\n",
    "import numpy as np\n",
    "from scipy.stats import hmean\n",
    "from sklearn import metrics\n",
    "from sklearn.pipeline import Pipeline\n",
    "from FeatureWeights import FeatureWeights\n",
    "import os\n",
    "\n",
    "\n",
    "import matplotlib.pyplot as plt\n",
    "%matplotlib inline"
   ]
  },
  {
   "cell_type": "markdown",
   "metadata": {},
   "source": [
    "##Load data"
   ]
  },
  {
   "cell_type": "code",
   "execution_count": 2,
   "metadata": {
    "collapsed": false
   },
   "outputs": [
    {
     "name": "stdout",
     "output_type": "stream",
     "text": [
      "number of files is 5\n"
     ]
    }
   ],
   "source": [
    "src_path = '../data/'\n",
    "file_types = ('.csv')\n",
    " \n",
    "file_paths = []  \n",
    "for root, dirs, files in os.walk(src_path):\n",
    "    file_paths.extend([os.path.join(root, f) for f in files if f.endswith(file_types)])\n",
    "    \n",
    "print 'number of files is', len(file_paths)"
   ]
  },
  {
   "cell_type": "code",
   "execution_count": 3,
   "metadata": {
    "collapsed": true
   },
   "outputs": [],
   "source": [
    "biomarkers = [\"Stool.Lysozyme\",\n",
    "              \"Stool.Lactoferrin\", \n",
    "              \"Stool.SIgA\",\n",
    "              \"X..SCFA.Acetate\",\n",
    "              \"X..SCFA.Propionate\",\n",
    "              \"X..SCFA.Valerate\",\n",
    "              \"X..SCFA.Butyrate\",\n",
    "              \"Total.SCFA\",\n",
    "              \"Butyrate\",\n",
    "              \"Stool.pH\",\n",
    "              \"Neutrophil.Count\",\n",
    "              \"Lymphocyte.Count\" ,\n",
    "              \"Monocyte.Count\",\n",
    "              \"Esoinophil.Count\"]\n",
    "\n",
    "\n",
    "biomarker = biomarkers[1]\n",
    "#biomarker = \"Neutrophil.Count\""
   ]
  },
  {
   "cell_type": "code",
   "execution_count": 4,
   "metadata": {
    "collapsed": false
   },
   "outputs": [
    {
     "name": "stderr",
     "output_type": "stream",
     "text": [
      "/Users/myazdaniUCSD/anaconda/lib/python2.7/site-packages/pandas/core/frame.py:2378: SettingWithCopyWarning: \n",
      "A value is trying to be set on a copy of a slice from a DataFrame.\n",
      "Try using .loc[row_indexer,col_indexer] = value instead\n",
      "\n",
      "See the caveats in the documentation: http://pandas.pydata.org/pandas-docs/stable/indexing.html#indexing-view-versus-copy\n",
      "  self[k1] = value[k2]\n"
     ]
    }
   ],
   "source": [
    "df = pd.read_csv(file_paths[0])\n",
    "fields = list(df.columns)\n",
    "microbiome_indx = [i for i, field in enumerate(fields) if \"__\" in field]\n",
    "column_names = list(df.columns)\n",
    "target_indx = [i for i, column_name in enumerate(column_names) if column_name == biomarker]\n",
    "df_rel = df.iloc[:,target_indx + range(microbiome_indx[0], df.shape[1])]\n",
    "df_rel[[biomarker]] = df_rel[[biomarker]].apply(lambda x: pd.to_numeric(x, errors = \"coerce\"))\n",
    "df_clean = df_rel.dropna()\n",
    "y = np.array(df_clean[biomarker])\n",
    "X = np.array(df_clean.iloc[:,1:])"
   ]
  },
  {
   "cell_type": "markdown",
   "metadata": {},
   "source": [
    "## Compute pairwise differences"
   ]
  },
  {
   "cell_type": "code",
   "execution_count": 5,
   "metadata": {
    "collapsed": false
   },
   "outputs": [],
   "source": [
    "FW = FeatureWeights()"
   ]
  },
  {
   "cell_type": "code",
   "execution_count": 6,
   "metadata": {
    "collapsed": false
   },
   "outputs": [],
   "source": [
    "X_rel = FW.fit_transform(X, y)"
   ]
  },
  {
   "cell_type": "code",
   "execution_count": 7,
   "metadata": {
    "collapsed": false
   },
   "outputs": [
    {
     "data": {
      "text/plain": [
       "(30, 10)"
      ]
     },
     "execution_count": 7,
     "metadata": {},
     "output_type": "execute_result"
    }
   ],
   "source": [
    "X_rel.shape"
   ]
  },
  {
   "cell_type": "code",
   "execution_count": 8,
   "metadata": {
    "collapsed": false
   },
   "outputs": [
    {
     "data": {
      "text/plain": [
       "array([ 39.54453409,   0.        ,   1.20213033,  55.9488    ,\n",
       "         1.47840005,   0.        ,   3.0704    ,   5.431     ,\n",
       "        11.75973601,  42.2688    ])"
      ]
     },
     "execution_count": 8,
     "metadata": {},
     "output_type": "execute_result"
    }
   ],
   "source": [
    "X_rel[0,:]"
   ]
  },
  {
   "cell_type": "code",
   "execution_count": 10,
   "metadata": {
    "collapsed": true
   },
   "outputs": [],
   "source": [
    "scoring_metric = \"mean_absolute_error\"\n",
    "\n",
    "\n",
    "def CV_scores(regressor, X, y, data_type, estimator_name):\n",
    "    y_n = (y - np.mean(y))/np.std(y)\n",
    "    scores = -1*cross_validation.cross_val_score(regressor, X, y, cv=5, scoring = scoring_metric)\n",
    "    results = {'data': data_type, \"model\": estimator_name, \"Mean score\": np.mean(scores), \"STD score\": np.std(scores)}\n",
    "    return results"
   ]
  },
  {
   "cell_type": "code",
   "execution_count": 11,
   "metadata": {
    "collapsed": false
   },
   "outputs": [
    {
     "data": {
      "text/plain": [
       "{'Mean score': 99.089777777777769,\n",
       " 'STD score': 15.527085886394026,\n",
       " 'data': 'sample',\n",
       " 'model': 'KNN'}"
      ]
     },
     "execution_count": 11,
     "metadata": {},
     "output_type": "execute_result"
    }
   ],
   "source": [
    "FW = FeatureWeights()\n",
    "\n",
    "KNN = GridSearchCV(estimator=KNeighborsRegressor(), param_grid=dict(n_neighbors=range(1,11), p=[1,2]), n_jobs = -1, \n",
    "                           scoring = scoring_metric)        \n",
    "\n",
    "\n",
    "metric_KNN = Pipeline([('metric', FW), ('knn', KNN)])\n",
    "CV_scores(KNN,X, y, data_type = \"sample\", estimator_name = \"KNN\")"
   ]
  },
  {
   "cell_type": "code",
   "execution_count": 12,
   "metadata": {
    "collapsed": false
   },
   "outputs": [
    {
     "data": {
      "text/plain": [
       "{'Mean score': 84.871111111111105,\n",
       " 'STD score': 18.678295547717983,\n",
       " 'data': 'sample',\n",
       " 'model': 'Metric KNN'}"
      ]
     },
     "execution_count": 12,
     "metadata": {},
     "output_type": "execute_result"
    }
   ],
   "source": [
    "CV_scores(metric_KNN,X, y, data_type = \"sample\", estimator_name = \"Metric KNN\")"
   ]
  },
  {
   "cell_type": "code",
   "execution_count": null,
   "metadata": {
    "collapsed": true
   },
   "outputs": [],
   "source": []
  }
 ],
 "metadata": {
  "kernelspec": {
   "display_name": "Python 2",
   "language": "python",
   "name": "python2"
  },
  "language_info": {
   "codemirror_mode": {
    "name": "ipython",
    "version": 2
   },
   "file_extension": ".py",
   "mimetype": "text/x-python",
   "name": "python",
   "nbconvert_exporter": "python",
   "pygments_lexer": "ipython2",
   "version": "2.7.12"
  }
 },
 "nbformat": 4,
 "nbformat_minor": 0
}
